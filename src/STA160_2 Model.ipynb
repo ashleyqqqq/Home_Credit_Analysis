{
 "cells": [
  {
   "cell_type": "markdown",
   "metadata": {},
   "source": [
    "Script 2:\n",
    "- Model introduction\n",
    "- Model performance\n",
    "- Comparison between models"
   ]
  },
  {
   "cell_type": "code",
   "execution_count": 96,
   "metadata": {},
   "outputs": [],
   "source": [
    "import pandas as pd\n",
    "import numpy as np \n",
    "from numpy import loadtxt\n",
    "import warnings\n",
    "import os\n",
    "warnings.filterwarnings(\"ignore\")\n",
    "pd.options.display.max_columns = None\n",
    "\n",
    "import matplotlib.pyplot as plt\n",
    "from IPython.display import display\n",
    "import seaborn as sns\n",
    "\n",
    "from sklearn.preprocessing import LabelEncoder, OneHotEncoder\n",
    "from sklearn.preprocessing import Normalizer\n",
    "from sklearn.ensemble import RandomForestClassifier\n",
    "from sklearn.model_selection import GridSearchCV\n",
    "from sklearn.metrics import confusion_matrix\n",
    "from sklearn import metrics\n",
    "from sklearn.model_selection import train_test_split\n",
    "from sklearn.metrics import precision_recall_curve\n",
    "from sklearn.metrics import average_precision_score\n",
    "from sklearn.svm import LinearSVC\n",
    "from sklearn.svm import SVC\n",
    "from sklearn.neighbors import KNeighborsClassifier\n",
    "from sklearn.ensemble import BaggingClassifier\n",
    "\n",
    "from imblearn.over_sampling import SMOTE, ADASYN\n",
    "\n",
    "#from xgboost import XGBClassifier\n",
    "from xgboost import plot_importance\n",
    "\n",
    "import scipy.cluster.hierarchy as shc\n",
    "#import lightgbm as lgb"
   ]
  },
  {
   "cell_type": "markdown",
   "metadata": {},
   "source": [
    "# 1. Random Forest"
   ]
  },
  {
   "cell_type": "markdown",
   "metadata": {},
   "source": [
    "### Import Data"
   ]
  },
  {
   "cell_type": "code",
   "execution_count": 7,
   "metadata": {},
   "outputs": [
    {
     "data": {
      "text/html": [
       "<div>\n",
       "<style scoped>\n",
       "    .dataframe tbody tr th:only-of-type {\n",
       "        vertical-align: middle;\n",
       "    }\n",
       "\n",
       "    .dataframe tbody tr th {\n",
       "        vertical-align: top;\n",
       "    }\n",
       "\n",
       "    .dataframe thead th {\n",
       "        text-align: right;\n",
       "    }\n",
       "</style>\n",
       "<table border=\"1\" class=\"dataframe\">\n",
       "  <thead>\n",
       "    <tr style=\"text-align: right;\">\n",
       "      <th></th>\n",
       "      <th>SK_ID_CURR</th>\n",
       "      <th>TARGET</th>\n",
       "      <th>NAME_CONTRACT_TYPE</th>\n",
       "      <th>CODE_GENDER</th>\n",
       "      <th>FLAG_OWN_CAR</th>\n",
       "      <th>FLAG_OWN_REALTY</th>\n",
       "      <th>CNT_CHILDREN</th>\n",
       "      <th>AMT_INCOME_TOTAL</th>\n",
       "      <th>AMT_CREDIT</th>\n",
       "      <th>AMT_ANNUITY</th>\n",
       "      <th>...</th>\n",
       "      <th>OBS_60_CNT_SOCIAL_CIRCLE</th>\n",
       "      <th>DEF_60_CNT_SOCIAL_CIRCLE</th>\n",
       "      <th>DAYS_LAST_PHONE_CHANGE</th>\n",
       "      <th>AMT_REQ_CREDIT_BUREAU_HOUR</th>\n",
       "      <th>AMT_REQ_CREDIT_BUREAU_DAY</th>\n",
       "      <th>AMT_REQ_CREDIT_BUREAU_WEEK</th>\n",
       "      <th>AMT_REQ_CREDIT_BUREAU_MON</th>\n",
       "      <th>AMT_REQ_CREDIT_BUREAU_QRT</th>\n",
       "      <th>AMT_REQ_CREDIT_BUREAU_YEAR</th>\n",
       "      <th>DOCUMENT_SUM</th>\n",
       "    </tr>\n",
       "  </thead>\n",
       "  <tbody>\n",
       "    <tr>\n",
       "      <th>0</th>\n",
       "      <td>100002</td>\n",
       "      <td>1</td>\n",
       "      <td>Cash loans</td>\n",
       "      <td>M</td>\n",
       "      <td>N</td>\n",
       "      <td>Y</td>\n",
       "      <td>0</td>\n",
       "      <td>202500.0</td>\n",
       "      <td>406597.5</td>\n",
       "      <td>24700.5</td>\n",
       "      <td>...</td>\n",
       "      <td>2.0</td>\n",
       "      <td>2.0</td>\n",
       "      <td>1134.0</td>\n",
       "      <td>0.0</td>\n",
       "      <td>0.0</td>\n",
       "      <td>0.0</td>\n",
       "      <td>0.0</td>\n",
       "      <td>0.0</td>\n",
       "      <td>1.0</td>\n",
       "      <td>1</td>\n",
       "    </tr>\n",
       "    <tr>\n",
       "      <th>1</th>\n",
       "      <td>100003</td>\n",
       "      <td>0</td>\n",
       "      <td>Cash loans</td>\n",
       "      <td>F</td>\n",
       "      <td>N</td>\n",
       "      <td>N</td>\n",
       "      <td>0</td>\n",
       "      <td>270000.0</td>\n",
       "      <td>1293502.5</td>\n",
       "      <td>35698.5</td>\n",
       "      <td>...</td>\n",
       "      <td>1.0</td>\n",
       "      <td>0.0</td>\n",
       "      <td>828.0</td>\n",
       "      <td>0.0</td>\n",
       "      <td>0.0</td>\n",
       "      <td>0.0</td>\n",
       "      <td>0.0</td>\n",
       "      <td>0.0</td>\n",
       "      <td>0.0</td>\n",
       "      <td>1</td>\n",
       "    </tr>\n",
       "  </tbody>\n",
       "</table>\n",
       "<p>2 rows × 53 columns</p>\n",
       "</div>"
      ],
      "text/plain": [
       "   SK_ID_CURR  TARGET NAME_CONTRACT_TYPE CODE_GENDER FLAG_OWN_CAR  \\\n",
       "0      100002       1         Cash loans           M            N   \n",
       "1      100003       0         Cash loans           F            N   \n",
       "\n",
       "  FLAG_OWN_REALTY  CNT_CHILDREN  AMT_INCOME_TOTAL  AMT_CREDIT  AMT_ANNUITY  \\\n",
       "0               Y             0          202500.0    406597.5      24700.5   \n",
       "1               N             0          270000.0   1293502.5      35698.5   \n",
       "\n",
       "       ...       OBS_60_CNT_SOCIAL_CIRCLE DEF_60_CNT_SOCIAL_CIRCLE  \\\n",
       "0      ...                            2.0                      2.0   \n",
       "1      ...                            1.0                      0.0   \n",
       "\n",
       "  DAYS_LAST_PHONE_CHANGE AMT_REQ_CREDIT_BUREAU_HOUR AMT_REQ_CREDIT_BUREAU_DAY  \\\n",
       "0                 1134.0                        0.0                       0.0   \n",
       "1                  828.0                        0.0                       0.0   \n",
       "\n",
       "  AMT_REQ_CREDIT_BUREAU_WEEK  AMT_REQ_CREDIT_BUREAU_MON  \\\n",
       "0                        0.0                        0.0   \n",
       "1                        0.0                        0.0   \n",
       "\n",
       "   AMT_REQ_CREDIT_BUREAU_QRT  AMT_REQ_CREDIT_BUREAU_YEAR  DOCUMENT_SUM  \n",
       "0                        0.0                         1.0             1  \n",
       "1                        0.0                         0.0             1  \n",
       "\n",
       "[2 rows x 53 columns]"
      ]
     },
     "metadata": {},
     "output_type": "display_data"
    },
    {
     "data": {
      "text/plain": [
       "(307511, 53)"
      ]
     },
     "metadata": {},
     "output_type": "display_data"
    }
   ],
   "source": [
    "df_modified = pd.read_csv('df_modified.csv')\n",
    "display(df_modified.head(2))\n",
    "display(df_modified.shape)"
   ]
  },
  {
   "cell_type": "markdown",
   "metadata": {},
   "source": [
    "### Data Cleaning"
   ]
  },
  {
   "cell_type": "code",
   "execution_count": 8,
   "metadata": {},
   "outputs": [
    {
     "data": {
      "text/html": [
       "<div>\n",
       "<style scoped>\n",
       "    .dataframe tbody tr th:only-of-type {\n",
       "        vertical-align: middle;\n",
       "    }\n",
       "\n",
       "    .dataframe tbody tr th {\n",
       "        vertical-align: top;\n",
       "    }\n",
       "\n",
       "    .dataframe thead th {\n",
       "        text-align: right;\n",
       "    }\n",
       "</style>\n",
       "<table border=\"1\" class=\"dataframe\">\n",
       "  <thead>\n",
       "    <tr style=\"text-align: right;\">\n",
       "      <th></th>\n",
       "      <th>SK_ID_CURR</th>\n",
       "      <th>TARGET</th>\n",
       "      <th>CNT_CHILDREN</th>\n",
       "      <th>AMT_INCOME_TOTAL</th>\n",
       "      <th>AMT_CREDIT</th>\n",
       "      <th>AMT_ANNUITY</th>\n",
       "      <th>AMT_GOODS_PRICE</th>\n",
       "      <th>REGION_POPULATION_RELATIVE</th>\n",
       "      <th>AGE</th>\n",
       "      <th>DAYS_EMPLOYED</th>\n",
       "      <th>...</th>\n",
       "      <th>FLAG_OWN_CAR</th>\n",
       "      <th>FLAG_OWN_REALTY</th>\n",
       "      <th>NAME_TYPE_SUITE</th>\n",
       "      <th>NAME_INCOME_TYPE</th>\n",
       "      <th>NAME_EDUCATION_TYPE</th>\n",
       "      <th>NAME_FAMILY_STATUS</th>\n",
       "      <th>NAME_HOUSING_TYPE</th>\n",
       "      <th>OCCUPATION_TYPE</th>\n",
       "      <th>WEEKDAY_APPR_PROCESS_START</th>\n",
       "      <th>ORGANIZATION_TYPE</th>\n",
       "    </tr>\n",
       "  </thead>\n",
       "  <tbody>\n",
       "    <tr>\n",
       "      <th>0</th>\n",
       "      <td>100002</td>\n",
       "      <td>1</td>\n",
       "      <td>0.0</td>\n",
       "      <td>0.352423</td>\n",
       "      <td>0.707626</td>\n",
       "      <td>0.042988</td>\n",
       "      <td>0.610866</td>\n",
       "      <td>3.272049e-08</td>\n",
       "      <td>0.000045</td>\n",
       "      <td>0.001109</td>\n",
       "      <td>...</td>\n",
       "      <td>0.0</td>\n",
       "      <td>1.0</td>\n",
       "      <td>6.0</td>\n",
       "      <td>7.0</td>\n",
       "      <td>4.0</td>\n",
       "      <td>3.0</td>\n",
       "      <td>1.0</td>\n",
       "      <td>8.0</td>\n",
       "      <td>6.0</td>\n",
       "      <td>5.0</td>\n",
       "    </tr>\n",
       "    <tr>\n",
       "      <th>1</th>\n",
       "      <td>100003</td>\n",
       "      <td>0</td>\n",
       "      <td>0.0</td>\n",
       "      <td>0.155288</td>\n",
       "      <td>0.743946</td>\n",
       "      <td>0.020532</td>\n",
       "      <td>0.649621</td>\n",
       "      <td>2.036573e-09</td>\n",
       "      <td>0.000026</td>\n",
       "      <td>0.000683</td>\n",
       "      <td>...</td>\n",
       "      <td>0.0</td>\n",
       "      <td>0.0</td>\n",
       "      <td>1.0</td>\n",
       "      <td>4.0</td>\n",
       "      <td>1.0</td>\n",
       "      <td>1.0</td>\n",
       "      <td>1.0</td>\n",
       "      <td>3.0</td>\n",
       "      <td>1.0</td>\n",
       "      <td>39.0</td>\n",
       "    </tr>\n",
       "  </tbody>\n",
       "</table>\n",
       "<p>2 rows × 53 columns</p>\n",
       "</div>"
      ],
      "text/plain": [
       "   SK_ID_CURR  TARGET  CNT_CHILDREN  AMT_INCOME_TOTAL  AMT_CREDIT  \\\n",
       "0      100002       1           0.0          0.352423    0.707626   \n",
       "1      100003       0           0.0          0.155288    0.743946   \n",
       "\n",
       "   AMT_ANNUITY  AMT_GOODS_PRICE  REGION_POPULATION_RELATIVE       AGE  \\\n",
       "0     0.042988         0.610866                3.272049e-08  0.000045   \n",
       "1     0.020532         0.649621                2.036573e-09  0.000026   \n",
       "\n",
       "   DAYS_EMPLOYED        ...          FLAG_OWN_CAR  FLAG_OWN_REALTY  \\\n",
       "0       0.001109        ...                   0.0              1.0   \n",
       "1       0.000683        ...                   0.0              0.0   \n",
       "\n",
       "   NAME_TYPE_SUITE  NAME_INCOME_TYPE  NAME_EDUCATION_TYPE  NAME_FAMILY_STATUS  \\\n",
       "0              6.0               7.0                  4.0                 3.0   \n",
       "1              1.0               4.0                  1.0                 1.0   \n",
       "\n",
       "   NAME_HOUSING_TYPE  OCCUPATION_TYPE  WEEKDAY_APPR_PROCESS_START  \\\n",
       "0                1.0              8.0                         6.0   \n",
       "1                1.0              3.0                         1.0   \n",
       "\n",
       "   ORGANIZATION_TYPE  \n",
       "0                5.0  \n",
       "1               39.0  \n",
       "\n",
       "[2 rows x 53 columns]"
      ]
     },
     "metadata": {},
     "output_type": "display_data"
    },
    {
     "data": {
      "text/plain": [
       "(307511, 53)"
      ]
     },
     "metadata": {},
     "output_type": "display_data"
    }
   ],
   "source": [
    "# Convert Categorical Features into Numeric Features\n",
    "ordinal_encoder = OrdinalEncoder()\n",
    "cat_encoded=ordinal_encoder.fit_transform(df_modified.select_dtypes('object'))\n",
    "df_cat_encoded=pd.DataFrame(cat_encoded,columns=df_modified.select_dtypes('object').columns)\n",
    "\n",
    "# Normalize Numeric Data\n",
    "numerics = ['int16', 'int32', 'int64', 'float16', 'float32', 'float64']\n",
    "df_num = df_modified.select_dtypes(include=numerics)\n",
    "df_col = df_num.columns[2:]\n",
    "transformer = Normalizer().fit(df_num.iloc[:,2:])\n",
    "df_index = df_num.iloc[:,0:2]\n",
    "df_num = pd.DataFrame(transformer.transform(df_num.iloc[:,2:]),columns=df_col)\n",
    "\n",
    "# Combine Two Data\n",
    "df_num= pd.concat([df_index, df_num], axis=1, sort=False)\n",
    "df_modified= pd.concat([df_num, df_cat_encoded], axis=1, sort=False)\n",
    "\n",
    "display(df_modified.head(2))\n",
    "display(df_modified.shape)"
   ]
  },
  {
   "cell_type": "markdown",
   "metadata": {},
   "source": [
    "## 1.1 Base Model without Sampling"
   ]
  },
  {
   "cell_type": "markdown",
   "metadata": {},
   "source": [
    "Our base model is the random forest model without sampling the original data."
   ]
  },
  {
   "cell_type": "code",
   "execution_count": 12,
   "metadata": {},
   "outputs": [],
   "source": [
    "# 1. Data Prepariation: denoting X and Y variable\n",
    "Y = np.array(df_modified['TARGET'])\n",
    "X = df_modified.drop('TARGET', axis = 1).iloc[:,1:]\n",
    "feature = list(X.columns)\n",
    "X = np.array(X) \n",
    "\n",
    "# 2. Split data into training and test set: 30% of data is test data, 70% of data is training\n",
    "X_train, X_test, Y_train, Y_test = train_test_split(X, Y, test_size=0.33, random_state=42) \n",
    "\n",
    "# 3. Train the Random Forest on Training Data\n",
    "rf = RandomForestClassifier(n_estimators = 1000, random_state = 42, bootstrap=True, n_jobs=-1, min_samples_split=20, min_samples_leaf=10)\n",
    "rf.fit(X_train, Y_train)\n",
    "\n",
    "Y_pred = rf.predict(X_test)\n",
    "Y_pred_prob = rf.predict_proba(X_test)\n"
   ]
  },
  {
   "cell_type": "code",
   "execution_count": 13,
   "metadata": {},
   "outputs": [
    {
     "data": {
      "text/plain": [
       "0.5"
      ]
     },
     "execution_count": 13,
     "metadata": {},
     "output_type": "execute_result"
    }
   ],
   "source": [
    "# AUC Score\n",
    "metrics.roc_auc_score(Y_test, Y_pred)"
   ]
  },
  {
   "cell_type": "code",
   "execution_count": 14,
   "metadata": {},
   "outputs": [
    {
     "data": {
      "text/plain": [
       "array([[93362,     0],\n",
       "       [ 8117,     0]])"
      ]
     },
     "execution_count": 14,
     "metadata": {},
     "output_type": "execute_result"
    }
   ],
   "source": [
    "# Confusion Matrix\n",
    "confusion_matrix(Y_test, Y_pred)"
   ]
  },
  {
   "cell_type": "code",
   "execution_count": 19,
   "metadata": {},
   "outputs": [],
   "source": [
    "Y_positive_prob = Y_pred_prob[:,1]\n",
    "precision1, recall1, _ = precision_recall_curve(Y_test, Y_positive_prob)"
   ]
  },
  {
   "cell_type": "code",
   "execution_count": 97,
   "metadata": {},
   "outputs": [
    {
     "data": {
      "text/plain": [
       "Text(0.5,1,'Precision-Recall Curve: Original Data')"
      ]
     },
     "execution_count": 97,
     "metadata": {},
     "output_type": "execute_result"
    },
    {
     "data": {
      "image/png": "[encoded data removed]",
      "text/plain": [
       "<Figure size 432x288 with 1 Axes>"
      ]
     },
     "metadata": {},
     "output_type": "display_data"
    }
   ],
   "source": [
    "# Precision-Recall Curve\n",
    "plt.step(recall1, precision1, color='g', alpha=0.2, where='post')\n",
    "plt.xlabel('Recall')\n",
    "plt.ylabel('Precision')\n",
    "plt.title(\"Precision-Recall Curve: Original Data\")"
   ]
  },
  {
   "cell_type": "markdown",
   "metadata": {},
   "source": [
    "## 1.2 Base Model: Up Sampling"
   ]
  },
  {
   "cell_type": "code",
   "execution_count": 21,
   "metadata": {},
   "outputs": [],
   "source": [
    "# 1. Data Prepariation: denoting X and Y variable\n",
    "X = df_modified.drop('TARGET', axis = 1).iloc[:,1:]\n",
    "Y = df_modified['TARGET']\n",
    "feature = list(X.columns)\n",
    "\n",
    "# 2. Split data into training and test set: 30% of data is test data, 70% of data is training \n",
    "X_train, X_test, Y_train, Y_test = train_test_split(X, Y, test_size=0.33, random_state=42)"
   ]
  },
  {
   "cell_type": "code",
   "execution_count": 22,
   "metadata": {},
   "outputs": [],
   "source": [
    "# Up Sampling the train data with the SMOTE\n",
    "X_resampled, Y_resampled = SMOTE().fit_resample(X_train, Y_train)\n",
    "X_resampled = pd.DataFrame(X_resampled,columns = X.columns)\n",
    "Y_resampled = pd.DataFrame(Y_resampled,columns = ['TARGET'])"
   ]
  },
  {
   "cell_type": "code",
   "execution_count": 24,
   "metadata": {},
   "outputs": [],
   "source": [
    "# 3. Train the Random Forest on Training Data\n",
    "rf = RandomForestClassifier(n_estimators = 1000, random_state = 12,bootstrap=True,n_jobs=-1,class_weight='balanced',criterion='entropy' )\n",
    "rf.fit(X_resampled, Y_resampled)\n",
    "\n",
    "Y_pred = rf.predict(X_test)\n",
    "Y_pred_prob = rf.predict_proba(X_test)"
   ]
  },
  {
   "cell_type": "code",
   "execution_count": 25,
   "metadata": {},
   "outputs": [
    {
     "data": {
      "text/plain": [
       "0.9033396072093733"
      ]
     },
     "execution_count": 25,
     "metadata": {},
     "output_type": "execute_result"
    }
   ],
   "source": [
    "# AUC Score\n",
    "metrics.accuracy_score(Y_test, Y_pred)"
   ]
  },
  {
   "cell_type": "code",
   "execution_count": 26,
   "metadata": {},
   "outputs": [
    {
     "data": {
      "text/plain": [
       "array([[91177,  2185],\n",
       "       [ 7624,   493]])"
      ]
     },
     "execution_count": 26,
     "metadata": {},
     "output_type": "execute_result"
    }
   ],
   "source": [
    "# Confusion Matrix\n",
    "confusion_matrix(Y_test, Y_pred)"
   ]
  },
  {
   "cell_type": "code",
   "execution_count": 27,
   "metadata": {},
   "outputs": [],
   "source": [
    "Y_positive_prob = Y_pred_prob[:,1]\n",
    "precision2, recall2, _ = precision_recall_curve(Y_test, Y_positive_prob)"
   ]
  },
  {
   "cell_type": "code",
   "execution_count": 98,
   "metadata": {},
   "outputs": [
    {
     "data": {
      "text/plain": [
       "Text(0.5,1,'Precision-Recall Curve: Up Sampling')"
      ]
     },
     "execution_count": 98,
     "metadata": {},
     "output_type": "execute_result"
    },
    {
     "data": {
      "image/png": "[encoded data removed]",
      "text/plain": [
       "<Figure size 432x288 with 1 Axes>"
      ]
     },
     "metadata": {},
     "output_type": "display_data"
    }
   ],
   "source": [
    "# Precision-Recall Curve\n",
    "plt.step(recall2, precision2, color='y', alpha=0.2, where='post', label='Combined')\n",
    "\n",
    "plt.xlabel('Recall')\n",
    "plt.ylabel('Precision')\n",
    "plt.title('Precision-Recall Curve: Up Sampling')"
   ]
  },
  {
   "cell_type": "markdown",
   "metadata": {},
   "source": [
    "## 1.3 Base Model: Down Sampling"
   ]
  },
  {
   "cell_type": "markdown",
   "metadata": {},
   "source": [
    "Since down sampling on the train data will lead to loss of information, we perform the down sampling for 10 times in Script 3 to get the average resutl. Since we only need one precision-recall curve here, we only perform 1 time of down sampling. The 1 time down sampling has similar result as the average 10 times down sampling."
   ]
  },
  {
   "cell_type": "code",
   "execution_count": 30,
   "metadata": {},
   "outputs": [
    {
     "data": {
      "text/html": [
       "<div>\n",
       "<style scoped>\n",
       "    .dataframe tbody tr th:only-of-type {\n",
       "        vertical-align: middle;\n",
       "    }\n",
       "\n",
       "    .dataframe tbody tr th {\n",
       "        vertical-align: top;\n",
       "    }\n",
       "\n",
       "    .dataframe thead th {\n",
       "        text-align: right;\n",
       "    }\n",
       "</style>\n",
       "<table border=\"1\" class=\"dataframe\">\n",
       "  <thead>\n",
       "    <tr style=\"text-align: right;\">\n",
       "      <th></th>\n",
       "      <th>SK_ID_CURR</th>\n",
       "      <th>TARGET</th>\n",
       "      <th>CNT_CHILDREN</th>\n",
       "      <th>AMT_INCOME_TOTAL</th>\n",
       "      <th>AMT_CREDIT</th>\n",
       "      <th>AMT_ANNUITY</th>\n",
       "      <th>AMT_GOODS_PRICE</th>\n",
       "      <th>REGION_POPULATION_RELATIVE</th>\n",
       "      <th>AGE</th>\n",
       "      <th>DAYS_EMPLOYED</th>\n",
       "      <th>...</th>\n",
       "      <th>FLAG_OWN_CAR</th>\n",
       "      <th>FLAG_OWN_REALTY</th>\n",
       "      <th>NAME_TYPE_SUITE</th>\n",
       "      <th>NAME_INCOME_TYPE</th>\n",
       "      <th>NAME_EDUCATION_TYPE</th>\n",
       "      <th>NAME_FAMILY_STATUS</th>\n",
       "      <th>NAME_HOUSING_TYPE</th>\n",
       "      <th>OCCUPATION_TYPE</th>\n",
       "      <th>WEEKDAY_APPR_PROCESS_START</th>\n",
       "      <th>ORGANIZATION_TYPE</th>\n",
       "    </tr>\n",
       "  </thead>\n",
       "  <tbody>\n",
       "    <tr>\n",
       "      <th>0</th>\n",
       "      <td>215797</td>\n",
       "      <td>0</td>\n",
       "      <td>0.000000</td>\n",
       "      <td>0.058806</td>\n",
       "      <td>0.705677</td>\n",
       "      <td>0.023715</td>\n",
       "      <td>0.705677</td>\n",
       "      <td>1.379573e-08</td>\n",
       "      <td>0.000033</td>\n",
       "      <td>0.000861</td>\n",
       "      <td>...</td>\n",
       "      <td>0.0</td>\n",
       "      <td>1.0</td>\n",
       "      <td>6.0</td>\n",
       "      <td>3.0</td>\n",
       "      <td>1.0</td>\n",
       "      <td>1.0</td>\n",
       "      <td>1.0</td>\n",
       "      <td>18.0</td>\n",
       "      <td>4.0</td>\n",
       "      <td>57.0</td>\n",
       "    </tr>\n",
       "    <tr>\n",
       "      <th>1</th>\n",
       "      <td>390117</td>\n",
       "      <td>0</td>\n",
       "      <td>0.000002</td>\n",
       "      <td>0.258841</td>\n",
       "      <td>0.715436</td>\n",
       "      <td>0.048080</td>\n",
       "      <td>0.647102</td>\n",
       "      <td>1.462655e-08</td>\n",
       "      <td>0.000092</td>\n",
       "      <td>0.003090</td>\n",
       "      <td>...</td>\n",
       "      <td>0.0</td>\n",
       "      <td>1.0</td>\n",
       "      <td>6.0</td>\n",
       "      <td>7.0</td>\n",
       "      <td>4.0</td>\n",
       "      <td>5.0</td>\n",
       "      <td>2.0</td>\n",
       "      <td>18.0</td>\n",
       "      <td>3.0</td>\n",
       "      <td>54.0</td>\n",
       "    </tr>\n",
       "    <tr>\n",
       "      <th>2</th>\n",
       "      <td>140346</td>\n",
       "      <td>0</td>\n",
       "      <td>0.000000</td>\n",
       "      <td>0.310328</td>\n",
       "      <td>0.718968</td>\n",
       "      <td>0.039182</td>\n",
       "      <td>0.620656</td>\n",
       "      <td>1.000056e-07</td>\n",
       "      <td>0.000034</td>\n",
       "      <td>0.001370</td>\n",
       "      <td>...</td>\n",
       "      <td>1.0</td>\n",
       "      <td>1.0</td>\n",
       "      <td>6.0</td>\n",
       "      <td>1.0</td>\n",
       "      <td>1.0</td>\n",
       "      <td>3.0</td>\n",
       "      <td>1.0</td>\n",
       "      <td>3.0</td>\n",
       "      <td>5.0</td>\n",
       "      <td>33.0</td>\n",
       "    </tr>\n",
       "    <tr>\n",
       "      <th>3</th>\n",
       "      <td>244358</td>\n",
       "      <td>0</td>\n",
       "      <td>0.000000</td>\n",
       "      <td>0.467394</td>\n",
       "      <td>0.703387</td>\n",
       "      <td>0.034227</td>\n",
       "      <td>0.534164</td>\n",
       "      <td>2.167816e-08</td>\n",
       "      <td>0.000169</td>\n",
       "      <td>0.004891</td>\n",
       "      <td>...</td>\n",
       "      <td>0.0</td>\n",
       "      <td>1.0</td>\n",
       "      <td>6.0</td>\n",
       "      <td>3.0</td>\n",
       "      <td>4.0</td>\n",
       "      <td>1.0</td>\n",
       "      <td>1.0</td>\n",
       "      <td>18.0</td>\n",
       "      <td>4.0</td>\n",
       "      <td>57.0</td>\n",
       "    </tr>\n",
       "    <tr>\n",
       "      <th>4</th>\n",
       "      <td>440893</td>\n",
       "      <td>0</td>\n",
       "      <td>0.000000</td>\n",
       "      <td>0.061843</td>\n",
       "      <td>0.734034</td>\n",
       "      <td>0.018556</td>\n",
       "      <td>0.676031</td>\n",
       "      <td>8.152679e-09</td>\n",
       "      <td>0.000013</td>\n",
       "      <td>0.002530</td>\n",
       "      <td>...</td>\n",
       "      <td>0.0</td>\n",
       "      <td>0.0</td>\n",
       "      <td>6.0</td>\n",
       "      <td>4.0</td>\n",
       "      <td>1.0</td>\n",
       "      <td>1.0</td>\n",
       "      <td>1.0</td>\n",
       "      <td>10.0</td>\n",
       "      <td>0.0</td>\n",
       "      <td>28.0</td>\n",
       "    </tr>\n",
       "  </tbody>\n",
       "</table>\n",
       "<p>5 rows × 53 columns</p>\n",
       "</div>"
      ],
      "text/plain": [
       "   SK_ID_CURR  TARGET  CNT_CHILDREN  AMT_INCOME_TOTAL  AMT_CREDIT  \\\n",
       "0      215797       0      0.000000          0.058806    0.705677   \n",
       "1      390117       0      0.000002          0.258841    0.715436   \n",
       "2      140346       0      0.000000          0.310328    0.718968   \n",
       "3      244358       0      0.000000          0.467394    0.703387   \n",
       "4      440893       0      0.000000          0.061843    0.734034   \n",
       "\n",
       "   AMT_ANNUITY  AMT_GOODS_PRICE  REGION_POPULATION_RELATIVE       AGE  \\\n",
       "0     0.023715         0.705677                1.379573e-08  0.000033   \n",
       "1     0.048080         0.647102                1.462655e-08  0.000092   \n",
       "2     0.039182         0.620656                1.000056e-07  0.000034   \n",
       "3     0.034227         0.534164                2.167816e-08  0.000169   \n",
       "4     0.018556         0.676031                8.152679e-09  0.000013   \n",
       "\n",
       "   DAYS_EMPLOYED        ...          FLAG_OWN_CAR  FLAG_OWN_REALTY  \\\n",
       "0       0.000861        ...                   0.0              1.0   \n",
       "1       0.003090        ...                   0.0              1.0   \n",
       "2       0.001370        ...                   1.0              1.0   \n",
       "3       0.004891        ...                   0.0              1.0   \n",
       "4       0.002530        ...                   0.0              0.0   \n",
       "\n",
       "   NAME_TYPE_SUITE  NAME_INCOME_TYPE  NAME_EDUCATION_TYPE  NAME_FAMILY_STATUS  \\\n",
       "0              6.0               3.0                  1.0                 1.0   \n",
       "1              6.0               7.0                  4.0                 5.0   \n",
       "2              6.0               1.0                  1.0                 3.0   \n",
       "3              6.0               3.0                  4.0                 1.0   \n",
       "4              6.0               4.0                  1.0                 1.0   \n",
       "\n",
       "   NAME_HOUSING_TYPE  OCCUPATION_TYPE  WEEKDAY_APPR_PROCESS_START  \\\n",
       "0                1.0             18.0                         4.0   \n",
       "1                2.0             18.0                         3.0   \n",
       "2                1.0              3.0                         5.0   \n",
       "3                1.0             18.0                         4.0   \n",
       "4                1.0             10.0                         0.0   \n",
       "\n",
       "   ORGANIZATION_TYPE  \n",
       "0               57.0  \n",
       "1               54.0  \n",
       "2               33.0  \n",
       "3               57.0  \n",
       "4               28.0  \n",
       "\n",
       "[5 rows x 53 columns]"
      ]
     },
     "metadata": {},
     "output_type": "display_data"
    },
    {
     "data": {
      "text/plain": [
       "(49650, 53)"
      ]
     },
     "metadata": {},
     "output_type": "display_data"
    }
   ],
   "source": [
    "# 1 Time Downsampling\n",
    "# Count the number of Target 0 & 1\n",
    "count0, count1 = df_modified.TARGET.value_counts()\n",
    "\n",
    "# Split the Target 0 & 1\n",
    "df_class0 = df_modified[df_modified['TARGET'] == 0]\n",
    "df_class1 = df_modified[df_modified['TARGET'] == 1]\n",
    "\n",
    "# Sample from Target 0\n",
    "df_class0_resample = df_class0.sample(count1)\n",
    "\n",
    "# Combine the Sampled Target 0 & Target 1\n",
    "df_balance = pd.concat([df_class0_resample, df_class1], axis=0).reset_index(drop = True)\n",
    "\n",
    "display(df_balance.head())\n",
    "display(df_balance.shape)"
   ]
  },
  {
   "cell_type": "code",
   "execution_count": 31,
   "metadata": {},
   "outputs": [],
   "source": [
    "# Random Forest\n",
    "# 1. Data Prepariation\n",
    "Y = np.array(df_balance['TARGET'])\n",
    "X = df_balance.drop('TARGET', axis = 1).iloc[:,1:]\n",
    "feature = list(X.columns)\n",
    "X = np.array(X) \n",
    "\n",
    "# 2. Split data into training and test set\n",
    "X_train, X_test, Y_train, Y_test = train_test_split(X, Y, test_size=0.33, random_state=42) \n",
    "\n",
    "# 3. Train the Random Forest on Training Data\n",
    "rf = RandomForestClassifier(n_estimators = 1000, random_state = 42, bootstrap=True, n_jobs=-1, min_samples_split=20, min_samples_leaf=10)\n",
    "rf.fit(X_train, Y_train)\n",
    "\n",
    "Y_pred = rf.predict(X_test)\n",
    "Y_pred_prob = rf.predict_proba(X_test)"
   ]
  },
  {
   "cell_type": "code",
   "execution_count": 32,
   "metadata": {},
   "outputs": [
    {
     "data": {
      "text/plain": [
       "0.640174621733566"
      ]
     },
     "execution_count": 32,
     "metadata": {},
     "output_type": "execute_result"
    }
   ],
   "source": [
    "# AUC score\n",
    "metrics.roc_auc_score(Y_test, Y_pred)"
   ]
  },
  {
   "cell_type": "code",
   "execution_count": 33,
   "metadata": {},
   "outputs": [
    {
     "data": {
      "text/plain": [
       "array([[5463, 2744],\n",
       "       [3151, 5027]])"
      ]
     },
     "execution_count": 33,
     "metadata": {},
     "output_type": "execute_result"
    }
   ],
   "source": [
    "# Confusion Matrix\n",
    "confusion_matrix(Y_test, Y_pred)"
   ]
  },
  {
   "cell_type": "code",
   "execution_count": 34,
   "metadata": {},
   "outputs": [],
   "source": [
    "Y_positive_prob = Y_pred_prob[:,1]\n",
    "precision3, recall3, _ = precision_recall_curve(Y_test, Y_positive_prob)"
   ]
  },
  {
   "cell_type": "code",
   "execution_count": 99,
   "metadata": {},
   "outputs": [
    {
     "data": {
      "text/plain": [
       "Text(0.5,1,'Precision-Recall Curve: Down Sampling')"
      ]
     },
     "execution_count": 99,
     "metadata": {},
     "output_type": "execute_result"
    },
    {
     "data": {
      "image/png": "[encoded data removed]",
      "text/plain": [
       "<Figure size 432x288 with 1 Axes>"
      ]
     },
     "metadata": {},
     "output_type": "display_data"
    }
   ],
   "source": [
    "# Precision-Recall Curve\n",
    "plt.step(recall3, precision3, color='r', alpha=0.2, where='post', label='Down Sampling')\n",
    "\n",
    "plt.xlabel('Recall')\n",
    "plt.ylabel('Precision')\n",
    "plt.title('Precision-Recall Curve: Down Sampling')"
   ]
  },
  {
   "cell_type": "markdown",
   "metadata": {},
   "source": [
    "## Comparison between Base Models"
   ]
  },
  {
   "cell_type": "code",
   "execution_count": 81,
   "metadata": {},
   "outputs": [
    {
     "data": {
      "text/plain": [
       "Text(0.5,1,'Precision-Recall Curve for Random Forest Base Models')"
      ]
     },
     "execution_count": 81,
     "metadata": {},
     "output_type": "execute_result"
    },
    {
     "data": {
      "image/png": "[encoded data removed]",
      "text/plain": [
       "<Figure size 504x360 with 1 Axes>"
      ]
     },
     "metadata": {},
     "output_type": "display_data"
    }
   ],
   "source": [
    "plt.figure(figsize=(7,5))\n",
    "\n",
    "# Precision-Recall Curve\n",
    "plt.step(recall1, precision1, color='g', alpha=0.2, where='post', label='No Sampling')\n",
    "plt.step(recall2, precision2, color='b', alpha=0.2, where='post', label='Up Sampling')\n",
    "plt.step(recall3, precision3, color='r', alpha=0.2, where='post', label='Down Sampling')\n",
    "\n",
    "plt.legend(loc='upper right')\n",
    "\n",
    "plt.xlabel('Recall')\n",
    "plt.ylabel('Precision')\n",
    "plt.title('Precision-Recall Curve for Random Forest Base Models')"
   ]
  },
  {
   "cell_type": "markdown",
   "metadata": {},
   "source": [
    "After comparison, our final base Random Forest model is the model with sampling. "
   ]
  },
  {
   "cell_type": "markdown",
   "metadata": {},
   "source": [
    "### Import New Data"
   ]
  },
  {
   "cell_type": "markdown",
   "metadata": {},
   "source": [
    "Since the originial data does not have enough features to help the classficiation, we added other datasets to our main dataset, dropped the features with zero feature importance score and combined class of categorical features. "
   ]
  },
  {
   "cell_type": "code",
   "execution_count": 62,
   "metadata": {},
   "outputs": [
    {
     "data": {
      "text/html": [
       "<div>\n",
       "<style scoped>\n",
       "    .dataframe tbody tr th:only-of-type {\n",
       "        vertical-align: middle;\n",
       "    }\n",
       "\n",
       "    .dataframe tbody tr th {\n",
       "        vertical-align: top;\n",
       "    }\n",
       "\n",
       "    .dataframe thead th {\n",
       "        text-align: right;\n",
       "    }\n",
       "</style>\n",
       "<table border=\"1\" class=\"dataframe\">\n",
       "  <thead>\n",
       "    <tr style=\"text-align: right;\">\n",
       "      <th></th>\n",
       "      <th>SK_ID_CURR</th>\n",
       "      <th>TARGET</th>\n",
       "      <th>NAME_CONTRACT_TYPE</th>\n",
       "      <th>CODE_GENDER</th>\n",
       "      <th>FLAG_OWN_CAR</th>\n",
       "      <th>FLAG_OWN_REALTY</th>\n",
       "      <th>CNT_CHILDREN</th>\n",
       "      <th>AMT_INCOME_TOTAL</th>\n",
       "      <th>AMT_CREDIT</th>\n",
       "      <th>AMT_ANNUITY</th>\n",
       "      <th>...</th>\n",
       "      <th>STATUS_C_PERC</th>\n",
       "      <th>STATUS_X_PERC</th>\n",
       "      <th>STATUS_2_TO_4_PERC</th>\n",
       "      <th>CHILDREN_RATIO</th>\n",
       "      <th>INCOME_PER_CHLD</th>\n",
       "      <th>EMPLOYED_BIRTH_RATIO</th>\n",
       "      <th>LOAN_INCOME_RATIO</th>\n",
       "      <th>ANNUITY_LENGTH</th>\n",
       "      <th>INCOME_PER_PERSON</th>\n",
       "      <th>ANNUITY_INCOME_PERC</th>\n",
       "    </tr>\n",
       "  </thead>\n",
       "  <tbody>\n",
       "    <tr>\n",
       "      <th>0</th>\n",
       "      <td>100002</td>\n",
       "      <td>1</td>\n",
       "      <td>Cash loans</td>\n",
       "      <td>M</td>\n",
       "      <td>N</td>\n",
       "      <td>Y</td>\n",
       "      <td>0</td>\n",
       "      <td>202500.0</td>\n",
       "      <td>406597.5</td>\n",
       "      <td>24700.5</td>\n",
       "      <td>...</td>\n",
       "      <td>0.209091</td>\n",
       "      <td>0.136364</td>\n",
       "      <td>0.0</td>\n",
       "      <td>0.0</td>\n",
       "      <td>202500.0</td>\n",
       "      <td>0.067329</td>\n",
       "      <td>2.007889</td>\n",
       "      <td>16.461104</td>\n",
       "      <td>12.218500</td>\n",
       "      <td>0.349252</td>\n",
       "    </tr>\n",
       "    <tr>\n",
       "      <th>1</th>\n",
       "      <td>100003</td>\n",
       "      <td>0</td>\n",
       "      <td>Cash loans</td>\n",
       "      <td>F</td>\n",
       "      <td>N</td>\n",
       "      <td>N</td>\n",
       "      <td>0</td>\n",
       "      <td>270000.0</td>\n",
       "      <td>1293502.5</td>\n",
       "      <td>35698.5</td>\n",
       "      <td>...</td>\n",
       "      <td>0.000000</td>\n",
       "      <td>1.000000</td>\n",
       "      <td>0.0</td>\n",
       "      <td>0.0</td>\n",
       "      <td>270000.0</td>\n",
       "      <td>0.070862</td>\n",
       "      <td>4.790750</td>\n",
       "      <td>36.234085</td>\n",
       "      <td>11.813037</td>\n",
       "      <td>0.363615</td>\n",
       "    </tr>\n",
       "    <tr>\n",
       "      <th>2</th>\n",
       "      <td>100004</td>\n",
       "      <td>0</td>\n",
       "      <td>Revolving loans</td>\n",
       "      <td>M</td>\n",
       "      <td>Y</td>\n",
       "      <td>Y</td>\n",
       "      <td>0</td>\n",
       "      <td>67500.0</td>\n",
       "      <td>135000.0</td>\n",
       "      <td>6750.0</td>\n",
       "      <td>...</td>\n",
       "      <td>0.000000</td>\n",
       "      <td>1.000000</td>\n",
       "      <td>0.0</td>\n",
       "      <td>0.0</td>\n",
       "      <td>67500.0</td>\n",
       "      <td>0.011814</td>\n",
       "      <td>2.000000</td>\n",
       "      <td>20.000000</td>\n",
       "      <td>11.119898</td>\n",
       "      <td>0.316225</td>\n",
       "    </tr>\n",
       "    <tr>\n",
       "      <th>3</th>\n",
       "      <td>100006</td>\n",
       "      <td>0</td>\n",
       "      <td>Cash loans</td>\n",
       "      <td>F</td>\n",
       "      <td>N</td>\n",
       "      <td>Y</td>\n",
       "      <td>0</td>\n",
       "      <td>135000.0</td>\n",
       "      <td>312682.5</td>\n",
       "      <td>29686.5</td>\n",
       "      <td>...</td>\n",
       "      <td>0.000000</td>\n",
       "      <td>1.000000</td>\n",
       "      <td>0.0</td>\n",
       "      <td>0.0</td>\n",
       "      <td>135000.0</td>\n",
       "      <td>0.159905</td>\n",
       "      <td>2.316167</td>\n",
       "      <td>10.532818</td>\n",
       "      <td>11.119898</td>\n",
       "      <td>0.468933</td>\n",
       "    </tr>\n",
       "    <tr>\n",
       "      <th>4</th>\n",
       "      <td>100007</td>\n",
       "      <td>0</td>\n",
       "      <td>Cash loans</td>\n",
       "      <td>M</td>\n",
       "      <td>N</td>\n",
       "      <td>Y</td>\n",
       "      <td>0</td>\n",
       "      <td>121500.0</td>\n",
       "      <td>513000.0</td>\n",
       "      <td>21865.5</td>\n",
       "      <td>...</td>\n",
       "      <td>0.000000</td>\n",
       "      <td>1.000000</td>\n",
       "      <td>0.0</td>\n",
       "      <td>0.0</td>\n",
       "      <td>121500.0</td>\n",
       "      <td>0.152418</td>\n",
       "      <td>4.222222</td>\n",
       "      <td>23.461618</td>\n",
       "      <td>11.707678</td>\n",
       "      <td>0.424219</td>\n",
       "    </tr>\n",
       "  </tbody>\n",
       "</table>\n",
       "<p>5 rows × 287 columns</p>\n",
       "</div>"
      ],
      "text/plain": [
       "   SK_ID_CURR  TARGET NAME_CONTRACT_TYPE CODE_GENDER FLAG_OWN_CAR  \\\n",
       "0      100002       1         Cash loans           M            N   \n",
       "1      100003       0         Cash loans           F            N   \n",
       "2      100004       0    Revolving loans           M            Y   \n",
       "3      100006       0         Cash loans           F            N   \n",
       "4      100007       0         Cash loans           M            N   \n",
       "\n",
       "  FLAG_OWN_REALTY  CNT_CHILDREN  AMT_INCOME_TOTAL  AMT_CREDIT  AMT_ANNUITY  \\\n",
       "0               Y             0          202500.0    406597.5      24700.5   \n",
       "1               N             0          270000.0   1293502.5      35698.5   \n",
       "2               Y             0           67500.0    135000.0       6750.0   \n",
       "3               Y             0          135000.0    312682.5      29686.5   \n",
       "4               Y             0          121500.0    513000.0      21865.5   \n",
       "\n",
       "          ...           STATUS_C_PERC STATUS_X_PERC STATUS_2_TO_4_PERC  \\\n",
       "0         ...                0.209091      0.136364                0.0   \n",
       "1         ...                0.000000      1.000000                0.0   \n",
       "2         ...                0.000000      1.000000                0.0   \n",
       "3         ...                0.000000      1.000000                0.0   \n",
       "4         ...                0.000000      1.000000                0.0   \n",
       "\n",
       "  CHILDREN_RATIO INCOME_PER_CHLD EMPLOYED_BIRTH_RATIO  LOAN_INCOME_RATIO  \\\n",
       "0            0.0        202500.0             0.067329           2.007889   \n",
       "1            0.0        270000.0             0.070862           4.790750   \n",
       "2            0.0         67500.0             0.011814           2.000000   \n",
       "3            0.0        135000.0             0.159905           2.316167   \n",
       "4            0.0        121500.0             0.152418           4.222222   \n",
       "\n",
       "   ANNUITY_LENGTH  INCOME_PER_PERSON  ANNUITY_INCOME_PERC  \n",
       "0       16.461104          12.218500             0.349252  \n",
       "1       36.234085          11.813037             0.363615  \n",
       "2       20.000000          11.119898             0.316225  \n",
       "3       10.532818          11.119898             0.468933  \n",
       "4       23.461618          11.707678             0.424219  \n",
       "\n",
       "[5 rows x 287 columns]"
      ]
     },
     "execution_count": 62,
     "metadata": {},
     "output_type": "execute_result"
    }
   ],
   "source": [
    "df_combined = pd.read_csv('combined_clean.csv')\n",
    "\n",
    "df_combined.head()"
   ]
  },
  {
   "cell_type": "markdown",
   "metadata": {},
   "source": [
    "### Data Cleaning"
   ]
  },
  {
   "cell_type": "code",
   "execution_count": 63,
   "metadata": {},
   "outputs": [
    {
     "data": {
      "text/html": [
       "<div>\n",
       "<style scoped>\n",
       "    .dataframe tbody tr th:only-of-type {\n",
       "        vertical-align: middle;\n",
       "    }\n",
       "\n",
       "    .dataframe tbody tr th {\n",
       "        vertical-align: top;\n",
       "    }\n",
       "\n",
       "    .dataframe thead th {\n",
       "        text-align: right;\n",
       "    }\n",
       "</style>\n",
       "<table border=\"1\" class=\"dataframe\">\n",
       "  <thead>\n",
       "    <tr style=\"text-align: right;\">\n",
       "      <th></th>\n",
       "      <th>SK_ID_CURR</th>\n",
       "      <th>TARGET</th>\n",
       "      <th>NAME_CONTRACT_TYPE</th>\n",
       "      <th>CODE_GENDER</th>\n",
       "      <th>FLAG_OWN_CAR</th>\n",
       "      <th>FLAG_OWN_REALTY</th>\n",
       "      <th>CNT_CHILDREN</th>\n",
       "      <th>AMT_INCOME_TOTAL</th>\n",
       "      <th>AMT_CREDIT</th>\n",
       "      <th>AMT_ANNUITY</th>\n",
       "      <th>...</th>\n",
       "      <th>STATUS_0_PERC</th>\n",
       "      <th>STATUS_C_PERC</th>\n",
       "      <th>STATUS_X_PERC</th>\n",
       "      <th>CHILDREN_RATIO</th>\n",
       "      <th>INCOME_PER_CHLD</th>\n",
       "      <th>EMPLOYED_BIRTH_RATIO</th>\n",
       "      <th>LOAN_INCOME_RATIO</th>\n",
       "      <th>ANNUITY_LENGTH</th>\n",
       "      <th>INCOME_PER_PERSON</th>\n",
       "      <th>ANNUITY_INCOME_PERC</th>\n",
       "    </tr>\n",
       "  </thead>\n",
       "  <tbody>\n",
       "    <tr>\n",
       "      <th>0</th>\n",
       "      <td>100002</td>\n",
       "      <td>1</td>\n",
       "      <td>Cash loans</td>\n",
       "      <td>M</td>\n",
       "      <td>N</td>\n",
       "      <td>Y</td>\n",
       "      <td>0</td>\n",
       "      <td>202500.0</td>\n",
       "      <td>406597.5</td>\n",
       "      <td>24700.5</td>\n",
       "      <td>...</td>\n",
       "      <td>0.409091</td>\n",
       "      <td>0.209091</td>\n",
       "      <td>0.136364</td>\n",
       "      <td>0.0</td>\n",
       "      <td>202500.0</td>\n",
       "      <td>0.067329</td>\n",
       "      <td>2.007889</td>\n",
       "      <td>16.461104</td>\n",
       "      <td>12.218500</td>\n",
       "      <td>0.349252</td>\n",
       "    </tr>\n",
       "    <tr>\n",
       "      <th>1</th>\n",
       "      <td>100003</td>\n",
       "      <td>0</td>\n",
       "      <td>Cash loans</td>\n",
       "      <td>F</td>\n",
       "      <td>N</td>\n",
       "      <td>N</td>\n",
       "      <td>0</td>\n",
       "      <td>270000.0</td>\n",
       "      <td>1293502.5</td>\n",
       "      <td>35698.5</td>\n",
       "      <td>...</td>\n",
       "      <td>0.000000</td>\n",
       "      <td>0.000000</td>\n",
       "      <td>1.000000</td>\n",
       "      <td>0.0</td>\n",
       "      <td>270000.0</td>\n",
       "      <td>0.070862</td>\n",
       "      <td>4.790750</td>\n",
       "      <td>36.234085</td>\n",
       "      <td>11.813037</td>\n",
       "      <td>0.363615</td>\n",
       "    </tr>\n",
       "    <tr>\n",
       "      <th>2</th>\n",
       "      <td>100004</td>\n",
       "      <td>0</td>\n",
       "      <td>Revolving loans</td>\n",
       "      <td>M</td>\n",
       "      <td>Y</td>\n",
       "      <td>Y</td>\n",
       "      <td>0</td>\n",
       "      <td>67500.0</td>\n",
       "      <td>135000.0</td>\n",
       "      <td>6750.0</td>\n",
       "      <td>...</td>\n",
       "      <td>0.000000</td>\n",
       "      <td>0.000000</td>\n",
       "      <td>1.000000</td>\n",
       "      <td>0.0</td>\n",
       "      <td>67500.0</td>\n",
       "      <td>0.011814</td>\n",
       "      <td>2.000000</td>\n",
       "      <td>20.000000</td>\n",
       "      <td>11.119898</td>\n",
       "      <td>0.316225</td>\n",
       "    </tr>\n",
       "    <tr>\n",
       "      <th>3</th>\n",
       "      <td>100006</td>\n",
       "      <td>0</td>\n",
       "      <td>Cash loans</td>\n",
       "      <td>F</td>\n",
       "      <td>N</td>\n",
       "      <td>Y</td>\n",
       "      <td>0</td>\n",
       "      <td>135000.0</td>\n",
       "      <td>312682.5</td>\n",
       "      <td>29686.5</td>\n",
       "      <td>...</td>\n",
       "      <td>0.000000</td>\n",
       "      <td>0.000000</td>\n",
       "      <td>1.000000</td>\n",
       "      <td>0.0</td>\n",
       "      <td>135000.0</td>\n",
       "      <td>0.159905</td>\n",
       "      <td>2.316167</td>\n",
       "      <td>10.532818</td>\n",
       "      <td>11.119898</td>\n",
       "      <td>0.468933</td>\n",
       "    </tr>\n",
       "    <tr>\n",
       "      <th>4</th>\n",
       "      <td>100007</td>\n",
       "      <td>0</td>\n",
       "      <td>Cash loans</td>\n",
       "      <td>M</td>\n",
       "      <td>N</td>\n",
       "      <td>Y</td>\n",
       "      <td>0</td>\n",
       "      <td>121500.0</td>\n",
       "      <td>513000.0</td>\n",
       "      <td>21865.5</td>\n",
       "      <td>...</td>\n",
       "      <td>0.000000</td>\n",
       "      <td>0.000000</td>\n",
       "      <td>1.000000</td>\n",
       "      <td>0.0</td>\n",
       "      <td>121500.0</td>\n",
       "      <td>0.152418</td>\n",
       "      <td>4.222222</td>\n",
       "      <td>23.461618</td>\n",
       "      <td>11.707678</td>\n",
       "      <td>0.424219</td>\n",
       "    </tr>\n",
       "  </tbody>\n",
       "</table>\n",
       "<p>5 rows × 263 columns</p>\n",
       "</div>"
      ],
      "text/plain": [
       "   SK_ID_CURR  TARGET NAME_CONTRACT_TYPE CODE_GENDER FLAG_OWN_CAR  \\\n",
       "0      100002       1         Cash loans           M            N   \n",
       "1      100003       0         Cash loans           F            N   \n",
       "2      100004       0    Revolving loans           M            Y   \n",
       "3      100006       0         Cash loans           F            N   \n",
       "4      100007       0         Cash loans           M            N   \n",
       "\n",
       "  FLAG_OWN_REALTY  CNT_CHILDREN  AMT_INCOME_TOTAL  AMT_CREDIT  AMT_ANNUITY  \\\n",
       "0               Y             0          202500.0    406597.5      24700.5   \n",
       "1               N             0          270000.0   1293502.5      35698.5   \n",
       "2               Y             0           67500.0    135000.0       6750.0   \n",
       "3               Y             0          135000.0    312682.5      29686.5   \n",
       "4               Y             0          121500.0    513000.0      21865.5   \n",
       "\n",
       "          ...           STATUS_0_PERC STATUS_C_PERC STATUS_X_PERC  \\\n",
       "0         ...                0.409091      0.209091      0.136364   \n",
       "1         ...                0.000000      0.000000      1.000000   \n",
       "2         ...                0.000000      0.000000      1.000000   \n",
       "3         ...                0.000000      0.000000      1.000000   \n",
       "4         ...                0.000000      0.000000      1.000000   \n",
       "\n",
       "  CHILDREN_RATIO INCOME_PER_CHLD EMPLOYED_BIRTH_RATIO  LOAN_INCOME_RATIO  \\\n",
       "0            0.0        202500.0             0.067329           2.007889   \n",
       "1            0.0        270000.0             0.070862           4.790750   \n",
       "2            0.0         67500.0             0.011814           2.000000   \n",
       "3            0.0        135000.0             0.159905           2.316167   \n",
       "4            0.0        121500.0             0.152418           4.222222   \n",
       "\n",
       "   ANNUITY_LENGTH  INCOME_PER_PERSON  ANNUITY_INCOME_PERC  \n",
       "0       16.461104          12.218500             0.349252  \n",
       "1       36.234085          11.813037             0.363615  \n",
       "2       20.000000          11.119898             0.316225  \n",
       "3       10.532818          11.119898             0.468933  \n",
       "4       23.461618          11.707678             0.424219  \n",
       "\n",
       "[5 rows x 263 columns]"
      ]
     },
     "execution_count": 63,
     "metadata": {},
     "output_type": "execute_result"
    }
   ],
   "source": [
    "# 1. Feature Selection: Remove the feature with zero feature importance score\n",
    "selected_feature = pd.read_csv('random_forest_selection 2.csv')\n",
    "\n",
    "df_combined = df_combined[[col for col in df_combined.columns if col in selected_feature['0'].tolist()]]\n",
    "\n",
    "df_combined.head()"
   ]
  },
  {
   "cell_type": "code",
   "execution_count": 64,
   "metadata": {},
   "outputs": [
    {
     "data": {
      "text/html": [
       "<div>\n",
       "<style scoped>\n",
       "    .dataframe tbody tr th:only-of-type {\n",
       "        vertical-align: middle;\n",
       "    }\n",
       "\n",
       "    .dataframe tbody tr th {\n",
       "        vertical-align: top;\n",
       "    }\n",
       "\n",
       "    .dataframe thead th {\n",
       "        text-align: right;\n",
       "    }\n",
       "</style>\n",
       "<table border=\"1\" class=\"dataframe\">\n",
       "  <thead>\n",
       "    <tr style=\"text-align: right;\">\n",
       "      <th></th>\n",
       "      <th>SK_ID_CURR</th>\n",
       "      <th>TARGET</th>\n",
       "      <th>CNT_CHILDREN</th>\n",
       "      <th>AMT_INCOME_TOTAL</th>\n",
       "      <th>AMT_CREDIT</th>\n",
       "      <th>AMT_ANNUITY</th>\n",
       "      <th>AMT_GOODS_PRICE</th>\n",
       "      <th>AGE</th>\n",
       "      <th>DAYS_EMPLOYED</th>\n",
       "      <th>DAYS_REGISTRATION</th>\n",
       "      <th>...</th>\n",
       "      <th>NAME_CLIENT_TYPE_Pre</th>\n",
       "      <th>NAME_GOODS_CATEGORY_Pre</th>\n",
       "      <th>NAME_PORTFOLIO_Pre</th>\n",
       "      <th>NAME_PRODUCT_TYPE_Pre</th>\n",
       "      <th>CHANNEL_TYPE_Pre</th>\n",
       "      <th>NAME_SELLER_INDUSTRY_Pre</th>\n",
       "      <th>NAME_YIELD_GROUP_Pre</th>\n",
       "      <th>PRODUCT_COMBINATION_Pre</th>\n",
       "      <th>CREDIT_ACTIVE_MAX</th>\n",
       "      <th>CREDIT_TYPE_MAX</th>\n",
       "    </tr>\n",
       "  </thead>\n",
       "  <tbody>\n",
       "    <tr>\n",
       "      <th>0</th>\n",
       "      <td>100002</td>\n",
       "      <td>1</td>\n",
       "      <td>0.0</td>\n",
       "      <td>0.191107</td>\n",
       "      <td>0.383721</td>\n",
       "      <td>0.023311</td>\n",
       "      <td>0.331252</td>\n",
       "      <td>0.000025</td>\n",
       "      <td>0.000601</td>\n",
       "      <td>0.003443</td>\n",
       "      <td>...</td>\n",
       "      <td>0.0</td>\n",
       "      <td>23.0</td>\n",
       "      <td>3.0</td>\n",
       "      <td>0.0</td>\n",
       "      <td>7.0</td>\n",
       "      <td>0.0</td>\n",
       "      <td>29.0</td>\n",
       "      <td>15.0</td>\n",
       "      <td>2.0</td>\n",
       "      <td>3.0</td>\n",
       "    </tr>\n",
       "    <tr>\n",
       "      <th>1</th>\n",
       "      <td>100003</td>\n",
       "      <td>0</td>\n",
       "      <td>0.0</td>\n",
       "      <td>0.061659</td>\n",
       "      <td>0.295393</td>\n",
       "      <td>0.008152</td>\n",
       "      <td>0.257940</td>\n",
       "      <td>0.000011</td>\n",
       "      <td>0.000271</td>\n",
       "      <td>0.000271</td>\n",
       "      <td>...</td>\n",
       "      <td>1.0</td>\n",
       "      <td>1361.0</td>\n",
       "      <td>3.0</td>\n",
       "      <td>0.0</td>\n",
       "      <td>107.0</td>\n",
       "      <td>243.0</td>\n",
       "      <td>30.0</td>\n",
       "      <td>3605.0</td>\n",
       "      <td>2.0</td>\n",
       "      <td>3.0</td>\n",
       "    </tr>\n",
       "    <tr>\n",
       "      <th>2</th>\n",
       "      <td>100004</td>\n",
       "      <td>0</td>\n",
       "      <td>0.0</td>\n",
       "      <td>0.270375</td>\n",
       "      <td>0.540750</td>\n",
       "      <td>0.027037</td>\n",
       "      <td>0.540750</td>\n",
       "      <td>0.000208</td>\n",
       "      <td>0.000901</td>\n",
       "      <td>0.017064</td>\n",
       "      <td>...</td>\n",
       "      <td>0.0</td>\n",
       "      <td>17.0</td>\n",
       "      <td>3.0</td>\n",
       "      <td>0.0</td>\n",
       "      <td>6.0</td>\n",
       "      <td>2.0</td>\n",
       "      <td>30.0</td>\n",
       "      <td>14.0</td>\n",
       "      <td>2.0</td>\n",
       "      <td>2.0</td>\n",
       "    </tr>\n",
       "    <tr>\n",
       "      <th>3</th>\n",
       "      <td>100006</td>\n",
       "      <td>0</td>\n",
       "      <td>0.0</td>\n",
       "      <td>0.025084</td>\n",
       "      <td>0.058099</td>\n",
       "      <td>0.005516</td>\n",
       "      <td>0.055185</td>\n",
       "      <td>0.000010</td>\n",
       "      <td>0.000565</td>\n",
       "      <td>0.001827</td>\n",
       "      <td>...</td>\n",
       "      <td>2.0</td>\n",
       "      <td>25.0</td>\n",
       "      <td>27.0</td>\n",
       "      <td>0.0</td>\n",
       "      <td>5.0</td>\n",
       "      <td>10.0</td>\n",
       "      <td>0.0</td>\n",
       "      <td>4315.0</td>\n",
       "      <td>4.0</td>\n",
       "      <td>12.0</td>\n",
       "    </tr>\n",
       "    <tr>\n",
       "      <th>4</th>\n",
       "      <td>100007</td>\n",
       "      <td>0</td>\n",
       "      <td>0.0</td>\n",
       "      <td>0.055153</td>\n",
       "      <td>0.232867</td>\n",
       "      <td>0.009925</td>\n",
       "      <td>0.232867</td>\n",
       "      <td>0.000025</td>\n",
       "      <td>0.001379</td>\n",
       "      <td>0.001957</td>\n",
       "      <td>...</td>\n",
       "      <td>2.0</td>\n",
       "      <td>25.0</td>\n",
       "      <td>2.0</td>\n",
       "      <td>6.0</td>\n",
       "      <td>4.0</td>\n",
       "      <td>4.0</td>\n",
       "      <td>22.0</td>\n",
       "      <td>8.0</td>\n",
       "      <td>2.0</td>\n",
       "      <td>2.0</td>\n",
       "    </tr>\n",
       "  </tbody>\n",
       "</table>\n",
       "<p>5 rows × 263 columns</p>\n",
       "</div>"
      ],
      "text/plain": [
       "   SK_ID_CURR  TARGET  CNT_CHILDREN  AMT_INCOME_TOTAL  AMT_CREDIT  \\\n",
       "0      100002       1           0.0          0.191107    0.383721   \n",
       "1      100003       0           0.0          0.061659    0.295393   \n",
       "2      100004       0           0.0          0.270375    0.540750   \n",
       "3      100006       0           0.0          0.025084    0.058099   \n",
       "4      100007       0           0.0          0.055153    0.232867   \n",
       "\n",
       "   AMT_ANNUITY  AMT_GOODS_PRICE       AGE  DAYS_EMPLOYED  DAYS_REGISTRATION  \\\n",
       "0     0.023311         0.331252  0.000025       0.000601           0.003443   \n",
       "1     0.008152         0.257940  0.000011       0.000271           0.000271   \n",
       "2     0.027037         0.540750  0.000208       0.000901           0.017064   \n",
       "3     0.005516         0.055185  0.000010       0.000565           0.001827   \n",
       "4     0.009925         0.232867  0.000025       0.001379           0.001957   \n",
       "\n",
       "        ...         NAME_CLIENT_TYPE_Pre  NAME_GOODS_CATEGORY_Pre  \\\n",
       "0       ...                          0.0                     23.0   \n",
       "1       ...                          1.0                   1361.0   \n",
       "2       ...                          0.0                     17.0   \n",
       "3       ...                          2.0                     25.0   \n",
       "4       ...                          2.0                     25.0   \n",
       "\n",
       "   NAME_PORTFOLIO_Pre  NAME_PRODUCT_TYPE_Pre  CHANNEL_TYPE_Pre  \\\n",
       "0                 3.0                    0.0               7.0   \n",
       "1                 3.0                    0.0             107.0   \n",
       "2                 3.0                    0.0               6.0   \n",
       "3                27.0                    0.0               5.0   \n",
       "4                 2.0                    6.0               4.0   \n",
       "\n",
       "   NAME_SELLER_INDUSTRY_Pre  NAME_YIELD_GROUP_Pre  PRODUCT_COMBINATION_Pre  \\\n",
       "0                       0.0                  29.0                     15.0   \n",
       "1                     243.0                  30.0                   3605.0   \n",
       "2                       2.0                  30.0                     14.0   \n",
       "3                      10.0                   0.0                   4315.0   \n",
       "4                       4.0                  22.0                      8.0   \n",
       "\n",
       "   CREDIT_ACTIVE_MAX  CREDIT_TYPE_MAX  \n",
       "0                2.0              3.0  \n",
       "1                2.0              3.0  \n",
       "2                2.0              2.0  \n",
       "3                4.0             12.0  \n",
       "4                2.0              2.0  \n",
       "\n",
       "[5 rows x 263 columns]"
      ]
     },
     "metadata": {},
     "output_type": "display_data"
    },
    {
     "data": {
      "text/plain": [
       "(307511, 263)"
      ]
     },
     "metadata": {},
     "output_type": "display_data"
    }
   ],
   "source": [
    "# 2. Change categorical variable\n",
    "ordinal_encoder = OrdinalEncoder()\n",
    "cat_encoded = ordinal_encoder.fit_transform(df_combined.select_dtypes('object'))\n",
    "df_cat_encoded = pd.DataFrame(cat_encoded, columns = df_combined.select_dtypes('object').columns)\n",
    "\n",
    "# 3. Normalize numeric variables\n",
    "numerics = ['int16', 'int32', 'int64', 'float16', 'float32', 'float64']\n",
    "df_num = df_combined.select_dtypes(include = numerics)\n",
    "df_col = df_num.columns[2:]\n",
    "transformer = Normalizer().fit(df_num.iloc[:,2:])\n",
    "df_index = df_num.iloc[:,0:2]\n",
    "df_num = pd.DataFrame(transformer.transform(df_num.iloc[:,2:]),columns=df_col)\n",
    "\n",
    "# 4. Combine Data\n",
    "df_num= pd.concat([df_index, df_num], axis=1, sort=False)\n",
    "df_combined = pd.concat([df_num, df_cat_encoded], axis=1, sort=False) \n",
    "\n",
    "display(df_combined.head())\n",
    "display(df_combined.shape)"
   ]
  },
  {
   "cell_type": "markdown",
   "metadata": {},
   "source": [
    "## 1.4 Improved Model: Up Sampling"
   ]
  },
  {
   "cell_type": "code",
   "execution_count": 65,
   "metadata": {},
   "outputs": [],
   "source": [
    "# 1. Data Prepariation: denoting X and Y variable\n",
    "X = df_combined.drop('TARGET', axis = 1).iloc[:,1:]\n",
    "Y = df_combined['TARGET']\n",
    "feature = list(X.columns)\n",
    "\n",
    "# 2. Split data into training and test set: 30% of data is test data, 70% of data is training \n",
    "X_train, X_test, Y_train, Y_test = train_test_split(X, Y, test_size=0.33, random_state=42)"
   ]
  },
  {
   "cell_type": "code",
   "execution_count": 66,
   "metadata": {},
   "outputs": [],
   "source": [
    "# Up Sampling\n",
    "X_resampled, Y_resampled = SMOTE().fit_resample(X_train, Y_train)\n",
    "X_resampled = pd.DataFrame(X_resampled,columns = X.columns)\n",
    "Y_resampled = pd.DataFrame(Y_resampled,columns = ['TARGET'])"
   ]
  },
  {
   "cell_type": "code",
   "execution_count": 67,
   "metadata": {},
   "outputs": [
    {
     "data": {
      "text/plain": [
       "(378648, 261)"
      ]
     },
     "execution_count": 67,
     "metadata": {},
     "output_type": "execute_result"
    }
   ],
   "source": [
    "X_resampled.shape"
   ]
  },
  {
   "cell_type": "code",
   "execution_count": 68,
   "metadata": {},
   "outputs": [],
   "source": [
    "# 3. Train the Random Forest on Training Data\n",
    "rf = RandomForestClassifier(n_estimators = 1000, random_state = 12,bootstrap=True,n_jobs=-1,class_weight='balanced',criterion='entropy' )\n",
    "rf.fit(X_resampled, Y_resampled)\n",
    "\n",
    "Y_pred = rf.predict(X_test)\n",
    "Y_pred_prob = rf.predict_proba(X_test)"
   ]
  },
  {
   "cell_type": "code",
   "execution_count": 69,
   "metadata": {},
   "outputs": [
    {
     "data": {
      "text/plain": [
       "0.9100207924792322"
      ]
     },
     "execution_count": 69,
     "metadata": {},
     "output_type": "execute_result"
    }
   ],
   "source": [
    "# AUC Socre\n",
    "metrics.accuracy_score(Y_test, Y_pred)"
   ]
  },
  {
   "cell_type": "code",
   "execution_count": 70,
   "metadata": {},
   "outputs": [
    {
     "data": {
      "text/plain": [
       "array([[91992,  1370],\n",
       "       [ 7761,   356]])"
      ]
     },
     "execution_count": 70,
     "metadata": {},
     "output_type": "execute_result"
    }
   ],
   "source": [
    "# Confusion Matrix\n",
    "confusion_matrix(Y_test, Y_pred)"
   ]
  },
  {
   "cell_type": "code",
   "execution_count": 71,
   "metadata": {},
   "outputs": [],
   "source": [
    "Y_positive_prob = Y_pred_prob[:,1]\n",
    "precision4, recall4, _ = precision_recall_curve(Y_test, Y_positive_prob)"
   ]
  },
  {
   "cell_type": "code",
   "execution_count": 73,
   "metadata": {},
   "outputs": [
    {
     "data": {
      "text/plain": [
       "Text(0.5,1,'Precision-Recall Curve: Improved Up Sampling')"
      ]
     },
     "execution_count": 73,
     "metadata": {},
     "output_type": "execute_result"
    },
    {
     "data": {
      "image/png": "[encoded data removed]",
      "text/plain": [
       "<Figure size 432x288 with 1 Axes>"
      ]
     },
     "metadata": {},
     "output_type": "display_data"
    }
   ],
   "source": [
    "# Precision-Recall Curve\n",
    "plt.step(recall4, precision4, color='y', alpha=0.2, where='post', label='Up Sampling')\n",
    "\n",
    "plt.xlabel('Recall')\n",
    "plt.ylabel('Precision')\n",
    "plt.title('Precision-Recall Curve: Improved Up Sampling')"
   ]
  },
  {
   "cell_type": "markdown",
   "metadata": {},
   "source": [
    "## 1.5 Improved Model: Down Sampling"
   ]
  },
  {
   "cell_type": "code",
   "execution_count": 88,
   "metadata": {},
   "outputs": [
    {
     "data": {
      "text/html": [
       "<div>\n",
       "<style scoped>\n",
       "    .dataframe tbody tr th:only-of-type {\n",
       "        vertical-align: middle;\n",
       "    }\n",
       "\n",
       "    .dataframe tbody tr th {\n",
       "        vertical-align: top;\n",
       "    }\n",
       "\n",
       "    .dataframe thead th {\n",
       "        text-align: right;\n",
       "    }\n",
       "</style>\n",
       "<table border=\"1\" class=\"dataframe\">\n",
       "  <thead>\n",
       "    <tr style=\"text-align: right;\">\n",
       "      <th></th>\n",
       "      <th>SK_ID_CURR</th>\n",
       "      <th>TARGET</th>\n",
       "      <th>CNT_CHILDREN</th>\n",
       "      <th>AMT_INCOME_TOTAL</th>\n",
       "      <th>AMT_CREDIT</th>\n",
       "      <th>AMT_ANNUITY</th>\n",
       "      <th>AMT_GOODS_PRICE</th>\n",
       "      <th>AGE</th>\n",
       "      <th>DAYS_EMPLOYED</th>\n",
       "      <th>DAYS_REGISTRATION</th>\n",
       "      <th>DAYS_ID_PUBLISH</th>\n",
       "      <th>FLAG_MOBIL</th>\n",
       "      <th>FLAG_EMP_PHONE</th>\n",
       "      <th>FLAG_WORK_PHONE</th>\n",
       "      <th>FLAG_CONT_MOBILE</th>\n",
       "      <th>FLAG_PHONE</th>\n",
       "      <th>FLAG_EMAIL</th>\n",
       "      <th>CNT_FAM_MEMBERS</th>\n",
       "      <th>REGION_RATING_CLIENT</th>\n",
       "      <th>REGION_RATING_CLIENT_W_CITY</th>\n",
       "      <th>HOUR_APPR_PROCESS_START</th>\n",
       "      <th>REG_REGION_NOT_LIVE_REGION</th>\n",
       "      <th>REG_REGION_NOT_WORK_REGION</th>\n",
       "      <th>LIVE_REGION_NOT_WORK_REGION</th>\n",
       "      <th>REG_CITY_NOT_LIVE_CITY</th>\n",
       "      <th>REG_CITY_NOT_WORK_CITY</th>\n",
       "      <th>LIVE_CITY_NOT_WORK_CITY</th>\n",
       "      <th>EXT_SOURCE_2</th>\n",
       "      <th>EXT_SOURCE_3</th>\n",
       "      <th>OBS_30_CNT_SOCIAL_CIRCLE</th>\n",
       "      <th>DEF_30_CNT_SOCIAL_CIRCLE</th>\n",
       "      <th>OBS_60_CNT_SOCIAL_CIRCLE</th>\n",
       "      <th>DEF_60_CNT_SOCIAL_CIRCLE</th>\n",
       "      <th>DAYS_LAST_PHONE_CHANGE</th>\n",
       "      <th>FLAG_DOCUMENT_3</th>\n",
       "      <th>FLAG_DOCUMENT_5</th>\n",
       "      <th>FLAG_DOCUMENT_6</th>\n",
       "      <th>FLAG_DOCUMENT_8</th>\n",
       "      <th>FLAG_DOCUMENT_9</th>\n",
       "      <th>FLAG_DOCUMENT_11</th>\n",
       "      <th>FLAG_DOCUMENT_13</th>\n",
       "      <th>FLAG_DOCUMENT_14</th>\n",
       "      <th>FLAG_DOCUMENT_16</th>\n",
       "      <th>FLAG_DOCUMENT_18</th>\n",
       "      <th>AMT_REQ_CREDIT_BUREAU_HOUR</th>\n",
       "      <th>AMT_REQ_CREDIT_BUREAU_DAY</th>\n",
       "      <th>AMT_REQ_CREDIT_BUREAU_WEEK</th>\n",
       "      <th>AMT_REQ_CREDIT_BUREAU_MON</th>\n",
       "      <th>AMT_REQ_CREDIT_BUREAU_QRT</th>\n",
       "      <th>AMT_REQ_CREDIT_BUREAU_YEAR</th>\n",
       "      <th>AMT_ANNUITY_Pre_mean</th>\n",
       "      <th>AMT_APPLICATION_Pre_mean</th>\n",
       "      <th>AMT_CREDIT_Pre_mean</th>\n",
       "      <th>AMT_GOODS_PRICE_Pre_mean</th>\n",
       "      <th>HOUR_APPR_PROCESS_START_Pre_mean</th>\n",
       "      <th>NFLAG_LAST_APPL_IN_DAY_Pre_mean</th>\n",
       "      <th>DAYS_DECISION_Pre_mean</th>\n",
       "      <th>SELLERPLACE_AREA_Pre_mean</th>\n",
       "      <th>CNT_PAYMENT_Pre_mean</th>\n",
       "      <th>AMT_ANNUITY_Pre_min</th>\n",
       "      <th>AMT_APPLICATION_Pre_min</th>\n",
       "      <th>AMT_CREDIT_Pre_min</th>\n",
       "      <th>AMT_GOODS_PRICE_Pre_min</th>\n",
       "      <th>HOUR_APPR_PROCESS_START_Pre_min</th>\n",
       "      <th>NFLAG_LAST_APPL_IN_DAY_Pre_min</th>\n",
       "      <th>DAYS_DECISION_Pre_min</th>\n",
       "      <th>SELLERPLACE_AREA_Pre_min</th>\n",
       "      <th>CNT_PAYMENT_Pre_min</th>\n",
       "      <th>AMT_ANNUITY_Pre_max</th>\n",
       "      <th>AMT_APPLICATION_Pre_max</th>\n",
       "      <th>AMT_CREDIT_Pre_max</th>\n",
       "      <th>AMT_GOODS_PRICE_Pre_max</th>\n",
       "      <th>HOUR_APPR_PROCESS_START_Pre_max</th>\n",
       "      <th>NFLAG_LAST_APPL_IN_DAY_Pre_max</th>\n",
       "      <th>DAYS_DECISION_Pre_max</th>\n",
       "      <th>SELLERPLACE_AREA_Pre_max</th>\n",
       "      <th>CNT_PAYMENT_Pre_max</th>\n",
       "      <th>AMT_ANNUITY_Pre_sum</th>\n",
       "      <th>AMT_APPLICATION_Pre_sum</th>\n",
       "      <th>AMT_CREDIT_Pre_sum</th>\n",
       "      <th>AMT_GOODS_PRICE_Pre_sum</th>\n",
       "      <th>HOUR_APPR_PROCESS_START_Pre_sum</th>\n",
       "      <th>NFLAG_LAST_APPL_IN_DAY_Pre_sum</th>\n",
       "      <th>DAYS_DECISION_Pre_sum</th>\n",
       "      <th>SELLERPLACE_AREA_Pre_sum</th>\n",
       "      <th>CNT_PAYMENT_Pre_sum</th>\n",
       "      <th>DAYS_INSTALMENT_Ins_mean</th>\n",
       "      <th>DAYS_ENTRY_PAYMENT_Ins_mean</th>\n",
       "      <th>AMT_INSTALMENT_Ins_mean</th>\n",
       "      <th>AMT_PAYMENT_Ins_mean</th>\n",
       "      <th>Own_payment_Ins_mean</th>\n",
       "      <th>payday_before_dueday_Ins_mean</th>\n",
       "      <th>DAYS_INSTALMENT_Ins_min</th>\n",
       "      <th>DAYS_ENTRY_PAYMENT_Ins_min</th>\n",
       "      <th>AMT_INSTALMENT_Ins_min</th>\n",
       "      <th>AMT_PAYMENT_Ins_min</th>\n",
       "      <th>Own_payment_Ins_min</th>\n",
       "      <th>payday_before_dueday_Ins_min</th>\n",
       "      <th>DAYS_INSTALMENT_Ins_max</th>\n",
       "      <th>DAYS_ENTRY_PAYMENT_Ins_max</th>\n",
       "      <th>AMT_INSTALMENT_Ins_max</th>\n",
       "      <th>AMT_PAYMENT_Ins_max</th>\n",
       "      <th>Own_payment_Ins_max</th>\n",
       "      <th>payday_before_dueday_Ins_max</th>\n",
       "      <th>DAYS_INSTALMENT_Ins_sum</th>\n",
       "      <th>DAYS_ENTRY_PAYMENT_Ins_sum</th>\n",
       "      <th>AMT_INSTALMENT_Ins_sum</th>\n",
       "      <th>AMT_PAYMENT_Ins_sum</th>\n",
       "      <th>Own_payment_Ins_sum</th>\n",
       "      <th>payday_before_dueday_Ins_sum</th>\n",
       "      <th>MONTHS_BALANCE_Cre_mean</th>\n",
       "      <th>AMT_BALANCE_Cre_mean</th>\n",
       "      <th>AMT_CREDIT_LIMIT_ACTUAL_Cre_mean</th>\n",
       "      <th>AMT_DRAWINGS_ATM_CURRENT_Cre_mean</th>\n",
       "      <th>AMT_DRAWINGS_CURRENT_Cre_mean</th>\n",
       "      <th>AMT_DRAWINGS_OTHER_CURRENT_Cre_mean</th>\n",
       "      <th>AMT_DRAWINGS_POS_CURRENT_Cre_mean</th>\n",
       "      <th>AMT_INST_MIN_REGULARITY_Cre_mean</th>\n",
       "      <th>AMT_PAYMENT_CURRENT_Cre_mean</th>\n",
       "      <th>AMT_PAYMENT_TOTAL_CURRENT_Cre_mean</th>\n",
       "      <th>AMT_RECEIVABLE_PRINCIPAL_Cre_mean</th>\n",
       "      <th>AMT_RECIVABLE_Cre_mean</th>\n",
       "      <th>AMT_TOTAL_RECEIVABLE_Cre_mean</th>\n",
       "      <th>CNT_DRAWINGS_ATM_CURRENT_Cre_mean</th>\n",
       "      <th>CNT_DRAWINGS_CURRENT_Cre_mean</th>\n",
       "      <th>CNT_DRAWINGS_POS_CURRENT_Cre_mean</th>\n",
       "      <th>CNT_INSTALMENT_MATURE_CUM_Cre_mean</th>\n",
       "      <th>SK_DPD_Cre_mean</th>\n",
       "      <th>MONTHS_BALANCE_Cre_min</th>\n",
       "      <th>AMT_BALANCE_Cre_min</th>\n",
       "      <th>AMT_CREDIT_LIMIT_ACTUAL_Cre_min</th>\n",
       "      <th>AMT_DRAWINGS_ATM_CURRENT_Cre_min</th>\n",
       "      <th>AMT_DRAWINGS_CURRENT_Cre_min</th>\n",
       "      <th>AMT_DRAWINGS_POS_CURRENT_Cre_min</th>\n",
       "      <th>AMT_INST_MIN_REGULARITY_Cre_min</th>\n",
       "      <th>AMT_PAYMENT_CURRENT_Cre_min</th>\n",
       "      <th>AMT_PAYMENT_TOTAL_CURRENT_Cre_min</th>\n",
       "      <th>AMT_RECEIVABLE_PRINCIPAL_Cre_min</th>\n",
       "      <th>AMT_RECIVABLE_Cre_min</th>\n",
       "      <th>AMT_TOTAL_RECEIVABLE_Cre_min</th>\n",
       "      <th>CNT_DRAWINGS_ATM_CURRENT_Cre_min</th>\n",
       "      <th>CNT_DRAWINGS_CURRENT_Cre_min</th>\n",
       "      <th>CNT_DRAWINGS_POS_CURRENT_Cre_min</th>\n",
       "      <th>CNT_INSTALMENT_MATURE_CUM_Cre_min</th>\n",
       "      <th>MONTHS_BALANCE_Cre_max</th>\n",
       "      <th>AMT_BALANCE_Cre_max</th>\n",
       "      <th>AMT_CREDIT_LIMIT_ACTUAL_Cre_max</th>\n",
       "      <th>AMT_DRAWINGS_ATM_CURRENT_Cre_max</th>\n",
       "      <th>AMT_DRAWINGS_CURRENT_Cre_max</th>\n",
       "      <th>AMT_DRAWINGS_OTHER_CURRENT_Cre_max</th>\n",
       "      <th>AMT_DRAWINGS_POS_CURRENT_Cre_max</th>\n",
       "      <th>AMT_INST_MIN_REGULARITY_Cre_max</th>\n",
       "      <th>AMT_PAYMENT_CURRENT_Cre_max</th>\n",
       "      <th>AMT_PAYMENT_TOTAL_CURRENT_Cre_max</th>\n",
       "      <th>AMT_RECEIVABLE_PRINCIPAL_Cre_max</th>\n",
       "      <th>AMT_RECIVABLE_Cre_max</th>\n",
       "      <th>AMT_TOTAL_RECEIVABLE_Cre_max</th>\n",
       "      <th>CNT_DRAWINGS_ATM_CURRENT_Cre_max</th>\n",
       "      <th>CNT_DRAWINGS_CURRENT_Cre_max</th>\n",
       "      <th>CNT_DRAWINGS_OTHER_CURRENT_Cre_max</th>\n",
       "      <th>CNT_DRAWINGS_POS_CURRENT_Cre_max</th>\n",
       "      <th>CNT_INSTALMENT_MATURE_CUM_Cre_max</th>\n",
       "      <th>SK_DPD_Cre_max</th>\n",
       "      <th>SK_DPD_DEF_Cre_max</th>\n",
       "      <th>MONTHS_BALANCE_Cre_sum</th>\n",
       "      <th>AMT_BALANCE_Cre_sum</th>\n",
       "      <th>AMT_CREDIT_LIMIT_ACTUAL_Cre_sum</th>\n",
       "      <th>AMT_DRAWINGS_ATM_CURRENT_Cre_sum</th>\n",
       "      <th>AMT_DRAWINGS_CURRENT_Cre_sum</th>\n",
       "      <th>AMT_DRAWINGS_OTHER_CURRENT_Cre_sum</th>\n",
       "      <th>AMT_DRAWINGS_POS_CURRENT_Cre_sum</th>\n",
       "      <th>AMT_INST_MIN_REGULARITY_Cre_sum</th>\n",
       "      <th>AMT_PAYMENT_CURRENT_Cre_sum</th>\n",
       "      <th>AMT_PAYMENT_TOTAL_CURRENT_Cre_sum</th>\n",
       "      <th>AMT_RECEIVABLE_PRINCIPAL_Cre_sum</th>\n",
       "      <th>AMT_RECIVABLE_Cre_sum</th>\n",
       "      <th>AMT_TOTAL_RECEIVABLE_Cre_sum</th>\n",
       "      <th>CNT_DRAWINGS_ATM_CURRENT_Cre_sum</th>\n",
       "      <th>CNT_DRAWINGS_CURRENT_Cre_sum</th>\n",
       "      <th>CNT_DRAWINGS_OTHER_CURRENT_Cre_sum</th>\n",
       "      <th>CNT_DRAWINGS_POS_CURRENT_Cre_sum</th>\n",
       "      <th>CNT_INSTALMENT_MATURE_CUM_Cre_sum</th>\n",
       "      <th>SK_DPD_Cre_sum</th>\n",
       "      <th>SK_DPD_DEF_Cre_sum</th>\n",
       "      <th>MONTHS_BALANCE_Pos_mean</th>\n",
       "      <th>CNT_INSTALMENT_Pos_mean</th>\n",
       "      <th>CNT_INSTALMENT_FUTURE_Pos_mean</th>\n",
       "      <th>SK_DPD_Pos_mean</th>\n",
       "      <th>SK_DPD_DEF_Pos_mean</th>\n",
       "      <th>MONTHS_BALANCE_Pos_min</th>\n",
       "      <th>CNT_INSTALMENT_Pos_min</th>\n",
       "      <th>CNT_INSTALMENT_FUTURE_Pos_min</th>\n",
       "      <th>MONTHS_BALANCE_Pos_max</th>\n",
       "      <th>CNT_INSTALMENT_Pos_max</th>\n",
       "      <th>CNT_INSTALMENT_FUTURE_Pos_max</th>\n",
       "      <th>SK_DPD_Pos_max</th>\n",
       "      <th>SK_DPD_DEF_Pos_max</th>\n",
       "      <th>MONTHS_BALANCE_Pos_sum</th>\n",
       "      <th>CNT_INSTALMENT_Pos_sum</th>\n",
       "      <th>CNT_INSTALMENT_FUTURE_Pos_sum</th>\n",
       "      <th>SK_DPD_Pos_sum</th>\n",
       "      <th>SK_DPD_DEF_Pos_sum</th>\n",
       "      <th>CREDIT_ACTIVE_Active</th>\n",
       "      <th>CREDIT_ACTIVE_Closed</th>\n",
       "      <th>CREDIT_ACTIVE_Sold</th>\n",
       "      <th>ACTIVE_PERC</th>\n",
       "      <th>CLOSED_PERC</th>\n",
       "      <th>SOLD_PERC</th>\n",
       "      <th>PAST_LOAN</th>\n",
       "      <th>TYPE_COUNT</th>\n",
       "      <th>CURRENCY_COUNT</th>\n",
       "      <th>PROLONG_MEAN</th>\n",
       "      <th>DAY_OVERDUE_MEAN</th>\n",
       "      <th>PASS_ENDDATE_MEAN</th>\n",
       "      <th>AMT_CREDIT_SUM_RATIO</th>\n",
       "      <th>DAYS_CREDIT_MEAN</th>\n",
       "      <th>DAYS_CREDIT_RECENT</th>\n",
       "      <th>DAYS_CREDIT_MAX</th>\n",
       "      <th>CREDIT_DAY_OVERDUE_MAX</th>\n",
       "      <th>DAYS_ENDDATE_FACT_MAX</th>\n",
       "      <th>CNT_CREDIT_PROLONG_MAX</th>\n",
       "      <th>AMT_CREDIT_SUM_MAX</th>\n",
       "      <th>AMT_CREDIT_SUM_DEBT_MAX</th>\n",
       "      <th>AMT_CREDIT_SUM_LIMIT_MAX</th>\n",
       "      <th>AMT_CREDIT_SUM_OVERDUE_MAX</th>\n",
       "      <th>DAYS_CREDIT_UPDATE_MAX</th>\n",
       "      <th>STATUS_0_PERC</th>\n",
       "      <th>STATUS_C_PERC</th>\n",
       "      <th>STATUS_X_PERC</th>\n",
       "      <th>CHILDREN_RATIO</th>\n",
       "      <th>INCOME_PER_CHLD</th>\n",
       "      <th>EMPLOYED_BIRTH_RATIO</th>\n",
       "      <th>LOAN_INCOME_RATIO</th>\n",
       "      <th>ANNUITY_LENGTH</th>\n",
       "      <th>INCOME_PER_PERSON</th>\n",
       "      <th>ANNUITY_INCOME_PERC</th>\n",
       "      <th>NAME_CONTRACT_TYPE</th>\n",
       "      <th>CODE_GENDER</th>\n",
       "      <th>FLAG_OWN_CAR</th>\n",
       "      <th>FLAG_OWN_REALTY</th>\n",
       "      <th>NAME_TYPE_SUITE</th>\n",
       "      <th>NAME_INCOME_TYPE</th>\n",
       "      <th>NAME_EDUCATION_TYPE</th>\n",
       "      <th>NAME_FAMILY_STATUS</th>\n",
       "      <th>NAME_HOUSING_TYPE</th>\n",
       "      <th>OCCUPATION_TYPE</th>\n",
       "      <th>ORGANIZATION_TYPE</th>\n",
       "      <th>NAME_CONTRACT_TYPE_Pre</th>\n",
       "      <th>FLAG_LAST_APPL_PER_CONTRACT_Pre</th>\n",
       "      <th>NAME_CASH_LOAN_PURPOSE_Pre</th>\n",
       "      <th>NAME_CONTRACT_STATUS_Pre</th>\n",
       "      <th>NAME_PAYMENT_TYPE_Pre</th>\n",
       "      <th>CODE_REJECT_REASON_Pre</th>\n",
       "      <th>NAME_CLIENT_TYPE_Pre</th>\n",
       "      <th>NAME_GOODS_CATEGORY_Pre</th>\n",
       "      <th>NAME_PORTFOLIO_Pre</th>\n",
       "      <th>NAME_PRODUCT_TYPE_Pre</th>\n",
       "      <th>CHANNEL_TYPE_Pre</th>\n",
       "      <th>NAME_SELLER_INDUSTRY_Pre</th>\n",
       "      <th>NAME_YIELD_GROUP_Pre</th>\n",
       "      <th>PRODUCT_COMBINATION_Pre</th>\n",
       "      <th>CREDIT_ACTIVE_MAX</th>\n",
       "      <th>CREDIT_TYPE_MAX</th>\n",
       "    </tr>\n",
       "  </thead>\n",
       "  <tbody>\n",
       "    <tr>\n",
       "      <th>0</th>\n",
       "      <td>281713</td>\n",
       "      <td>0</td>\n",
       "      <td>0.0</td>\n",
       "      <td>0.006719</td>\n",
       "      <td>0.012909</td>\n",
       "      <td>0.000833</td>\n",
       "      <td>0.010213</td>\n",
       "      <td>0.000003</td>\n",
       "      <td>0.000013</td>\n",
       "      <td>0.000170</td>\n",
       "      <td>-0.000014</td>\n",
       "      <td>5.972623e-08</td>\n",
       "      <td>5.972623e-08</td>\n",
       "      <td>0.0</td>\n",
       "      <td>5.972623e-08</td>\n",
       "      <td>0.000000e+00</td>\n",
       "      <td>0.0</td>\n",
       "      <td>1.194525e-07</td>\n",
       "      <td>1.194525e-07</td>\n",
       "      <td>1.194525e-07</td>\n",
       "      <td>2.986312e-07</td>\n",
       "      <td>0.0</td>\n",
       "      <td>0.0</td>\n",
       "      <td>0.0</td>\n",
       "      <td>0.0</td>\n",
       "      <td>0.000000e+00</td>\n",
       "      <td>0.000000e+00</td>\n",
       "      <td>4.605905e-08</td>\n",
       "      <td>4.505784e-08</td>\n",
       "      <td>5.972623e-08</td>\n",
       "      <td>0.000000e+00</td>\n",
       "      <td>5.972623e-08</td>\n",
       "      <td>0.0</td>\n",
       "      <td>0.000077</td>\n",
       "      <td>5.972623e-08</td>\n",
       "      <td>0.0</td>\n",
       "      <td>0.0</td>\n",
       "      <td>0.0</td>\n",
       "      <td>0.0</td>\n",
       "      <td>0.0</td>\n",
       "      <td>0.0</td>\n",
       "      <td>0.0</td>\n",
       "      <td>0.000000e+00</td>\n",
       "      <td>0.0</td>\n",
       "      <td>0.0</td>\n",
       "      <td>0.0</td>\n",
       "      <td>0.000000e+00</td>\n",
       "      <td>0.0</td>\n",
       "      <td>0.000000e+00</td>\n",
       "      <td>3.583574e-07</td>\n",
       "      <td>0.000881</td>\n",
       "      <td>0.012269</td>\n",
       "      <td>0.014530</td>\n",
       "      <td>0.015012</td>\n",
       "      <td>4.778098e-07</td>\n",
       "      <td>5.972623e-08</td>\n",
       "      <td>-0.000062</td>\n",
       "      <td>0.000013</td>\n",
       "      <td>0.000001</td>\n",
       "      <td>0.000276</td>\n",
       "      <td>0.000000</td>\n",
       "      <td>0.000000</td>\n",
       "      <td>0.002502</td>\n",
       "      <td>2.389049e-07</td>\n",
       "      <td>5.972623e-08</td>\n",
       "      <td>-0.000158</td>\n",
       "      <td>-5.972623e-08</td>\n",
       "      <td>0.000000</td>\n",
       "      <td>0.002176</td>\n",
       "      <td>0.067461</td>\n",
       "      <td>0.067461</td>\n",
       "      <td>0.067461</td>\n",
       "      <td>7.167148e-07</td>\n",
       "      <td>5.972623e-08</td>\n",
       "      <td>-0.000019</td>\n",
       "      <td>0.000077</td>\n",
       "      <td>0.000004</td>\n",
       "      <td>0.010570</td>\n",
       "      <td>0.147226</td>\n",
       "      <td>0.174357</td>\n",
       "      <td>0.180149</td>\n",
       "      <td>0.000006</td>\n",
       "      <td>7.167148e-07</td>\n",
       "      <td>-0.000746</td>\n",
       "      <td>0.000157</td>\n",
       "      <td>0.000016</td>\n",
       "      <td>-0.000062</td>\n",
       "      <td>-0.000063</td>\n",
       "      <td>0.001266</td>\n",
       "      <td>0.001266</td>\n",
       "      <td>0.000000</td>\n",
       "      <td>6.150434e-07</td>\n",
       "      <td>-0.000156</td>\n",
       "      <td>-0.000156</td>\n",
       "      <td>1.236333e-07</td>\n",
       "      <td>1.236333e-07</td>\n",
       "      <td>0.0</td>\n",
       "      <td>0.000000e+00</td>\n",
       "      <td>-5.972623e-07</td>\n",
       "      <td>-7.764410e-07</td>\n",
       "      <td>0.027608</td>\n",
       "      <td>0.027608</td>\n",
       "      <td>0.000000</td>\n",
       "      <td>0.000002</td>\n",
       "      <td>-0.008174</td>\n",
       "      <td>-0.008254</td>\n",
       "      <td>0.165903</td>\n",
       "      <td>0.165903</td>\n",
       "      <td>0.000000</td>\n",
       "      <td>0.000081</td>\n",
       "      <td>-0.000002</td>\n",
       "      <td>0.004101</td>\n",
       "      <td>0.008301</td>\n",
       "      <td>0.000152</td>\n",
       "      <td>0.000152</td>\n",
       "      <td>0.0</td>\n",
       "      <td>0.0</td>\n",
       "      <td>0.000253</td>\n",
       "      <td>0.000331</td>\n",
       "      <td>0.000330</td>\n",
       "      <td>0.003922</td>\n",
       "      <td>0.00410</td>\n",
       "      <td>0.00410</td>\n",
       "      <td>7.560282e-09</td>\n",
       "      <td>7.560282e-09</td>\n",
       "      <td>0.0</td>\n",
       "      <td>1.537005e-06</td>\n",
       "      <td>0.0</td>\n",
       "      <td>-0.000005</td>\n",
       "      <td>0.0</td>\n",
       "      <td>0.00000</td>\n",
       "      <td>0.0</td>\n",
       "      <td>0.0</td>\n",
       "      <td>0.0</td>\n",
       "      <td>0.0</td>\n",
       "      <td>0.0</td>\n",
       "      <td>0.0</td>\n",
       "      <td>0.0</td>\n",
       "      <td>0.0</td>\n",
       "      <td>0.0</td>\n",
       "      <td>0.0</td>\n",
       "      <td>0.0</td>\n",
       "      <td>0.0</td>\n",
       "      <td>0.0</td>\n",
       "      <td>-1.194525e-07</td>\n",
       "      <td>0.010769</td>\n",
       "      <td>0.010751</td>\n",
       "      <td>0.007526</td>\n",
       "      <td>0.007526</td>\n",
       "      <td>0.0</td>\n",
       "      <td>0.0</td>\n",
       "      <td>0.000538</td>\n",
       "      <td>0.006707</td>\n",
       "      <td>0.006707</td>\n",
       "      <td>0.010186</td>\n",
       "      <td>0.010769</td>\n",
       "      <td>0.010769</td>\n",
       "      <td>2.389049e-07</td>\n",
       "      <td>2.389049e-07</td>\n",
       "      <td>0.0</td>\n",
       "      <td>0.0</td>\n",
       "      <td>0.000002</td>\n",
       "      <td>0.0</td>\n",
       "      <td>0.0</td>\n",
       "      <td>-0.000193</td>\n",
       "      <td>0.324013</td>\n",
       "      <td>0.655794</td>\n",
       "      <td>0.011987</td>\n",
       "      <td>0.011987</td>\n",
       "      <td>0.0</td>\n",
       "      <td>0.0</td>\n",
       "      <td>0.019981</td>\n",
       "      <td>0.026154</td>\n",
       "      <td>0.026058</td>\n",
       "      <td>0.309837</td>\n",
       "      <td>0.323920</td>\n",
       "      <td>0.323920</td>\n",
       "      <td>5.972623e-07</td>\n",
       "      <td>5.972623e-07</td>\n",
       "      <td>0.0</td>\n",
       "      <td>0.0</td>\n",
       "      <td>0.000121</td>\n",
       "      <td>0.0</td>\n",
       "      <td>0.0</td>\n",
       "      <td>-0.000002</td>\n",
       "      <td>0.000002</td>\n",
       "      <td>0.000002</td>\n",
       "      <td>0.000000e+00</td>\n",
       "      <td>0.000000e+00</td>\n",
       "      <td>-0.000005</td>\n",
       "      <td>4.180836e-07</td>\n",
       "      <td>0.0</td>\n",
       "      <td>-1.194525e-07</td>\n",
       "      <td>0.000004</td>\n",
       "      <td>0.000004</td>\n",
       "      <td>0.000000e+00</td>\n",
       "      <td>0.000000e+00</td>\n",
       "      <td>-0.000124</td>\n",
       "      <td>0.000151</td>\n",
       "      <td>0.000127</td>\n",
       "      <td>0.000000e+00</td>\n",
       "      <td>0.000000e+00</td>\n",
       "      <td>0.000000e+00</td>\n",
       "      <td>5.972623e-08</td>\n",
       "      <td>0.0</td>\n",
       "      <td>0.000000e+00</td>\n",
       "      <td>5.972623e-08</td>\n",
       "      <td>0.0</td>\n",
       "      <td>5.972623e-08</td>\n",
       "      <td>5.972623e-08</td>\n",
       "      <td>5.972623e-08</td>\n",
       "      <td>0.0</td>\n",
       "      <td>0.0</td>\n",
       "      <td>0.000000e+00</td>\n",
       "      <td>0.000000e+00</td>\n",
       "      <td>0.000092</td>\n",
       "      <td>0.000000</td>\n",
       "      <td>0.000092</td>\n",
       "      <td>0.0</td>\n",
       "      <td>-0.000033</td>\n",
       "      <td>0.0</td>\n",
       "      <td>0.013438</td>\n",
       "      <td>0.000000</td>\n",
       "      <td>0.0</td>\n",
       "      <td>0.0</td>\n",
       "      <td>-3.302861e-05</td>\n",
       "      <td>1.571743e-08</td>\n",
       "      <td>4.400880e-08</td>\n",
       "      <td>0.000000e+00</td>\n",
       "      <td>0.0</td>\n",
       "      <td>0.006719</td>\n",
       "      <td>7.768742e-10</td>\n",
       "      <td>1.147508e-07</td>\n",
       "      <td>9.260072e-07</td>\n",
       "      <td>6.532604e-07</td>\n",
       "      <td>2.102490e-08</td>\n",
       "      <td>0.0</td>\n",
       "      <td>0.0</td>\n",
       "      <td>1.0</td>\n",
       "      <td>1.0</td>\n",
       "      <td>5.0</td>\n",
       "      <td>1.0</td>\n",
       "      <td>4.0</td>\n",
       "      <td>1.0</td>\n",
       "      <td>1.0</td>\n",
       "      <td>14.0</td>\n",
       "      <td>51.0</td>\n",
       "      <td>0.0</td>\n",
       "      <td>2.0</td>\n",
       "      <td>23.0</td>\n",
       "      <td>0.0</td>\n",
       "      <td>3.0</td>\n",
       "      <td>7.0</td>\n",
       "      <td>2.0</td>\n",
       "      <td>25.0</td>\n",
       "      <td>27.0</td>\n",
       "      <td>0.0</td>\n",
       "      <td>5.0</td>\n",
       "      <td>10.0</td>\n",
       "      <td>0.0</td>\n",
       "      <td>2.0</td>\n",
       "      <td>2.0</td>\n",
       "      <td>2.0</td>\n",
       "    </tr>\n",
       "    <tr>\n",
       "      <th>1</th>\n",
       "      <td>133003</td>\n",
       "      <td>0</td>\n",
       "      <td>0.0</td>\n",
       "      <td>0.063148</td>\n",
       "      <td>0.074795</td>\n",
       "      <td>0.007327</td>\n",
       "      <td>0.070164</td>\n",
       "      <td>0.000018</td>\n",
       "      <td>0.000514</td>\n",
       "      <td>0.004104</td>\n",
       "      <td>-0.001418</td>\n",
       "      <td>3.118418e-07</td>\n",
       "      <td>0.000000e+00</td>\n",
       "      <td>0.0</td>\n",
       "      <td>3.118418e-07</td>\n",
       "      <td>0.000000e+00</td>\n",
       "      <td>0.0</td>\n",
       "      <td>6.236837e-07</td>\n",
       "      <td>6.236837e-07</td>\n",
       "      <td>6.236837e-07</td>\n",
       "      <td>3.118418e-06</td>\n",
       "      <td>0.0</td>\n",
       "      <td>0.0</td>\n",
       "      <td>0.0</td>\n",
       "      <td>0.0</td>\n",
       "      <td>0.000000e+00</td>\n",
       "      <td>0.000000e+00</td>\n",
       "      <td>1.731495e-07</td>\n",
       "      <td>2.015527e-07</td>\n",
       "      <td>0.000000e+00</td>\n",
       "      <td>0.000000e+00</td>\n",
       "      <td>0.000000e+00</td>\n",
       "      <td>0.0</td>\n",
       "      <td>0.000209</td>\n",
       "      <td>3.118418e-07</td>\n",
       "      <td>0.0</td>\n",
       "      <td>0.0</td>\n",
       "      <td>0.0</td>\n",
       "      <td>0.0</td>\n",
       "      <td>0.0</td>\n",
       "      <td>0.0</td>\n",
       "      <td>0.0</td>\n",
       "      <td>0.000000e+00</td>\n",
       "      <td>0.0</td>\n",
       "      <td>0.0</td>\n",
       "      <td>0.0</td>\n",
       "      <td>0.000000e+00</td>\n",
       "      <td>0.0</td>\n",
       "      <td>6.236837e-07</td>\n",
       "      <td>1.871051e-06</td>\n",
       "      <td>0.004688</td>\n",
       "      <td>0.039110</td>\n",
       "      <td>0.042830</td>\n",
       "      <td>0.059737</td>\n",
       "      <td>3.710918e-06</td>\n",
       "      <td>3.118418e-07</td>\n",
       "      <td>-0.000094</td>\n",
       "      <td>0.000002</td>\n",
       "      <td>0.000005</td>\n",
       "      <td>0.002534</td>\n",
       "      <td>0.000000</td>\n",
       "      <td>0.000000</td>\n",
       "      <td>0.024838</td>\n",
       "      <td>3.118418e-06</td>\n",
       "      <td>3.118418e-07</td>\n",
       "      <td>-0.000266</td>\n",
       "      <td>-3.118418e-07</td>\n",
       "      <td>0.000004</td>\n",
       "      <td>0.008468</td>\n",
       "      <td>0.210493</td>\n",
       "      <td>0.239390</td>\n",
       "      <td>0.210493</td>\n",
       "      <td>4.365786e-06</td>\n",
       "      <td>3.118418e-07</td>\n",
       "      <td>-0.000008</td>\n",
       "      <td>0.000019</td>\n",
       "      <td>0.000015</td>\n",
       "      <td>0.046880</td>\n",
       "      <td>0.391096</td>\n",
       "      <td>0.428299</td>\n",
       "      <td>0.597371</td>\n",
       "      <td>0.000037</td>\n",
       "      <td>3.118418e-06</td>\n",
       "      <td>-0.000945</td>\n",
       "      <td>0.000016</td>\n",
       "      <td>0.000049</td>\n",
       "      <td>-0.000114</td>\n",
       "      <td>-0.000118</td>\n",
       "      <td>0.007114</td>\n",
       "      <td>0.007114</td>\n",
       "      <td>0.000000</td>\n",
       "      <td>3.889361e-06</td>\n",
       "      <td>-0.000257</td>\n",
       "      <td>-0.000263</td>\n",
       "      <td>2.533749e-03</td>\n",
       "      <td>2.533749e-03</td>\n",
       "      <td>0.0</td>\n",
       "      <td>9.355255e-07</td>\n",
       "      <td>-6.860520e-06</td>\n",
       "      <td>-8.419729e-06</td>\n",
       "      <td>0.012419</td>\n",
       "      <td>0.012419</td>\n",
       "      <td>0.000000</td>\n",
       "      <td>0.000008</td>\n",
       "      <td>-0.004114</td>\n",
       "      <td>-0.004254</td>\n",
       "      <td>0.256102</td>\n",
       "      <td>0.256102</td>\n",
       "      <td>0.000000</td>\n",
       "      <td>0.000140</td>\n",
       "      <td>0.000000</td>\n",
       "      <td>0.000000</td>\n",
       "      <td>0.000000</td>\n",
       "      <td>0.000000</td>\n",
       "      <td>0.000000</td>\n",
       "      <td>0.0</td>\n",
       "      <td>0.0</td>\n",
       "      <td>0.000000</td>\n",
       "      <td>0.000000</td>\n",
       "      <td>0.000000</td>\n",
       "      <td>0.000000</td>\n",
       "      <td>0.00000</td>\n",
       "      <td>0.00000</td>\n",
       "      <td>0.000000e+00</td>\n",
       "      <td>0.000000e+00</td>\n",
       "      <td>0.0</td>\n",
       "      <td>0.000000e+00</td>\n",
       "      <td>0.0</td>\n",
       "      <td>0.000000</td>\n",
       "      <td>0.0</td>\n",
       "      <td>0.00000</td>\n",
       "      <td>0.0</td>\n",
       "      <td>0.0</td>\n",
       "      <td>0.0</td>\n",
       "      <td>0.0</td>\n",
       "      <td>0.0</td>\n",
       "      <td>0.0</td>\n",
       "      <td>0.0</td>\n",
       "      <td>0.0</td>\n",
       "      <td>0.0</td>\n",
       "      <td>0.0</td>\n",
       "      <td>0.0</td>\n",
       "      <td>0.0</td>\n",
       "      <td>0.0</td>\n",
       "      <td>0.000000e+00</td>\n",
       "      <td>0.000000</td>\n",
       "      <td>0.000000</td>\n",
       "      <td>0.000000</td>\n",
       "      <td>0.000000</td>\n",
       "      <td>0.0</td>\n",
       "      <td>0.0</td>\n",
       "      <td>0.000000</td>\n",
       "      <td>0.000000</td>\n",
       "      <td>0.000000</td>\n",
       "      <td>0.000000</td>\n",
       "      <td>0.000000</td>\n",
       "      <td>0.000000</td>\n",
       "      <td>0.000000e+00</td>\n",
       "      <td>0.000000e+00</td>\n",
       "      <td>0.0</td>\n",
       "      <td>0.0</td>\n",
       "      <td>0.000000</td>\n",
       "      <td>0.0</td>\n",
       "      <td>0.0</td>\n",
       "      <td>0.000000</td>\n",
       "      <td>0.000000</td>\n",
       "      <td>0.000000</td>\n",
       "      <td>0.000000</td>\n",
       "      <td>0.000000</td>\n",
       "      <td>0.0</td>\n",
       "      <td>0.0</td>\n",
       "      <td>0.000000</td>\n",
       "      <td>0.000000</td>\n",
       "      <td>0.000000</td>\n",
       "      <td>0.000000</td>\n",
       "      <td>0.000000</td>\n",
       "      <td>0.000000</td>\n",
       "      <td>0.000000e+00</td>\n",
       "      <td>0.000000e+00</td>\n",
       "      <td>0.0</td>\n",
       "      <td>0.0</td>\n",
       "      <td>0.000000</td>\n",
       "      <td>0.0</td>\n",
       "      <td>0.0</td>\n",
       "      <td>-0.000004</td>\n",
       "      <td>0.000006</td>\n",
       "      <td>0.000004</td>\n",
       "      <td>0.000000e+00</td>\n",
       "      <td>0.000000e+00</td>\n",
       "      <td>-0.000009</td>\n",
       "      <td>2.182893e-06</td>\n",
       "      <td>0.0</td>\n",
       "      <td>-3.118418e-07</td>\n",
       "      <td>0.000015</td>\n",
       "      <td>0.000015</td>\n",
       "      <td>0.000000e+00</td>\n",
       "      <td>0.000000e+00</td>\n",
       "      <td>-0.000158</td>\n",
       "      <td>0.000235</td>\n",
       "      <td>0.000177</td>\n",
       "      <td>0.000000e+00</td>\n",
       "      <td>0.000000e+00</td>\n",
       "      <td>3.118418e-07</td>\n",
       "      <td>1.247367e-06</td>\n",
       "      <td>0.0</td>\n",
       "      <td>6.236837e-08</td>\n",
       "      <td>2.494735e-07</td>\n",
       "      <td>0.0</td>\n",
       "      <td>1.559209e-06</td>\n",
       "      <td>6.236837e-07</td>\n",
       "      <td>3.118418e-07</td>\n",
       "      <td>0.0</td>\n",
       "      <td>0.0</td>\n",
       "      <td>6.236837e-08</td>\n",
       "      <td>0.000000e+00</td>\n",
       "      <td>0.000630</td>\n",
       "      <td>0.000837</td>\n",
       "      <td>0.000859</td>\n",
       "      <td>0.0</td>\n",
       "      <td>-0.000206</td>\n",
       "      <td>0.0</td>\n",
       "      <td>0.027911</td>\n",
       "      <td>0.000000</td>\n",
       "      <td>0.0</td>\n",
       "      <td>0.0</td>\n",
       "      <td>-1.877288e-04</td>\n",
       "      <td>0.000000e+00</td>\n",
       "      <td>0.000000e+00</td>\n",
       "      <td>3.118418e-07</td>\n",
       "      <td>0.0</td>\n",
       "      <td>0.063148</td>\n",
       "      <td>-5.418556e-06</td>\n",
       "      <td>3.693593e-07</td>\n",
       "      <td>3.183522e-06</td>\n",
       "      <td>3.594089e-06</td>\n",
       "      <td>1.062194e-07</td>\n",
       "      <td>0.0</td>\n",
       "      <td>0.0</td>\n",
       "      <td>0.0</td>\n",
       "      <td>1.0</td>\n",
       "      <td>5.0</td>\n",
       "      <td>3.0</td>\n",
       "      <td>4.0</td>\n",
       "      <td>1.0</td>\n",
       "      <td>1.0</td>\n",
       "      <td>18.0</td>\n",
       "      <td>57.0</td>\n",
       "      <td>0.0</td>\n",
       "      <td>2.0</td>\n",
       "      <td>23.0</td>\n",
       "      <td>1.0</td>\n",
       "      <td>3.0</td>\n",
       "      <td>7.0</td>\n",
       "      <td>2.0</td>\n",
       "      <td>25.0</td>\n",
       "      <td>4.0</td>\n",
       "      <td>0.0</td>\n",
       "      <td>5.0</td>\n",
       "      <td>10.0</td>\n",
       "      <td>0.0</td>\n",
       "      <td>2.0</td>\n",
       "      <td>2.0</td>\n",
       "      <td>3.0</td>\n",
       "    </tr>\n",
       "    <tr>\n",
       "      <th>2</th>\n",
       "      <td>446481</td>\n",
       "      <td>0</td>\n",
       "      <td>0.0</td>\n",
       "      <td>0.039575</td>\n",
       "      <td>0.161004</td>\n",
       "      <td>0.007092</td>\n",
       "      <td>0.143908</td>\n",
       "      <td>0.000010</td>\n",
       "      <td>0.000264</td>\n",
       "      <td>0.001959</td>\n",
       "      <td>-0.000088</td>\n",
       "      <td>1.598973e-07</td>\n",
       "      <td>0.000000e+00</td>\n",
       "      <td>0.0</td>\n",
       "      <td>1.598973e-07</td>\n",
       "      <td>1.598973e-07</td>\n",
       "      <td>0.0</td>\n",
       "      <td>3.197945e-07</td>\n",
       "      <td>1.598973e-07</td>\n",
       "      <td>1.598973e-07</td>\n",
       "      <td>1.439075e-06</td>\n",
       "      <td>0.0</td>\n",
       "      <td>0.0</td>\n",
       "      <td>0.0</td>\n",
       "      <td>0.0</td>\n",
       "      <td>0.000000e+00</td>\n",
       "      <td>0.000000e+00</td>\n",
       "      <td>6.895244e-08</td>\n",
       "      <td>6.363053e-08</td>\n",
       "      <td>0.000000e+00</td>\n",
       "      <td>0.000000e+00</td>\n",
       "      <td>0.000000e+00</td>\n",
       "      <td>0.0</td>\n",
       "      <td>0.000294</td>\n",
       "      <td>1.598973e-07</td>\n",
       "      <td>0.0</td>\n",
       "      <td>0.0</td>\n",
       "      <td>0.0</td>\n",
       "      <td>0.0</td>\n",
       "      <td>0.0</td>\n",
       "      <td>0.0</td>\n",
       "      <td>0.0</td>\n",
       "      <td>0.000000e+00</td>\n",
       "      <td>0.0</td>\n",
       "      <td>0.0</td>\n",
       "      <td>0.0</td>\n",
       "      <td>0.000000e+00</td>\n",
       "      <td>0.0</td>\n",
       "      <td>0.000000e+00</td>\n",
       "      <td>1.279178e-06</td>\n",
       "      <td>0.003930</td>\n",
       "      <td>0.044654</td>\n",
       "      <td>0.047505</td>\n",
       "      <td>0.051264</td>\n",
       "      <td>2.038690e-06</td>\n",
       "      <td>1.598973e-07</td>\n",
       "      <td>-0.000128</td>\n",
       "      <td>0.000002</td>\n",
       "      <td>0.000003</td>\n",
       "      <td>0.001795</td>\n",
       "      <td>0.000000</td>\n",
       "      <td>0.000000</td>\n",
       "      <td>0.017628</td>\n",
       "      <td>1.598973e-06</td>\n",
       "      <td>1.598973e-07</td>\n",
       "      <td>-0.000294</td>\n",
       "      <td>-1.598973e-07</td>\n",
       "      <td>0.000002</td>\n",
       "      <td>0.007543</td>\n",
       "      <td>0.107931</td>\n",
       "      <td>0.115339</td>\n",
       "      <td>0.107931</td>\n",
       "      <td>2.558356e-06</td>\n",
       "      <td>1.598973e-07</td>\n",
       "      <td>-0.000031</td>\n",
       "      <td>0.000016</td>\n",
       "      <td>0.000004</td>\n",
       "      <td>0.031438</td>\n",
       "      <td>0.357230</td>\n",
       "      <td>0.380044</td>\n",
       "      <td>0.410114</td>\n",
       "      <td>0.000016</td>\n",
       "      <td>1.279178e-06</td>\n",
       "      <td>-0.001024</td>\n",
       "      <td>0.000015</td>\n",
       "      <td>0.000021</td>\n",
       "      <td>-0.000130</td>\n",
       "      <td>-0.000132</td>\n",
       "      <td>0.007406</td>\n",
       "      <td>0.007002</td>\n",
       "      <td>0.000404</td>\n",
       "      <td>1.778857e-06</td>\n",
       "      <td>-0.000287</td>\n",
       "      <td>-0.000292</td>\n",
       "      <td>2.692524e-03</td>\n",
       "      <td>1.301212e-04</td>\n",
       "      <td>0.0</td>\n",
       "      <td>-4.796918e-07</td>\n",
       "      <td>-2.398459e-06</td>\n",
       "      <td>-2.558356e-06</td>\n",
       "      <td>0.080153</td>\n",
       "      <td>0.080153</td>\n",
       "      <td>0.006331</td>\n",
       "      <td>0.000006</td>\n",
       "      <td>-0.008328</td>\n",
       "      <td>-0.008442</td>\n",
       "      <td>0.473997</td>\n",
       "      <td>0.448152</td>\n",
       "      <td>0.025846</td>\n",
       "      <td>0.000114</td>\n",
       "      <td>0.000000</td>\n",
       "      <td>0.000000</td>\n",
       "      <td>0.000000</td>\n",
       "      <td>0.000000</td>\n",
       "      <td>0.000000</td>\n",
       "      <td>0.0</td>\n",
       "      <td>0.0</td>\n",
       "      <td>0.000000</td>\n",
       "      <td>0.000000</td>\n",
       "      <td>0.000000</td>\n",
       "      <td>0.000000</td>\n",
       "      <td>0.00000</td>\n",
       "      <td>0.00000</td>\n",
       "      <td>0.000000e+00</td>\n",
       "      <td>0.000000e+00</td>\n",
       "      <td>0.0</td>\n",
       "      <td>0.000000e+00</td>\n",
       "      <td>0.0</td>\n",
       "      <td>0.000000</td>\n",
       "      <td>0.0</td>\n",
       "      <td>0.00000</td>\n",
       "      <td>0.0</td>\n",
       "      <td>0.0</td>\n",
       "      <td>0.0</td>\n",
       "      <td>0.0</td>\n",
       "      <td>0.0</td>\n",
       "      <td>0.0</td>\n",
       "      <td>0.0</td>\n",
       "      <td>0.0</td>\n",
       "      <td>0.0</td>\n",
       "      <td>0.0</td>\n",
       "      <td>0.0</td>\n",
       "      <td>0.0</td>\n",
       "      <td>0.0</td>\n",
       "      <td>0.000000e+00</td>\n",
       "      <td>0.000000</td>\n",
       "      <td>0.000000</td>\n",
       "      <td>0.000000</td>\n",
       "      <td>0.000000</td>\n",
       "      <td>0.0</td>\n",
       "      <td>0.0</td>\n",
       "      <td>0.000000</td>\n",
       "      <td>0.000000</td>\n",
       "      <td>0.000000</td>\n",
       "      <td>0.000000</td>\n",
       "      <td>0.000000</td>\n",
       "      <td>0.000000</td>\n",
       "      <td>0.000000e+00</td>\n",
       "      <td>0.000000e+00</td>\n",
       "      <td>0.0</td>\n",
       "      <td>0.0</td>\n",
       "      <td>0.000000</td>\n",
       "      <td>0.0</td>\n",
       "      <td>0.0</td>\n",
       "      <td>0.000000</td>\n",
       "      <td>0.000000</td>\n",
       "      <td>0.000000</td>\n",
       "      <td>0.000000</td>\n",
       "      <td>0.000000</td>\n",
       "      <td>0.0</td>\n",
       "      <td>0.0</td>\n",
       "      <td>0.000000</td>\n",
       "      <td>0.000000</td>\n",
       "      <td>0.000000</td>\n",
       "      <td>0.000000</td>\n",
       "      <td>0.000000</td>\n",
       "      <td>0.000000</td>\n",
       "      <td>0.000000e+00</td>\n",
       "      <td>0.000000e+00</td>\n",
       "      <td>0.0</td>\n",
       "      <td>0.0</td>\n",
       "      <td>0.000000</td>\n",
       "      <td>0.0</td>\n",
       "      <td>0.0</td>\n",
       "      <td>-0.000005</td>\n",
       "      <td>0.000003</td>\n",
       "      <td>0.000002</td>\n",
       "      <td>0.000000e+00</td>\n",
       "      <td>0.000000e+00</td>\n",
       "      <td>-0.000010</td>\n",
       "      <td>9.593836e-07</td>\n",
       "      <td>0.0</td>\n",
       "      <td>-3.197945e-07</td>\n",
       "      <td>0.000004</td>\n",
       "      <td>0.000004</td>\n",
       "      <td>0.000000e+00</td>\n",
       "      <td>0.000000e+00</td>\n",
       "      <td>-0.000303</td>\n",
       "      <td>0.000188</td>\n",
       "      <td>0.000121</td>\n",
       "      <td>0.000000e+00</td>\n",
       "      <td>0.000000e+00</td>\n",
       "      <td>6.395891e-07</td>\n",
       "      <td>4.796918e-07</td>\n",
       "      <td>0.0</td>\n",
       "      <td>9.136987e-08</td>\n",
       "      <td>6.852740e-08</td>\n",
       "      <td>0.0</td>\n",
       "      <td>1.119281e-06</td>\n",
       "      <td>3.197945e-07</td>\n",
       "      <td>1.598973e-07</td>\n",
       "      <td>0.0</td>\n",
       "      <td>0.0</td>\n",
       "      <td>4.568493e-08</td>\n",
       "      <td>8.737652e-08</td>\n",
       "      <td>0.000231</td>\n",
       "      <td>0.000453</td>\n",
       "      <td>0.000453</td>\n",
       "      <td>0.0</td>\n",
       "      <td>-0.000030</td>\n",
       "      <td>0.0</td>\n",
       "      <td>0.115126</td>\n",
       "      <td>0.111840</td>\n",
       "      <td>0.0</td>\n",
       "      <td>0.0</td>\n",
       "      <td>-9.593836e-07</td>\n",
       "      <td>0.000000e+00</td>\n",
       "      <td>0.000000e+00</td>\n",
       "      <td>1.598973e-07</td>\n",
       "      <td>0.0</td>\n",
       "      <td>0.039575</td>\n",
       "      <td>-2.531156e-06</td>\n",
       "      <td>6.505202e-07</td>\n",
       "      <td>3.630135e-06</td>\n",
       "      <td>1.874960e-06</td>\n",
       "      <td>6.768761e-08</td>\n",
       "      <td>0.0</td>\n",
       "      <td>0.0</td>\n",
       "      <td>0.0</td>\n",
       "      <td>0.0</td>\n",
       "      <td>5.0</td>\n",
       "      <td>3.0</td>\n",
       "      <td>4.0</td>\n",
       "      <td>1.0</td>\n",
       "      <td>1.0</td>\n",
       "      <td>18.0</td>\n",
       "      <td>57.0</td>\n",
       "      <td>0.0</td>\n",
       "      <td>2.0</td>\n",
       "      <td>23.0</td>\n",
       "      <td>0.0</td>\n",
       "      <td>0.0</td>\n",
       "      <td>7.0</td>\n",
       "      <td>2.0</td>\n",
       "      <td>25.0</td>\n",
       "      <td>2.0</td>\n",
       "      <td>3.0</td>\n",
       "      <td>5.0</td>\n",
       "      <td>10.0</td>\n",
       "      <td>14.0</td>\n",
       "      <td>4315.0</td>\n",
       "      <td>2.0</td>\n",
       "      <td>3.0</td>\n",
       "    </tr>\n",
       "    <tr>\n",
       "      <th>3</th>\n",
       "      <td>213461</td>\n",
       "      <td>0</td>\n",
       "      <td>0.0</td>\n",
       "      <td>0.062012</td>\n",
       "      <td>0.650478</td>\n",
       "      <td>0.017222</td>\n",
       "      <td>0.650478</td>\n",
       "      <td>0.000029</td>\n",
       "      <td>0.001516</td>\n",
       "      <td>0.001388</td>\n",
       "      <td>-0.001976</td>\n",
       "      <td>4.818358e-07</td>\n",
       "      <td>4.818358e-07</td>\n",
       "      <td>0.0</td>\n",
       "      <td>4.818358e-07</td>\n",
       "      <td>0.000000e+00</td>\n",
       "      <td>0.0</td>\n",
       "      <td>9.636716e-07</td>\n",
       "      <td>9.636716e-07</td>\n",
       "      <td>9.636716e-07</td>\n",
       "      <td>5.300194e-06</td>\n",
       "      <td>0.0</td>\n",
       "      <td>0.0</td>\n",
       "      <td>0.0</td>\n",
       "      <td>0.0</td>\n",
       "      <td>4.818358e-07</td>\n",
       "      <td>4.818358e-07</td>\n",
       "      <td>2.308833e-07</td>\n",
       "      <td>3.431419e-07</td>\n",
       "      <td>2.891015e-06</td>\n",
       "      <td>4.818358e-07</td>\n",
       "      <td>2.891015e-06</td>\n",
       "      <td>0.0</td>\n",
       "      <td>0.000903</td>\n",
       "      <td>4.818358e-07</td>\n",
       "      <td>0.0</td>\n",
       "      <td>0.0</td>\n",
       "      <td>0.0</td>\n",
       "      <td>0.0</td>\n",
       "      <td>0.0</td>\n",
       "      <td>0.0</td>\n",
       "      <td>0.0</td>\n",
       "      <td>4.818358e-07</td>\n",
       "      <td>0.0</td>\n",
       "      <td>0.0</td>\n",
       "      <td>0.0</td>\n",
       "      <td>0.000000e+00</td>\n",
       "      <td>0.0</td>\n",
       "      <td>0.000000e+00</td>\n",
       "      <td>0.000000e+00</td>\n",
       "      <td>0.002690</td>\n",
       "      <td>0.026850</td>\n",
       "      <td>0.025241</td>\n",
       "      <td>0.026850</td>\n",
       "      <td>5.621418e-06</td>\n",
       "      <td>4.818358e-07</td>\n",
       "      <td>-0.000690</td>\n",
       "      <td>0.000049</td>\n",
       "      <td>0.000006</td>\n",
       "      <td>0.002036</td>\n",
       "      <td>0.019363</td>\n",
       "      <td>0.019514</td>\n",
       "      <td>0.019363</td>\n",
       "      <td>4.336522e-06</td>\n",
       "      <td>4.818358e-07</td>\n",
       "      <td>-0.000903</td>\n",
       "      <td>1.445507e-05</td>\n",
       "      <td>0.000005</td>\n",
       "      <td>0.003950</td>\n",
       "      <td>0.039506</td>\n",
       "      <td>0.035555</td>\n",
       "      <td>0.039506</td>\n",
       "      <td>6.745701e-06</td>\n",
       "      <td>4.818358e-07</td>\n",
       "      <td>-0.000477</td>\n",
       "      <td>0.000087</td>\n",
       "      <td>0.000007</td>\n",
       "      <td>0.008069</td>\n",
       "      <td>0.080551</td>\n",
       "      <td>0.075722</td>\n",
       "      <td>0.080551</td>\n",
       "      <td>0.000017</td>\n",
       "      <td>1.445507e-06</td>\n",
       "      <td>-0.002070</td>\n",
       "      <td>0.000146</td>\n",
       "      <td>0.000017</td>\n",
       "      <td>-0.000716</td>\n",
       "      <td>-0.000721</td>\n",
       "      <td>0.002931</td>\n",
       "      <td>0.002931</td>\n",
       "      <td>0.000000</td>\n",
       "      <td>5.015473e-06</td>\n",
       "      <td>-0.000886</td>\n",
       "      <td>-0.000885</td>\n",
       "      <td>2.077541e-03</td>\n",
       "      <td>2.077541e-03</td>\n",
       "      <td>0.0</td>\n",
       "      <td>-1.445507e-06</td>\n",
       "      <td>-5.425471e-04</td>\n",
       "      <td>-5.531475e-04</td>\n",
       "      <td>0.003950</td>\n",
       "      <td>0.003950</td>\n",
       "      <td>0.000000</td>\n",
       "      <td>0.000012</td>\n",
       "      <td>-0.015749</td>\n",
       "      <td>-0.015860</td>\n",
       "      <td>0.064476</td>\n",
       "      <td>0.064476</td>\n",
       "      <td>0.000000</td>\n",
       "      <td>0.000110</td>\n",
       "      <td>0.000000</td>\n",
       "      <td>0.000000</td>\n",
       "      <td>0.000000</td>\n",
       "      <td>0.000000</td>\n",
       "      <td>0.000000</td>\n",
       "      <td>0.0</td>\n",
       "      <td>0.0</td>\n",
       "      <td>0.000000</td>\n",
       "      <td>0.000000</td>\n",
       "      <td>0.000000</td>\n",
       "      <td>0.000000</td>\n",
       "      <td>0.00000</td>\n",
       "      <td>0.00000</td>\n",
       "      <td>0.000000e+00</td>\n",
       "      <td>0.000000e+00</td>\n",
       "      <td>0.0</td>\n",
       "      <td>0.000000e+00</td>\n",
       "      <td>0.0</td>\n",
       "      <td>0.000000</td>\n",
       "      <td>0.0</td>\n",
       "      <td>0.00000</td>\n",
       "      <td>0.0</td>\n",
       "      <td>0.0</td>\n",
       "      <td>0.0</td>\n",
       "      <td>0.0</td>\n",
       "      <td>0.0</td>\n",
       "      <td>0.0</td>\n",
       "      <td>0.0</td>\n",
       "      <td>0.0</td>\n",
       "      <td>0.0</td>\n",
       "      <td>0.0</td>\n",
       "      <td>0.0</td>\n",
       "      <td>0.0</td>\n",
       "      <td>0.0</td>\n",
       "      <td>0.000000e+00</td>\n",
       "      <td>0.000000</td>\n",
       "      <td>0.000000</td>\n",
       "      <td>0.000000</td>\n",
       "      <td>0.000000</td>\n",
       "      <td>0.0</td>\n",
       "      <td>0.0</td>\n",
       "      <td>0.000000</td>\n",
       "      <td>0.000000</td>\n",
       "      <td>0.000000</td>\n",
       "      <td>0.000000</td>\n",
       "      <td>0.000000</td>\n",
       "      <td>0.000000</td>\n",
       "      <td>0.000000e+00</td>\n",
       "      <td>0.000000e+00</td>\n",
       "      <td>0.0</td>\n",
       "      <td>0.0</td>\n",
       "      <td>0.000000</td>\n",
       "      <td>0.0</td>\n",
       "      <td>0.0</td>\n",
       "      <td>0.000000</td>\n",
       "      <td>0.000000</td>\n",
       "      <td>0.000000</td>\n",
       "      <td>0.000000</td>\n",
       "      <td>0.000000</td>\n",
       "      <td>0.0</td>\n",
       "      <td>0.0</td>\n",
       "      <td>0.000000</td>\n",
       "      <td>0.000000</td>\n",
       "      <td>0.000000</td>\n",
       "      <td>0.000000</td>\n",
       "      <td>0.000000</td>\n",
       "      <td>0.000000</td>\n",
       "      <td>0.000000e+00</td>\n",
       "      <td>0.000000e+00</td>\n",
       "      <td>0.0</td>\n",
       "      <td>0.0</td>\n",
       "      <td>0.000000</td>\n",
       "      <td>0.0</td>\n",
       "      <td>0.0</td>\n",
       "      <td>-0.000024</td>\n",
       "      <td>0.000005</td>\n",
       "      <td>0.000003</td>\n",
       "      <td>0.000000e+00</td>\n",
       "      <td>0.000000e+00</td>\n",
       "      <td>-0.000030</td>\n",
       "      <td>4.818358e-06</td>\n",
       "      <td>0.0</td>\n",
       "      <td>-1.782793e-05</td>\n",
       "      <td>0.000006</td>\n",
       "      <td>0.000006</td>\n",
       "      <td>0.000000e+00</td>\n",
       "      <td>0.000000e+00</td>\n",
       "      <td>-0.000573</td>\n",
       "      <td>0.000128</td>\n",
       "      <td>0.000064</td>\n",
       "      <td>0.000000e+00</td>\n",
       "      <td>0.000000e+00</td>\n",
       "      <td>4.818358e-07</td>\n",
       "      <td>9.636716e-07</td>\n",
       "      <td>0.0</td>\n",
       "      <td>1.606119e-07</td>\n",
       "      <td>3.212239e-07</td>\n",
       "      <td>0.0</td>\n",
       "      <td>1.445507e-06</td>\n",
       "      <td>9.636716e-07</td>\n",
       "      <td>4.818358e-07</td>\n",
       "      <td>0.0</td>\n",
       "      <td>0.0</td>\n",
       "      <td>0.000000e+00</td>\n",
       "      <td>5.918777e-08</td>\n",
       "      <td>0.001037</td>\n",
       "      <td>0.001246</td>\n",
       "      <td>0.001246</td>\n",
       "      <td>0.0</td>\n",
       "      <td>-0.000229</td>\n",
       "      <td>0.0</td>\n",
       "      <td>0.325239</td>\n",
       "      <td>0.068528</td>\n",
       "      <td>0.0</td>\n",
       "      <td>0.0</td>\n",
       "      <td>-2.023710e-05</td>\n",
       "      <td>0.000000e+00</td>\n",
       "      <td>0.000000e+00</td>\n",
       "      <td>4.818358e-07</td>\n",
       "      <td>0.0</td>\n",
       "      <td>0.062012</td>\n",
       "      <td>6.786298e-08</td>\n",
       "      <td>5.054222e-06</td>\n",
       "      <td>1.819851e-05</td>\n",
       "      <td>5.334938e-06</td>\n",
       "      <td>2.539257e-07</td>\n",
       "      <td>0.0</td>\n",
       "      <td>1.0</td>\n",
       "      <td>1.0</td>\n",
       "      <td>0.0</td>\n",
       "      <td>5.0</td>\n",
       "      <td>7.0</td>\n",
       "      <td>4.0</td>\n",
       "      <td>1.0</td>\n",
       "      <td>1.0</td>\n",
       "      <td>4.0</td>\n",
       "      <td>35.0</td>\n",
       "      <td>1.0</td>\n",
       "      <td>2.0</td>\n",
       "      <td>22.0</td>\n",
       "      <td>0.0</td>\n",
       "      <td>0.0</td>\n",
       "      <td>7.0</td>\n",
       "      <td>2.0</td>\n",
       "      <td>392.0</td>\n",
       "      <td>3.0</td>\n",
       "      <td>0.0</td>\n",
       "      <td>7.0</td>\n",
       "      <td>153.0</td>\n",
       "      <td>20.0</td>\n",
       "      <td>4518.0</td>\n",
       "      <td>2.0</td>\n",
       "      <td>9.0</td>\n",
       "    </tr>\n",
       "    <tr>\n",
       "      <th>4</th>\n",
       "      <td>352876</td>\n",
       "      <td>0</td>\n",
       "      <td>0.0</td>\n",
       "      <td>0.021060</td>\n",
       "      <td>0.096362</td>\n",
       "      <td>0.003471</td>\n",
       "      <td>0.083185</td>\n",
       "      <td>0.000004</td>\n",
       "      <td>0.000296</td>\n",
       "      <td>0.000326</td>\n",
       "      <td>-0.000143</td>\n",
       "      <td>7.799854e-08</td>\n",
       "      <td>7.799854e-08</td>\n",
       "      <td>0.0</td>\n",
       "      <td>7.799854e-08</td>\n",
       "      <td>0.000000e+00</td>\n",
       "      <td>0.0</td>\n",
       "      <td>1.559971e-07</td>\n",
       "      <td>1.559971e-07</td>\n",
       "      <td>1.559971e-07</td>\n",
       "      <td>8.579839e-07</td>\n",
       "      <td>0.0</td>\n",
       "      <td>0.0</td>\n",
       "      <td>0.0</td>\n",
       "      <td>0.0</td>\n",
       "      <td>0.000000e+00</td>\n",
       "      <td>0.000000e+00</td>\n",
       "      <td>4.927777e-08</td>\n",
       "      <td>3.711560e-08</td>\n",
       "      <td>0.000000e+00</td>\n",
       "      <td>0.000000e+00</td>\n",
       "      <td>0.000000e+00</td>\n",
       "      <td>0.0</td>\n",
       "      <td>0.000113</td>\n",
       "      <td>7.799854e-08</td>\n",
       "      <td>0.0</td>\n",
       "      <td>0.0</td>\n",
       "      <td>0.0</td>\n",
       "      <td>0.0</td>\n",
       "      <td>0.0</td>\n",
       "      <td>0.0</td>\n",
       "      <td>0.0</td>\n",
       "      <td>0.000000e+00</td>\n",
       "      <td>0.0</td>\n",
       "      <td>0.0</td>\n",
       "      <td>0.0</td>\n",
       "      <td>7.799854e-08</td>\n",
       "      <td>0.0</td>\n",
       "      <td>0.000000e+00</td>\n",
       "      <td>3.119942e-07</td>\n",
       "      <td>0.001946</td>\n",
       "      <td>0.028760</td>\n",
       "      <td>0.033943</td>\n",
       "      <td>0.030480</td>\n",
       "      <td>9.047831e-07</td>\n",
       "      <td>7.799854e-08</td>\n",
       "      <td>-0.000079</td>\n",
       "      <td>0.000009</td>\n",
       "      <td>0.000001</td>\n",
       "      <td>0.000351</td>\n",
       "      <td>0.000000</td>\n",
       "      <td>0.005497</td>\n",
       "      <td>0.008599</td>\n",
       "      <td>8.579839e-07</td>\n",
       "      <td>7.799854e-08</td>\n",
       "      <td>-0.000113</td>\n",
       "      <td>-7.799854e-08</td>\n",
       "      <td>0.000000</td>\n",
       "      <td>0.004507</td>\n",
       "      <td>0.088099</td>\n",
       "      <td>0.094496</td>\n",
       "      <td>0.088099</td>\n",
       "      <td>9.359825e-07</td>\n",
       "      <td>7.799854e-08</td>\n",
       "      <td>-0.000049</td>\n",
       "      <td>0.000023</td>\n",
       "      <td>0.000004</td>\n",
       "      <td>0.009730</td>\n",
       "      <td>0.143802</td>\n",
       "      <td>0.169713</td>\n",
       "      <td>0.152401</td>\n",
       "      <td>0.000005</td>\n",
       "      <td>3.899927e-07</td>\n",
       "      <td>-0.000395</td>\n",
       "      <td>0.000046</td>\n",
       "      <td>0.000007</td>\n",
       "      <td>-0.000042</td>\n",
       "      <td>-0.000042</td>\n",
       "      <td>0.002313</td>\n",
       "      <td>0.002050</td>\n",
       "      <td>0.000263</td>\n",
       "      <td>5.722256e-07</td>\n",
       "      <td>-0.000110</td>\n",
       "      <td>-0.000111</td>\n",
       "      <td>1.710391e-05</td>\n",
       "      <td>1.084570e-06</td>\n",
       "      <td>0.0</td>\n",
       "      <td>-9.359825e-07</td>\n",
       "      <td>-1.013981e-06</td>\n",
       "      <td>-1.013981e-06</td>\n",
       "      <td>0.051682</td>\n",
       "      <td>0.051682</td>\n",
       "      <td>0.004174</td>\n",
       "      <td>0.000004</td>\n",
       "      <td>-0.004572</td>\n",
       "      <td>-0.004635</td>\n",
       "      <td>0.254387</td>\n",
       "      <td>0.225499</td>\n",
       "      <td>0.028889</td>\n",
       "      <td>0.000063</td>\n",
       "      <td>-0.000001</td>\n",
       "      <td>0.013088</td>\n",
       "      <td>0.015008</td>\n",
       "      <td>0.001489</td>\n",
       "      <td>0.001489</td>\n",
       "      <td>0.0</td>\n",
       "      <td>0.0</td>\n",
       "      <td>0.000632</td>\n",
       "      <td>0.001459</td>\n",
       "      <td>0.001409</td>\n",
       "      <td>0.012520</td>\n",
       "      <td>0.01293</td>\n",
       "      <td>0.01293</td>\n",
       "      <td>6.992972e-08</td>\n",
       "      <td>6.992972e-08</td>\n",
       "      <td>0.0</td>\n",
       "      <td>9.440513e-07</td>\n",
       "      <td>0.0</td>\n",
       "      <td>-0.000002</td>\n",
       "      <td>0.0</td>\n",
       "      <td>0.00702</td>\n",
       "      <td>0.0</td>\n",
       "      <td>0.0</td>\n",
       "      <td>0.0</td>\n",
       "      <td>0.0</td>\n",
       "      <td>0.0</td>\n",
       "      <td>0.0</td>\n",
       "      <td>0.0</td>\n",
       "      <td>0.0</td>\n",
       "      <td>0.0</td>\n",
       "      <td>0.0</td>\n",
       "      <td>0.0</td>\n",
       "      <td>0.0</td>\n",
       "      <td>0.0</td>\n",
       "      <td>-7.799854e-08</td>\n",
       "      <td>0.018339</td>\n",
       "      <td>0.017550</td>\n",
       "      <td>0.015795</td>\n",
       "      <td>0.015795</td>\n",
       "      <td>0.0</td>\n",
       "      <td>0.0</td>\n",
       "      <td>0.000913</td>\n",
       "      <td>0.018748</td>\n",
       "      <td>0.018573</td>\n",
       "      <td>0.017465</td>\n",
       "      <td>0.017942</td>\n",
       "      <td>0.017942</td>\n",
       "      <td>7.019869e-07</td>\n",
       "      <td>7.019869e-07</td>\n",
       "      <td>0.0</td>\n",
       "      <td>0.0</td>\n",
       "      <td>0.000002</td>\n",
       "      <td>0.0</td>\n",
       "      <td>0.0</td>\n",
       "      <td>-0.000034</td>\n",
       "      <td>0.379553</td>\n",
       "      <td>0.435232</td>\n",
       "      <td>0.043172</td>\n",
       "      <td>0.043172</td>\n",
       "      <td>0.0</td>\n",
       "      <td>0.0</td>\n",
       "      <td>0.018341</td>\n",
       "      <td>0.042300</td>\n",
       "      <td>0.040855</td>\n",
       "      <td>0.363086</td>\n",
       "      <td>0.374975</td>\n",
       "      <td>0.374975</td>\n",
       "      <td>2.027962e-06</td>\n",
       "      <td>2.027962e-06</td>\n",
       "      <td>0.0</td>\n",
       "      <td>0.0</td>\n",
       "      <td>0.000027</td>\n",
       "      <td>0.0</td>\n",
       "      <td>0.0</td>\n",
       "      <td>-0.000002</td>\n",
       "      <td>0.000002</td>\n",
       "      <td>0.000001</td>\n",
       "      <td>1.403974e-08</td>\n",
       "      <td>1.403974e-08</td>\n",
       "      <td>-0.000004</td>\n",
       "      <td>4.679912e-07</td>\n",
       "      <td>0.0</td>\n",
       "      <td>-7.799854e-08</td>\n",
       "      <td>0.000004</td>\n",
       "      <td>0.000004</td>\n",
       "      <td>6.239883e-07</td>\n",
       "      <td>6.239883e-07</td>\n",
       "      <td>-0.000096</td>\n",
       "      <td>0.000096</td>\n",
       "      <td>0.000071</td>\n",
       "      <td>7.019869e-07</td>\n",
       "      <td>7.019869e-07</td>\n",
       "      <td>1.559971e-07</td>\n",
       "      <td>1.559971e-07</td>\n",
       "      <td>0.0</td>\n",
       "      <td>3.899927e-08</td>\n",
       "      <td>3.899927e-08</td>\n",
       "      <td>0.0</td>\n",
       "      <td>3.119942e-07</td>\n",
       "      <td>1.559971e-07</td>\n",
       "      <td>7.799854e-08</td>\n",
       "      <td>0.0</td>\n",
       "      <td>0.0</td>\n",
       "      <td>0.000000e+00</td>\n",
       "      <td>4.202752e-08</td>\n",
       "      <td>0.000108</td>\n",
       "      <td>0.000061</td>\n",
       "      <td>0.000228</td>\n",
       "      <td>0.0</td>\n",
       "      <td>-0.000070</td>\n",
       "      <td>0.0</td>\n",
       "      <td>0.040715</td>\n",
       "      <td>0.036731</td>\n",
       "      <td>0.0</td>\n",
       "      <td>0.0</td>\n",
       "      <td>-5.459898e-07</td>\n",
       "      <td>2.455510e-08</td>\n",
       "      <td>0.000000e+00</td>\n",
       "      <td>4.838798e-08</td>\n",
       "      <td>0.0</td>\n",
       "      <td>0.021060</td>\n",
       "      <td>1.616278e-08</td>\n",
       "      <td>3.568966e-07</td>\n",
       "      <td>2.165197e-06</td>\n",
       "      <td>9.213997e-07</td>\n",
       "      <td>3.166709e-08</td>\n",
       "      <td>0.0</td>\n",
       "      <td>0.0</td>\n",
       "      <td>0.0</td>\n",
       "      <td>1.0</td>\n",
       "      <td>5.0</td>\n",
       "      <td>7.0</td>\n",
       "      <td>4.0</td>\n",
       "      <td>1.0</td>\n",
       "      <td>1.0</td>\n",
       "      <td>10.0</td>\n",
       "      <td>33.0</td>\n",
       "      <td>7.0</td>\n",
       "      <td>2.0</td>\n",
       "      <td>22.0</td>\n",
       "      <td>0.0</td>\n",
       "      <td>0.0</td>\n",
       "      <td>7.0</td>\n",
       "      <td>2.0</td>\n",
       "      <td>25.0</td>\n",
       "      <td>26.0</td>\n",
       "      <td>6.0</td>\n",
       "      <td>5.0</td>\n",
       "      <td>10.0</td>\n",
       "      <td>30.0</td>\n",
       "      <td>11.0</td>\n",
       "      <td>2.0</td>\n",
       "      <td>3.0</td>\n",
       "    </tr>\n",
       "  </tbody>\n",
       "</table>\n",
       "</div>"
      ],
      "text/plain": [
       "   SK_ID_CURR  TARGET  CNT_CHILDREN  AMT_INCOME_TOTAL  AMT_CREDIT  \\\n",
       "0      281713       0           0.0          0.006719    0.012909   \n",
       "1      133003       0           0.0          0.063148    0.074795   \n",
       "2      446481       0           0.0          0.039575    0.161004   \n",
       "3      213461       0           0.0          0.062012    0.650478   \n",
       "4      352876       0           0.0          0.021060    0.096362   \n",
       "\n",
       "   AMT_ANNUITY  AMT_GOODS_PRICE       AGE  DAYS_EMPLOYED  DAYS_REGISTRATION  \\\n",
       "0     0.000833         0.010213  0.000003       0.000013           0.000170   \n",
       "1     0.007327         0.070164  0.000018       0.000514           0.004104   \n",
       "2     0.007092         0.143908  0.000010       0.000264           0.001959   \n",
       "3     0.017222         0.650478  0.000029       0.001516           0.001388   \n",
       "4     0.003471         0.083185  0.000004       0.000296           0.000326   \n",
       "\n",
       "   DAYS_ID_PUBLISH    FLAG_MOBIL  FLAG_EMP_PHONE  FLAG_WORK_PHONE  \\\n",
       "0        -0.000014  5.972623e-08    5.972623e-08              0.0   \n",
       "1        -0.001418  3.118418e-07    0.000000e+00              0.0   \n",
       "2        -0.000088  1.598973e-07    0.000000e+00              0.0   \n",
       "3        -0.001976  4.818358e-07    4.818358e-07              0.0   \n",
       "4        -0.000143  7.799854e-08    7.799854e-08              0.0   \n",
       "\n",
       "   FLAG_CONT_MOBILE    FLAG_PHONE  FLAG_EMAIL  CNT_FAM_MEMBERS  \\\n",
       "0      5.972623e-08  0.000000e+00         0.0     1.194525e-07   \n",
       "1      3.118418e-07  0.000000e+00         0.0     6.236837e-07   \n",
       "2      1.598973e-07  1.598973e-07         0.0     3.197945e-07   \n",
       "3      4.818358e-07  0.000000e+00         0.0     9.636716e-07   \n",
       "4      7.799854e-08  0.000000e+00         0.0     1.559971e-07   \n",
       "\n",
       "   REGION_RATING_CLIENT  REGION_RATING_CLIENT_W_CITY  HOUR_APPR_PROCESS_START  \\\n",
       "0          1.194525e-07                 1.194525e-07             2.986312e-07   \n",
       "1          6.236837e-07                 6.236837e-07             3.118418e-06   \n",
       "2          1.598973e-07                 1.598973e-07             1.439075e-06   \n",
       "3          9.636716e-07                 9.636716e-07             5.300194e-06   \n",
       "4          1.559971e-07                 1.559971e-07             8.579839e-07   \n",
       "\n",
       "   REG_REGION_NOT_LIVE_REGION  REG_REGION_NOT_WORK_REGION  \\\n",
       "0                         0.0                         0.0   \n",
       "1                         0.0                         0.0   \n",
       "2                         0.0                         0.0   \n",
       "3                         0.0                         0.0   \n",
       "4                         0.0                         0.0   \n",
       "\n",
       "   LIVE_REGION_NOT_WORK_REGION  REG_CITY_NOT_LIVE_CITY  \\\n",
       "0                          0.0                     0.0   \n",
       "1                          0.0                     0.0   \n",
       "2                          0.0                     0.0   \n",
       "3                          0.0                     0.0   \n",
       "4                          0.0                     0.0   \n",
       "\n",
       "   REG_CITY_NOT_WORK_CITY  LIVE_CITY_NOT_WORK_CITY  EXT_SOURCE_2  \\\n",
       "0            0.000000e+00             0.000000e+00  4.605905e-08   \n",
       "1            0.000000e+00             0.000000e+00  1.731495e-07   \n",
       "2            0.000000e+00             0.000000e+00  6.895244e-08   \n",
       "3            4.818358e-07             4.818358e-07  2.308833e-07   \n",
       "4            0.000000e+00             0.000000e+00  4.927777e-08   \n",
       "\n",
       "   EXT_SOURCE_3  OBS_30_CNT_SOCIAL_CIRCLE  DEF_30_CNT_SOCIAL_CIRCLE  \\\n",
       "0  4.505784e-08              5.972623e-08              0.000000e+00   \n",
       "1  2.015527e-07              0.000000e+00              0.000000e+00   \n",
       "2  6.363053e-08              0.000000e+00              0.000000e+00   \n",
       "3  3.431419e-07              2.891015e-06              4.818358e-07   \n",
       "4  3.711560e-08              0.000000e+00              0.000000e+00   \n",
       "\n",
       "   OBS_60_CNT_SOCIAL_CIRCLE  DEF_60_CNT_SOCIAL_CIRCLE  DAYS_LAST_PHONE_CHANGE  \\\n",
       "0              5.972623e-08                       0.0                0.000077   \n",
       "1              0.000000e+00                       0.0                0.000209   \n",
       "2              0.000000e+00                       0.0                0.000294   \n",
       "3              2.891015e-06                       0.0                0.000903   \n",
       "4              0.000000e+00                       0.0                0.000113   \n",
       "\n",
       "   FLAG_DOCUMENT_3  FLAG_DOCUMENT_5  FLAG_DOCUMENT_6  FLAG_DOCUMENT_8  \\\n",
       "0     5.972623e-08              0.0              0.0              0.0   \n",
       "1     3.118418e-07              0.0              0.0              0.0   \n",
       "2     1.598973e-07              0.0              0.0              0.0   \n",
       "3     4.818358e-07              0.0              0.0              0.0   \n",
       "4     7.799854e-08              0.0              0.0              0.0   \n",
       "\n",
       "   FLAG_DOCUMENT_9  FLAG_DOCUMENT_11  FLAG_DOCUMENT_13  FLAG_DOCUMENT_14  \\\n",
       "0              0.0               0.0               0.0               0.0   \n",
       "1              0.0               0.0               0.0               0.0   \n",
       "2              0.0               0.0               0.0               0.0   \n",
       "3              0.0               0.0               0.0               0.0   \n",
       "4              0.0               0.0               0.0               0.0   \n",
       "\n",
       "   FLAG_DOCUMENT_16  FLAG_DOCUMENT_18  AMT_REQ_CREDIT_BUREAU_HOUR  \\\n",
       "0      0.000000e+00               0.0                         0.0   \n",
       "1      0.000000e+00               0.0                         0.0   \n",
       "2      0.000000e+00               0.0                         0.0   \n",
       "3      4.818358e-07               0.0                         0.0   \n",
       "4      0.000000e+00               0.0                         0.0   \n",
       "\n",
       "   AMT_REQ_CREDIT_BUREAU_DAY  AMT_REQ_CREDIT_BUREAU_WEEK  \\\n",
       "0                        0.0                0.000000e+00   \n",
       "1                        0.0                0.000000e+00   \n",
       "2                        0.0                0.000000e+00   \n",
       "3                        0.0                0.000000e+00   \n",
       "4                        0.0                7.799854e-08   \n",
       "\n",
       "   AMT_REQ_CREDIT_BUREAU_MON  AMT_REQ_CREDIT_BUREAU_QRT  \\\n",
       "0                        0.0               0.000000e+00   \n",
       "1                        0.0               6.236837e-07   \n",
       "2                        0.0               0.000000e+00   \n",
       "3                        0.0               0.000000e+00   \n",
       "4                        0.0               0.000000e+00   \n",
       "\n",
       "   AMT_REQ_CREDIT_BUREAU_YEAR  AMT_ANNUITY_Pre_mean  AMT_APPLICATION_Pre_mean  \\\n",
       "0                3.583574e-07              0.000881                  0.012269   \n",
       "1                1.871051e-06              0.004688                  0.039110   \n",
       "2                1.279178e-06              0.003930                  0.044654   \n",
       "3                0.000000e+00              0.002690                  0.026850   \n",
       "4                3.119942e-07              0.001946                  0.028760   \n",
       "\n",
       "   AMT_CREDIT_Pre_mean  AMT_GOODS_PRICE_Pre_mean  \\\n",
       "0             0.014530                  0.015012   \n",
       "1             0.042830                  0.059737   \n",
       "2             0.047505                  0.051264   \n",
       "3             0.025241                  0.026850   \n",
       "4             0.033943                  0.030480   \n",
       "\n",
       "   HOUR_APPR_PROCESS_START_Pre_mean  NFLAG_LAST_APPL_IN_DAY_Pre_mean  \\\n",
       "0                      4.778098e-07                     5.972623e-08   \n",
       "1                      3.710918e-06                     3.118418e-07   \n",
       "2                      2.038690e-06                     1.598973e-07   \n",
       "3                      5.621418e-06                     4.818358e-07   \n",
       "4                      9.047831e-07                     7.799854e-08   \n",
       "\n",
       "   DAYS_DECISION_Pre_mean  SELLERPLACE_AREA_Pre_mean  CNT_PAYMENT_Pre_mean  \\\n",
       "0               -0.000062                   0.000013              0.000001   \n",
       "1               -0.000094                   0.000002              0.000005   \n",
       "2               -0.000128                   0.000002              0.000003   \n",
       "3               -0.000690                   0.000049              0.000006   \n",
       "4               -0.000079                   0.000009              0.000001   \n",
       "\n",
       "   AMT_ANNUITY_Pre_min  AMT_APPLICATION_Pre_min  AMT_CREDIT_Pre_min  \\\n",
       "0             0.000276                 0.000000            0.000000   \n",
       "1             0.002534                 0.000000            0.000000   \n",
       "2             0.001795                 0.000000            0.000000   \n",
       "3             0.002036                 0.019363            0.019514   \n",
       "4             0.000351                 0.000000            0.005497   \n",
       "\n",
       "   AMT_GOODS_PRICE_Pre_min  HOUR_APPR_PROCESS_START_Pre_min  \\\n",
       "0                 0.002502                     2.389049e-07   \n",
       "1                 0.024838                     3.118418e-06   \n",
       "2                 0.017628                     1.598973e-06   \n",
       "3                 0.019363                     4.336522e-06   \n",
       "4                 0.008599                     8.579839e-07   \n",
       "\n",
       "   NFLAG_LAST_APPL_IN_DAY_Pre_min  DAYS_DECISION_Pre_min  \\\n",
       "0                    5.972623e-08              -0.000158   \n",
       "1                    3.118418e-07              -0.000266   \n",
       "2                    1.598973e-07              -0.000294   \n",
       "3                    4.818358e-07              -0.000903   \n",
       "4                    7.799854e-08              -0.000113   \n",
       "\n",
       "   SELLERPLACE_AREA_Pre_min  CNT_PAYMENT_Pre_min  AMT_ANNUITY_Pre_max  \\\n",
       "0             -5.972623e-08             0.000000             0.002176   \n",
       "1             -3.118418e-07             0.000004             0.008468   \n",
       "2             -1.598973e-07             0.000002             0.007543   \n",
       "3              1.445507e-05             0.000005             0.003950   \n",
       "4             -7.799854e-08             0.000000             0.004507   \n",
       "\n",
       "   AMT_APPLICATION_Pre_max  AMT_CREDIT_Pre_max  AMT_GOODS_PRICE_Pre_max  \\\n",
       "0                 0.067461            0.067461                 0.067461   \n",
       "1                 0.210493            0.239390                 0.210493   \n",
       "2                 0.107931            0.115339                 0.107931   \n",
       "3                 0.039506            0.035555                 0.039506   \n",
       "4                 0.088099            0.094496                 0.088099   \n",
       "\n",
       "   HOUR_APPR_PROCESS_START_Pre_max  NFLAG_LAST_APPL_IN_DAY_Pre_max  \\\n",
       "0                     7.167148e-07                    5.972623e-08   \n",
       "1                     4.365786e-06                    3.118418e-07   \n",
       "2                     2.558356e-06                    1.598973e-07   \n",
       "3                     6.745701e-06                    4.818358e-07   \n",
       "4                     9.359825e-07                    7.799854e-08   \n",
       "\n",
       "   DAYS_DECISION_Pre_max  SELLERPLACE_AREA_Pre_max  CNT_PAYMENT_Pre_max  \\\n",
       "0              -0.000019                  0.000077             0.000004   \n",
       "1              -0.000008                  0.000019             0.000015   \n",
       "2              -0.000031                  0.000016             0.000004   \n",
       "3              -0.000477                  0.000087             0.000007   \n",
       "4              -0.000049                  0.000023             0.000004   \n",
       "\n",
       "   AMT_ANNUITY_Pre_sum  AMT_APPLICATION_Pre_sum  AMT_CREDIT_Pre_sum  \\\n",
       "0             0.010570                 0.147226            0.174357   \n",
       "1             0.046880                 0.391096            0.428299   \n",
       "2             0.031438                 0.357230            0.380044   \n",
       "3             0.008069                 0.080551            0.075722   \n",
       "4             0.009730                 0.143802            0.169713   \n",
       "\n",
       "   AMT_GOODS_PRICE_Pre_sum  HOUR_APPR_PROCESS_START_Pre_sum  \\\n",
       "0                 0.180149                         0.000006   \n",
       "1                 0.597371                         0.000037   \n",
       "2                 0.410114                         0.000016   \n",
       "3                 0.080551                         0.000017   \n",
       "4                 0.152401                         0.000005   \n",
       "\n",
       "   NFLAG_LAST_APPL_IN_DAY_Pre_sum  DAYS_DECISION_Pre_sum  \\\n",
       "0                    7.167148e-07              -0.000746   \n",
       "1                    3.118418e-06              -0.000945   \n",
       "2                    1.279178e-06              -0.001024   \n",
       "3                    1.445507e-06              -0.002070   \n",
       "4                    3.899927e-07              -0.000395   \n",
       "\n",
       "   SELLERPLACE_AREA_Pre_sum  CNT_PAYMENT_Pre_sum  DAYS_INSTALMENT_Ins_mean  \\\n",
       "0                  0.000157             0.000016                 -0.000062   \n",
       "1                  0.000016             0.000049                 -0.000114   \n",
       "2                  0.000015             0.000021                 -0.000130   \n",
       "3                  0.000146             0.000017                 -0.000716   \n",
       "4                  0.000046             0.000007                 -0.000042   \n",
       "\n",
       "   DAYS_ENTRY_PAYMENT_Ins_mean  AMT_INSTALMENT_Ins_mean  AMT_PAYMENT_Ins_mean  \\\n",
       "0                    -0.000063                 0.001266              0.001266   \n",
       "1                    -0.000118                 0.007114              0.007114   \n",
       "2                    -0.000132                 0.007406              0.007002   \n",
       "3                    -0.000721                 0.002931              0.002931   \n",
       "4                    -0.000042                 0.002313              0.002050   \n",
       "\n",
       "   Own_payment_Ins_mean  payday_before_dueday_Ins_mean  \\\n",
       "0              0.000000                   6.150434e-07   \n",
       "1              0.000000                   3.889361e-06   \n",
       "2              0.000404                   1.778857e-06   \n",
       "3              0.000000                   5.015473e-06   \n",
       "4              0.000263                   5.722256e-07   \n",
       "\n",
       "   DAYS_INSTALMENT_Ins_min  DAYS_ENTRY_PAYMENT_Ins_min  \\\n",
       "0                -0.000156                   -0.000156   \n",
       "1                -0.000257                   -0.000263   \n",
       "2                -0.000287                   -0.000292   \n",
       "3                -0.000886                   -0.000885   \n",
       "4                -0.000110                   -0.000111   \n",
       "\n",
       "   AMT_INSTALMENT_Ins_min  AMT_PAYMENT_Ins_min  Own_payment_Ins_min  \\\n",
       "0            1.236333e-07         1.236333e-07                  0.0   \n",
       "1            2.533749e-03         2.533749e-03                  0.0   \n",
       "2            2.692524e-03         1.301212e-04                  0.0   \n",
       "3            2.077541e-03         2.077541e-03                  0.0   \n",
       "4            1.710391e-05         1.084570e-06                  0.0   \n",
       "\n",
       "   payday_before_dueday_Ins_min  DAYS_INSTALMENT_Ins_max  \\\n",
       "0                  0.000000e+00            -5.972623e-07   \n",
       "1                  9.355255e-07            -6.860520e-06   \n",
       "2                 -4.796918e-07            -2.398459e-06   \n",
       "3                 -1.445507e-06            -5.425471e-04   \n",
       "4                 -9.359825e-07            -1.013981e-06   \n",
       "\n",
       "   DAYS_ENTRY_PAYMENT_Ins_max  AMT_INSTALMENT_Ins_max  AMT_PAYMENT_Ins_max  \\\n",
       "0               -7.764410e-07                0.027608             0.027608   \n",
       "1               -8.419729e-06                0.012419             0.012419   \n",
       "2               -2.558356e-06                0.080153             0.080153   \n",
       "3               -5.531475e-04                0.003950             0.003950   \n",
       "4               -1.013981e-06                0.051682             0.051682   \n",
       "\n",
       "   Own_payment_Ins_max  payday_before_dueday_Ins_max  DAYS_INSTALMENT_Ins_sum  \\\n",
       "0             0.000000                      0.000002                -0.008174   \n",
       "1             0.000000                      0.000008                -0.004114   \n",
       "2             0.006331                      0.000006                -0.008328   \n",
       "3             0.000000                      0.000012                -0.015749   \n",
       "4             0.004174                      0.000004                -0.004572   \n",
       "\n",
       "   DAYS_ENTRY_PAYMENT_Ins_sum  AMT_INSTALMENT_Ins_sum  AMT_PAYMENT_Ins_sum  \\\n",
       "0                   -0.008254                0.165903             0.165903   \n",
       "1                   -0.004254                0.256102             0.256102   \n",
       "2                   -0.008442                0.473997             0.448152   \n",
       "3                   -0.015860                0.064476             0.064476   \n",
       "4                   -0.004635                0.254387             0.225499   \n",
       "\n",
       "   Own_payment_Ins_sum  payday_before_dueday_Ins_sum  MONTHS_BALANCE_Cre_mean  \\\n",
       "0             0.000000                      0.000081                -0.000002   \n",
       "1             0.000000                      0.000140                 0.000000   \n",
       "2             0.025846                      0.000114                 0.000000   \n",
       "3             0.000000                      0.000110                 0.000000   \n",
       "4             0.028889                      0.000063                -0.000001   \n",
       "\n",
       "   AMT_BALANCE_Cre_mean  AMT_CREDIT_LIMIT_ACTUAL_Cre_mean  \\\n",
       "0              0.004101                          0.008301   \n",
       "1              0.000000                          0.000000   \n",
       "2              0.000000                          0.000000   \n",
       "3              0.000000                          0.000000   \n",
       "4              0.013088                          0.015008   \n",
       "\n",
       "   AMT_DRAWINGS_ATM_CURRENT_Cre_mean  AMT_DRAWINGS_CURRENT_Cre_mean  \\\n",
       "0                           0.000152                       0.000152   \n",
       "1                           0.000000                       0.000000   \n",
       "2                           0.000000                       0.000000   \n",
       "3                           0.000000                       0.000000   \n",
       "4                           0.001489                       0.001489   \n",
       "\n",
       "   AMT_DRAWINGS_OTHER_CURRENT_Cre_mean  AMT_DRAWINGS_POS_CURRENT_Cre_mean  \\\n",
       "0                                  0.0                                0.0   \n",
       "1                                  0.0                                0.0   \n",
       "2                                  0.0                                0.0   \n",
       "3                                  0.0                                0.0   \n",
       "4                                  0.0                                0.0   \n",
       "\n",
       "   AMT_INST_MIN_REGULARITY_Cre_mean  AMT_PAYMENT_CURRENT_Cre_mean  \\\n",
       "0                          0.000253                      0.000331   \n",
       "1                          0.000000                      0.000000   \n",
       "2                          0.000000                      0.000000   \n",
       "3                          0.000000                      0.000000   \n",
       "4                          0.000632                      0.001459   \n",
       "\n",
       "   AMT_PAYMENT_TOTAL_CURRENT_Cre_mean  AMT_RECEIVABLE_PRINCIPAL_Cre_mean  \\\n",
       "0                            0.000330                           0.003922   \n",
       "1                            0.000000                           0.000000   \n",
       "2                            0.000000                           0.000000   \n",
       "3                            0.000000                           0.000000   \n",
       "4                            0.001409                           0.012520   \n",
       "\n",
       "   AMT_RECIVABLE_Cre_mean  AMT_TOTAL_RECEIVABLE_Cre_mean  \\\n",
       "0                 0.00410                        0.00410   \n",
       "1                 0.00000                        0.00000   \n",
       "2                 0.00000                        0.00000   \n",
       "3                 0.00000                        0.00000   \n",
       "4                 0.01293                        0.01293   \n",
       "\n",
       "   CNT_DRAWINGS_ATM_CURRENT_Cre_mean  CNT_DRAWINGS_CURRENT_Cre_mean  \\\n",
       "0                       7.560282e-09                   7.560282e-09   \n",
       "1                       0.000000e+00                   0.000000e+00   \n",
       "2                       0.000000e+00                   0.000000e+00   \n",
       "3                       0.000000e+00                   0.000000e+00   \n",
       "4                       6.992972e-08                   6.992972e-08   \n",
       "\n",
       "   CNT_DRAWINGS_POS_CURRENT_Cre_mean  CNT_INSTALMENT_MATURE_CUM_Cre_mean  \\\n",
       "0                                0.0                        1.537005e-06   \n",
       "1                                0.0                        0.000000e+00   \n",
       "2                                0.0                        0.000000e+00   \n",
       "3                                0.0                        0.000000e+00   \n",
       "4                                0.0                        9.440513e-07   \n",
       "\n",
       "   SK_DPD_Cre_mean  MONTHS_BALANCE_Cre_min  AMT_BALANCE_Cre_min  \\\n",
       "0              0.0               -0.000005                  0.0   \n",
       "1              0.0                0.000000                  0.0   \n",
       "2              0.0                0.000000                  0.0   \n",
       "3              0.0                0.000000                  0.0   \n",
       "4              0.0               -0.000002                  0.0   \n",
       "\n",
       "   AMT_CREDIT_LIMIT_ACTUAL_Cre_min  AMT_DRAWINGS_ATM_CURRENT_Cre_min  \\\n",
       "0                          0.00000                               0.0   \n",
       "1                          0.00000                               0.0   \n",
       "2                          0.00000                               0.0   \n",
       "3                          0.00000                               0.0   \n",
       "4                          0.00702                               0.0   \n",
       "\n",
       "   AMT_DRAWINGS_CURRENT_Cre_min  AMT_DRAWINGS_POS_CURRENT_Cre_min  \\\n",
       "0                           0.0                               0.0   \n",
       "1                           0.0                               0.0   \n",
       "2                           0.0                               0.0   \n",
       "3                           0.0                               0.0   \n",
       "4                           0.0                               0.0   \n",
       "\n",
       "   AMT_INST_MIN_REGULARITY_Cre_min  AMT_PAYMENT_CURRENT_Cre_min  \\\n",
       "0                              0.0                          0.0   \n",
       "1                              0.0                          0.0   \n",
       "2                              0.0                          0.0   \n",
       "3                              0.0                          0.0   \n",
       "4                              0.0                          0.0   \n",
       "\n",
       "   AMT_PAYMENT_TOTAL_CURRENT_Cre_min  AMT_RECEIVABLE_PRINCIPAL_Cre_min  \\\n",
       "0                                0.0                               0.0   \n",
       "1                                0.0                               0.0   \n",
       "2                                0.0                               0.0   \n",
       "3                                0.0                               0.0   \n",
       "4                                0.0                               0.0   \n",
       "\n",
       "   AMT_RECIVABLE_Cre_min  AMT_TOTAL_RECEIVABLE_Cre_min  \\\n",
       "0                    0.0                           0.0   \n",
       "1                    0.0                           0.0   \n",
       "2                    0.0                           0.0   \n",
       "3                    0.0                           0.0   \n",
       "4                    0.0                           0.0   \n",
       "\n",
       "   CNT_DRAWINGS_ATM_CURRENT_Cre_min  CNT_DRAWINGS_CURRENT_Cre_min  \\\n",
       "0                               0.0                           0.0   \n",
       "1                               0.0                           0.0   \n",
       "2                               0.0                           0.0   \n",
       "3                               0.0                           0.0   \n",
       "4                               0.0                           0.0   \n",
       "\n",
       "   CNT_DRAWINGS_POS_CURRENT_Cre_min  CNT_INSTALMENT_MATURE_CUM_Cre_min  \\\n",
       "0                               0.0                                0.0   \n",
       "1                               0.0                                0.0   \n",
       "2                               0.0                                0.0   \n",
       "3                               0.0                                0.0   \n",
       "4                               0.0                                0.0   \n",
       "\n",
       "   MONTHS_BALANCE_Cre_max  AMT_BALANCE_Cre_max  \\\n",
       "0           -1.194525e-07             0.010769   \n",
       "1            0.000000e+00             0.000000   \n",
       "2            0.000000e+00             0.000000   \n",
       "3            0.000000e+00             0.000000   \n",
       "4           -7.799854e-08             0.018339   \n",
       "\n",
       "   AMT_CREDIT_LIMIT_ACTUAL_Cre_max  AMT_DRAWINGS_ATM_CURRENT_Cre_max  \\\n",
       "0                         0.010751                          0.007526   \n",
       "1                         0.000000                          0.000000   \n",
       "2                         0.000000                          0.000000   \n",
       "3                         0.000000                          0.000000   \n",
       "4                         0.017550                          0.015795   \n",
       "\n",
       "   AMT_DRAWINGS_CURRENT_Cre_max  AMT_DRAWINGS_OTHER_CURRENT_Cre_max  \\\n",
       "0                      0.007526                                 0.0   \n",
       "1                      0.000000                                 0.0   \n",
       "2                      0.000000                                 0.0   \n",
       "3                      0.000000                                 0.0   \n",
       "4                      0.015795                                 0.0   \n",
       "\n",
       "   AMT_DRAWINGS_POS_CURRENT_Cre_max  AMT_INST_MIN_REGULARITY_Cre_max  \\\n",
       "0                               0.0                         0.000538   \n",
       "1                               0.0                         0.000000   \n",
       "2                               0.0                         0.000000   \n",
       "3                               0.0                         0.000000   \n",
       "4                               0.0                         0.000913   \n",
       "\n",
       "   AMT_PAYMENT_CURRENT_Cre_max  AMT_PAYMENT_TOTAL_CURRENT_Cre_max  \\\n",
       "0                     0.006707                           0.006707   \n",
       "1                     0.000000                           0.000000   \n",
       "2                     0.000000                           0.000000   \n",
       "3                     0.000000                           0.000000   \n",
       "4                     0.018748                           0.018573   \n",
       "\n",
       "   AMT_RECEIVABLE_PRINCIPAL_Cre_max  AMT_RECIVABLE_Cre_max  \\\n",
       "0                          0.010186               0.010769   \n",
       "1                          0.000000               0.000000   \n",
       "2                          0.000000               0.000000   \n",
       "3                          0.000000               0.000000   \n",
       "4                          0.017465               0.017942   \n",
       "\n",
       "   AMT_TOTAL_RECEIVABLE_Cre_max  CNT_DRAWINGS_ATM_CURRENT_Cre_max  \\\n",
       "0                      0.010769                      2.389049e-07   \n",
       "1                      0.000000                      0.000000e+00   \n",
       "2                      0.000000                      0.000000e+00   \n",
       "3                      0.000000                      0.000000e+00   \n",
       "4                      0.017942                      7.019869e-07   \n",
       "\n",
       "   CNT_DRAWINGS_CURRENT_Cre_max  CNT_DRAWINGS_OTHER_CURRENT_Cre_max  \\\n",
       "0                  2.389049e-07                                 0.0   \n",
       "1                  0.000000e+00                                 0.0   \n",
       "2                  0.000000e+00                                 0.0   \n",
       "3                  0.000000e+00                                 0.0   \n",
       "4                  7.019869e-07                                 0.0   \n",
       "\n",
       "   CNT_DRAWINGS_POS_CURRENT_Cre_max  CNT_INSTALMENT_MATURE_CUM_Cre_max  \\\n",
       "0                               0.0                           0.000002   \n",
       "1                               0.0                           0.000000   \n",
       "2                               0.0                           0.000000   \n",
       "3                               0.0                           0.000000   \n",
       "4                               0.0                           0.000002   \n",
       "\n",
       "   SK_DPD_Cre_max  SK_DPD_DEF_Cre_max  MONTHS_BALANCE_Cre_sum  \\\n",
       "0             0.0                 0.0               -0.000193   \n",
       "1             0.0                 0.0                0.000000   \n",
       "2             0.0                 0.0                0.000000   \n",
       "3             0.0                 0.0                0.000000   \n",
       "4             0.0                 0.0               -0.000034   \n",
       "\n",
       "   AMT_BALANCE_Cre_sum  AMT_CREDIT_LIMIT_ACTUAL_Cre_sum  \\\n",
       "0             0.324013                         0.655794   \n",
       "1             0.000000                         0.000000   \n",
       "2             0.000000                         0.000000   \n",
       "3             0.000000                         0.000000   \n",
       "4             0.379553                         0.435232   \n",
       "\n",
       "   AMT_DRAWINGS_ATM_CURRENT_Cre_sum  AMT_DRAWINGS_CURRENT_Cre_sum  \\\n",
       "0                          0.011987                      0.011987   \n",
       "1                          0.000000                      0.000000   \n",
       "2                          0.000000                      0.000000   \n",
       "3                          0.000000                      0.000000   \n",
       "4                          0.043172                      0.043172   \n",
       "\n",
       "   AMT_DRAWINGS_OTHER_CURRENT_Cre_sum  AMT_DRAWINGS_POS_CURRENT_Cre_sum  \\\n",
       "0                                 0.0                               0.0   \n",
       "1                                 0.0                               0.0   \n",
       "2                                 0.0                               0.0   \n",
       "3                                 0.0                               0.0   \n",
       "4                                 0.0                               0.0   \n",
       "\n",
       "   AMT_INST_MIN_REGULARITY_Cre_sum  AMT_PAYMENT_CURRENT_Cre_sum  \\\n",
       "0                         0.019981                     0.026154   \n",
       "1                         0.000000                     0.000000   \n",
       "2                         0.000000                     0.000000   \n",
       "3                         0.000000                     0.000000   \n",
       "4                         0.018341                     0.042300   \n",
       "\n",
       "   AMT_PAYMENT_TOTAL_CURRENT_Cre_sum  AMT_RECEIVABLE_PRINCIPAL_Cre_sum  \\\n",
       "0                           0.026058                          0.309837   \n",
       "1                           0.000000                          0.000000   \n",
       "2                           0.000000                          0.000000   \n",
       "3                           0.000000                          0.000000   \n",
       "4                           0.040855                          0.363086   \n",
       "\n",
       "   AMT_RECIVABLE_Cre_sum  AMT_TOTAL_RECEIVABLE_Cre_sum  \\\n",
       "0               0.323920                      0.323920   \n",
       "1               0.000000                      0.000000   \n",
       "2               0.000000                      0.000000   \n",
       "3               0.000000                      0.000000   \n",
       "4               0.374975                      0.374975   \n",
       "\n",
       "   CNT_DRAWINGS_ATM_CURRENT_Cre_sum  CNT_DRAWINGS_CURRENT_Cre_sum  \\\n",
       "0                      5.972623e-07                  5.972623e-07   \n",
       "1                      0.000000e+00                  0.000000e+00   \n",
       "2                      0.000000e+00                  0.000000e+00   \n",
       "3                      0.000000e+00                  0.000000e+00   \n",
       "4                      2.027962e-06                  2.027962e-06   \n",
       "\n",
       "   CNT_DRAWINGS_OTHER_CURRENT_Cre_sum  CNT_DRAWINGS_POS_CURRENT_Cre_sum  \\\n",
       "0                                 0.0                               0.0   \n",
       "1                                 0.0                               0.0   \n",
       "2                                 0.0                               0.0   \n",
       "3                                 0.0                               0.0   \n",
       "4                                 0.0                               0.0   \n",
       "\n",
       "   CNT_INSTALMENT_MATURE_CUM_Cre_sum  SK_DPD_Cre_sum  SK_DPD_DEF_Cre_sum  \\\n",
       "0                           0.000121             0.0                 0.0   \n",
       "1                           0.000000             0.0                 0.0   \n",
       "2                           0.000000             0.0                 0.0   \n",
       "3                           0.000000             0.0                 0.0   \n",
       "4                           0.000027             0.0                 0.0   \n",
       "\n",
       "   MONTHS_BALANCE_Pos_mean  CNT_INSTALMENT_Pos_mean  \\\n",
       "0                -0.000002                 0.000002   \n",
       "1                -0.000004                 0.000006   \n",
       "2                -0.000005                 0.000003   \n",
       "3                -0.000024                 0.000005   \n",
       "4                -0.000002                 0.000002   \n",
       "\n",
       "   CNT_INSTALMENT_FUTURE_Pos_mean  SK_DPD_Pos_mean  SK_DPD_DEF_Pos_mean  \\\n",
       "0                        0.000002     0.000000e+00         0.000000e+00   \n",
       "1                        0.000004     0.000000e+00         0.000000e+00   \n",
       "2                        0.000002     0.000000e+00         0.000000e+00   \n",
       "3                        0.000003     0.000000e+00         0.000000e+00   \n",
       "4                        0.000001     1.403974e-08         1.403974e-08   \n",
       "\n",
       "   MONTHS_BALANCE_Pos_min  CNT_INSTALMENT_Pos_min  \\\n",
       "0               -0.000005            4.180836e-07   \n",
       "1               -0.000009            2.182893e-06   \n",
       "2               -0.000010            9.593836e-07   \n",
       "3               -0.000030            4.818358e-06   \n",
       "4               -0.000004            4.679912e-07   \n",
       "\n",
       "   CNT_INSTALMENT_FUTURE_Pos_min  MONTHS_BALANCE_Pos_max  \\\n",
       "0                            0.0           -1.194525e-07   \n",
       "1                            0.0           -3.118418e-07   \n",
       "2                            0.0           -3.197945e-07   \n",
       "3                            0.0           -1.782793e-05   \n",
       "4                            0.0           -7.799854e-08   \n",
       "\n",
       "   CNT_INSTALMENT_Pos_max  CNT_INSTALMENT_FUTURE_Pos_max  SK_DPD_Pos_max  \\\n",
       "0                0.000004                       0.000004    0.000000e+00   \n",
       "1                0.000015                       0.000015    0.000000e+00   \n",
       "2                0.000004                       0.000004    0.000000e+00   \n",
       "3                0.000006                       0.000006    0.000000e+00   \n",
       "4                0.000004                       0.000004    6.239883e-07   \n",
       "\n",
       "   SK_DPD_DEF_Pos_max  MONTHS_BALANCE_Pos_sum  CNT_INSTALMENT_Pos_sum  \\\n",
       "0        0.000000e+00               -0.000124                0.000151   \n",
       "1        0.000000e+00               -0.000158                0.000235   \n",
       "2        0.000000e+00               -0.000303                0.000188   \n",
       "3        0.000000e+00               -0.000573                0.000128   \n",
       "4        6.239883e-07               -0.000096                0.000096   \n",
       "\n",
       "   CNT_INSTALMENT_FUTURE_Pos_sum  SK_DPD_Pos_sum  SK_DPD_DEF_Pos_sum  \\\n",
       "0                       0.000127    0.000000e+00        0.000000e+00   \n",
       "1                       0.000177    0.000000e+00        0.000000e+00   \n",
       "2                       0.000121    0.000000e+00        0.000000e+00   \n",
       "3                       0.000064    0.000000e+00        0.000000e+00   \n",
       "4                       0.000071    7.019869e-07        7.019869e-07   \n",
       "\n",
       "   CREDIT_ACTIVE_Active  CREDIT_ACTIVE_Closed  CREDIT_ACTIVE_Sold  \\\n",
       "0          0.000000e+00          5.972623e-08                 0.0   \n",
       "1          3.118418e-07          1.247367e-06                 0.0   \n",
       "2          6.395891e-07          4.796918e-07                 0.0   \n",
       "3          4.818358e-07          9.636716e-07                 0.0   \n",
       "4          1.559971e-07          1.559971e-07                 0.0   \n",
       "\n",
       "    ACTIVE_PERC   CLOSED_PERC  SOLD_PERC     PAST_LOAN    TYPE_COUNT  \\\n",
       "0  0.000000e+00  5.972623e-08        0.0  5.972623e-08  5.972623e-08   \n",
       "1  6.236837e-08  2.494735e-07        0.0  1.559209e-06  6.236837e-07   \n",
       "2  9.136987e-08  6.852740e-08        0.0  1.119281e-06  3.197945e-07   \n",
       "3  1.606119e-07  3.212239e-07        0.0  1.445507e-06  9.636716e-07   \n",
       "4  3.899927e-08  3.899927e-08        0.0  3.119942e-07  1.559971e-07   \n",
       "\n",
       "   CURRENCY_COUNT  PROLONG_MEAN  DAY_OVERDUE_MEAN  PASS_ENDDATE_MEAN  \\\n",
       "0    5.972623e-08           0.0               0.0       0.000000e+00   \n",
       "1    3.118418e-07           0.0               0.0       6.236837e-08   \n",
       "2    1.598973e-07           0.0               0.0       4.568493e-08   \n",
       "3    4.818358e-07           0.0               0.0       0.000000e+00   \n",
       "4    7.799854e-08           0.0               0.0       0.000000e+00   \n",
       "\n",
       "   AMT_CREDIT_SUM_RATIO  DAYS_CREDIT_MEAN  DAYS_CREDIT_RECENT  \\\n",
       "0          0.000000e+00          0.000092            0.000000   \n",
       "1          0.000000e+00          0.000630            0.000837   \n",
       "2          8.737652e-08          0.000231            0.000453   \n",
       "3          5.918777e-08          0.001037            0.001246   \n",
       "4          4.202752e-08          0.000108            0.000061   \n",
       "\n",
       "   DAYS_CREDIT_MAX  CREDIT_DAY_OVERDUE_MAX  DAYS_ENDDATE_FACT_MAX  \\\n",
       "0         0.000092                     0.0              -0.000033   \n",
       "1         0.000859                     0.0              -0.000206   \n",
       "2         0.000453                     0.0              -0.000030   \n",
       "3         0.001246                     0.0              -0.000229   \n",
       "4         0.000228                     0.0              -0.000070   \n",
       "\n",
       "   CNT_CREDIT_PROLONG_MAX  AMT_CREDIT_SUM_MAX  AMT_CREDIT_SUM_DEBT_MAX  \\\n",
       "0                     0.0            0.013438                 0.000000   \n",
       "1                     0.0            0.027911                 0.000000   \n",
       "2                     0.0            0.115126                 0.111840   \n",
       "3                     0.0            0.325239                 0.068528   \n",
       "4                     0.0            0.040715                 0.036731   \n",
       "\n",
       "   AMT_CREDIT_SUM_LIMIT_MAX  AMT_CREDIT_SUM_OVERDUE_MAX  \\\n",
       "0                       0.0                         0.0   \n",
       "1                       0.0                         0.0   \n",
       "2                       0.0                         0.0   \n",
       "3                       0.0                         0.0   \n",
       "4                       0.0                         0.0   \n",
       "\n",
       "   DAYS_CREDIT_UPDATE_MAX  STATUS_0_PERC  STATUS_C_PERC  STATUS_X_PERC  \\\n",
       "0           -3.302861e-05   1.571743e-08   4.400880e-08   0.000000e+00   \n",
       "1           -1.877288e-04   0.000000e+00   0.000000e+00   3.118418e-07   \n",
       "2           -9.593836e-07   0.000000e+00   0.000000e+00   1.598973e-07   \n",
       "3           -2.023710e-05   0.000000e+00   0.000000e+00   4.818358e-07   \n",
       "4           -5.459898e-07   2.455510e-08   0.000000e+00   4.838798e-08   \n",
       "\n",
       "   CHILDREN_RATIO  INCOME_PER_CHLD  EMPLOYED_BIRTH_RATIO  LOAN_INCOME_RATIO  \\\n",
       "0             0.0         0.006719          7.768742e-10       1.147508e-07   \n",
       "1             0.0         0.063148         -5.418556e-06       3.693593e-07   \n",
       "2             0.0         0.039575         -2.531156e-06       6.505202e-07   \n",
       "3             0.0         0.062012          6.786298e-08       5.054222e-06   \n",
       "4             0.0         0.021060          1.616278e-08       3.568966e-07   \n",
       "\n",
       "   ANNUITY_LENGTH  INCOME_PER_PERSON  ANNUITY_INCOME_PERC  NAME_CONTRACT_TYPE  \\\n",
       "0    9.260072e-07       6.532604e-07         2.102490e-08                 0.0   \n",
       "1    3.183522e-06       3.594089e-06         1.062194e-07                 0.0   \n",
       "2    3.630135e-06       1.874960e-06         6.768761e-08                 0.0   \n",
       "3    1.819851e-05       5.334938e-06         2.539257e-07                 0.0   \n",
       "4    2.165197e-06       9.213997e-07         3.166709e-08                 0.0   \n",
       "\n",
       "   CODE_GENDER  FLAG_OWN_CAR  FLAG_OWN_REALTY  NAME_TYPE_SUITE  \\\n",
       "0          0.0           1.0              1.0              5.0   \n",
       "1          0.0           0.0              1.0              5.0   \n",
       "2          0.0           0.0              0.0              5.0   \n",
       "3          1.0           1.0              0.0              5.0   \n",
       "4          0.0           0.0              1.0              5.0   \n",
       "\n",
       "   NAME_INCOME_TYPE  NAME_EDUCATION_TYPE  NAME_FAMILY_STATUS  \\\n",
       "0               1.0                  4.0                 1.0   \n",
       "1               3.0                  4.0                 1.0   \n",
       "2               3.0                  4.0                 1.0   \n",
       "3               7.0                  4.0                 1.0   \n",
       "4               7.0                  4.0                 1.0   \n",
       "\n",
       "   NAME_HOUSING_TYPE  OCCUPATION_TYPE  ORGANIZATION_TYPE  \\\n",
       "0                1.0             14.0               51.0   \n",
       "1                1.0             18.0               57.0   \n",
       "2                1.0             18.0               57.0   \n",
       "3                1.0              4.0               35.0   \n",
       "4                1.0             10.0               33.0   \n",
       "\n",
       "   NAME_CONTRACT_TYPE_Pre  FLAG_LAST_APPL_PER_CONTRACT_Pre  \\\n",
       "0                     0.0                              2.0   \n",
       "1                     0.0                              2.0   \n",
       "2                     0.0                              2.0   \n",
       "3                     1.0                              2.0   \n",
       "4                     7.0                              2.0   \n",
       "\n",
       "   NAME_CASH_LOAN_PURPOSE_Pre  NAME_CONTRACT_STATUS_Pre  \\\n",
       "0                        23.0                       0.0   \n",
       "1                        23.0                       1.0   \n",
       "2                        23.0                       0.0   \n",
       "3                        22.0                       0.0   \n",
       "4                        22.0                       0.0   \n",
       "\n",
       "   NAME_PAYMENT_TYPE_Pre  CODE_REJECT_REASON_Pre  NAME_CLIENT_TYPE_Pre  \\\n",
       "0                    3.0                     7.0                   2.0   \n",
       "1                    3.0                     7.0                   2.0   \n",
       "2                    0.0                     7.0                   2.0   \n",
       "3                    0.0                     7.0                   2.0   \n",
       "4                    0.0                     7.0                   2.0   \n",
       "\n",
       "   NAME_GOODS_CATEGORY_Pre  NAME_PORTFOLIO_Pre  NAME_PRODUCT_TYPE_Pre  \\\n",
       "0                     25.0                27.0                    0.0   \n",
       "1                     25.0                 4.0                    0.0   \n",
       "2                     25.0                 2.0                    3.0   \n",
       "3                    392.0                 3.0                    0.0   \n",
       "4                     25.0                26.0                    6.0   \n",
       "\n",
       "   CHANNEL_TYPE_Pre  NAME_SELLER_INDUSTRY_Pre  NAME_YIELD_GROUP_Pre  \\\n",
       "0               5.0                      10.0                   0.0   \n",
       "1               5.0                      10.0                   0.0   \n",
       "2               5.0                      10.0                  14.0   \n",
       "3               7.0                     153.0                  20.0   \n",
       "4               5.0                      10.0                  30.0   \n",
       "\n",
       "   PRODUCT_COMBINATION_Pre  CREDIT_ACTIVE_MAX  CREDIT_TYPE_MAX  \n",
       "0                      2.0                2.0              2.0  \n",
       "1                      2.0                2.0              3.0  \n",
       "2                   4315.0                2.0              3.0  \n",
       "3                   4518.0                2.0              9.0  \n",
       "4                     11.0                2.0              3.0  "
      ]
     },
     "metadata": {},
     "output_type": "display_data"
    },
    {
     "data": {
      "text/plain": [
       "(49650, 263)"
      ]
     },
     "metadata": {},
     "output_type": "display_data"
    }
   ],
   "source": [
    "# 1 Time Down Sampling\n",
    "# Count the number of Target 0 & 1\n",
    "count0, count1 = df_combined.TARGET.value_counts()\n",
    "\n",
    "# Split the Target 0 & 1\n",
    "df_class0 = df_combined[df_combined['TARGET'] == 0]\n",
    "df_class1 = df_combined[df_combined['TARGET'] == 1]\n",
    "\n",
    "# Sample from Target 0\n",
    "df_class0_resample = df_class0.sample(count1)\n",
    "\n",
    "# Combine the Sampled Target 0 & Target 1\n",
    "df_balance = pd.concat([df_class0_resample, df_class1], axis=0).reset_index(drop = True)\n",
    "\n",
    "display(df_balance.head())\n",
    "display(df_balance.shape)"
   ]
  },
  {
   "cell_type": "code",
   "execution_count": 89,
   "metadata": {},
   "outputs": [],
   "source": [
    "# Random Forest\n",
    "# 1. Data Prepariation\n",
    "Y = np.array(df_balance['TARGET'])\n",
    "X = df_balance.drop('TARGET', axis = 1).iloc[:,1:]\n",
    "feature = list(X.columns)\n",
    "X = np.array(X) \n",
    "\n",
    "# 2. Split data into training and test set\n",
    "X_train, X_test, Y_train, Y_test = train_test_split(X, Y, test_size=0.33, random_state=42) \n",
    "\n",
    "# 3. Train the Random Forest on Training Data\n",
    "rf = RandomForestClassifier(n_estimators = 1000, random_state = 42, bootstrap=True, n_jobs=-1, min_samples_split=20, min_samples_leaf=10)\n",
    "rf.fit(X_train, Y_train)\n",
    "\n",
    "Y_pred = rf.predict(X_test)\n",
    "Y_pred_prob = rf.predict_proba(X_test)"
   ]
  },
  {
   "cell_type": "code",
   "execution_count": 90,
   "metadata": {},
   "outputs": [
    {
     "data": {
      "text/plain": [
       "0.6563320109856576"
      ]
     },
     "execution_count": 90,
     "metadata": {},
     "output_type": "execute_result"
    }
   ],
   "source": [
    "# AUC Socre\n",
    "metrics.accuracy_score(Y_test, Y_pred)"
   ]
  },
  {
   "cell_type": "code",
   "execution_count": 91,
   "metadata": {},
   "outputs": [
    {
     "data": {
      "text/plain": [
       "array([[5494, 2713],\n",
       "       [2918, 5260]])"
      ]
     },
     "execution_count": 91,
     "metadata": {},
     "output_type": "execute_result"
    }
   ],
   "source": [
    "# Confusion Matrix\n",
    "confusion_matrix(Y_test, Y_pred)"
   ]
  },
  {
   "cell_type": "code",
   "execution_count": 92,
   "metadata": {},
   "outputs": [],
   "source": [
    "Y_positive_prob = Y_pred_prob[:,1]\n",
    "precision5, recall5, _ = precision_recall_curve(Y_test, Y_positive_prob)"
   ]
  },
  {
   "cell_type": "code",
   "execution_count": 93,
   "metadata": {},
   "outputs": [
    {
     "data": {
      "text/plain": [
       "Text(0.5,1,'Precision-Recall Curve: Improved Down Sampling')"
      ]
     },
     "execution_count": 93,
     "metadata": {},
     "output_type": "execute_result"
    },
    {
     "data": {
      "image/png": "[encoded data removed]",
      "text/plain": [
       "<Figure size 432x288 with 1 Axes>"
      ]
     },
     "metadata": {},
     "output_type": "display_data"
    }
   ],
   "source": [
    "# Precision-Recall Curve\n",
    "plt.step(recall5, precision5, color='r', alpha=0.2, where='post', label='Down Sampling')\n",
    "\n",
    "plt.xlabel('Recall')\n",
    "plt.ylabel('Precision')\n",
    "plt.title('Precision-Recall Curve: Improved Down Sampling')"
   ]
  },
  {
   "cell_type": "markdown",
   "metadata": {},
   "source": [
    "## Model Comparison: Base vs. Final"
   ]
  },
  {
   "cell_type": "code",
   "execution_count": 94,
   "metadata": {},
   "outputs": [
    {
     "data": {
      "text/plain": [
       "Text(0.5,1,'Precision-Recall Curve')"
      ]
     },
     "execution_count": 94,
     "metadata": {},
     "output_type": "execute_result"
    },
    {
     "data": {
      "image/png": "[encoded data removed]",
      "text/plain": [
       "<Figure size 720x504 with 1 Axes>"
      ]
     },
     "metadata": {},
     "output_type": "display_data"
    }
   ],
   "source": [
    "plt.figure(figsize=(10,7))\n",
    "\n",
    "# Precision-Recall Curve\n",
    "plt.step(recall3, precision3, color='g', alpha=0.2, where='post', label='Base Model')\n",
    "plt.step(recall5, precision5, color='r', alpha=0.2, where='post', label='Up Sampling')\n",
    "\n",
    "plt.legend(loc='upper right')\n",
    "\n",
    "plt.xlabel('Recall')\n",
    "plt.ylabel('Precision')\n",
    "plt.title('Precision-Recall Curve')"
   ]
  },
  {
   "cell_type": "markdown",
   "metadata": {},
   "source": [
    "## Based Data Preprocessing"
   ]
  },
  {
   "cell_type": "code",
   "execution_count": 4,
   "metadata": {},
   "outputs": [],
   "source": [
    "# Change Categorical Variable\n",
    "ordinal_encoder = OrdinalEncoder()\n",
    "cat_encoded=ordinal_encoder.fit_transform(df_modified.select_dtypes('object'))\n",
    "df_cat_encoded=pd.DataFrame(cat_encoded,columns=df_modified.select_dtypes('object').columns)\n",
    "\n",
    "\n",
    "# Normalize Numeric Data\n",
    "numerics = ['int16', 'int32', 'int64', 'float16', 'float32', 'float64']\n",
    "df_num = df_modified.select_dtypes(include=numerics)\n",
    "df_col = df_num.columns[2:]\n",
    "transformer = Normalizer().fit(df_num.iloc[:,2:])\n",
    "df_index = df_num.iloc[:,0:2]\n",
    "df_num = pd.DataFrame(transformer.transform(df_num.iloc[:,2:]),columns=df_col)\n",
    "\n",
    "\n",
    "# Combine Numeric and Categorical Data\n",
    "df_num= pd.concat([df_index, df_num], axis=1, sort=False)\n",
    "base_model= pd.concat([df_num, df_cat_encoded], axis=1, sort=False)"
   ]
  },
  {
   "cell_type": "code",
   "execution_count": 5,
   "metadata": {},
   "outputs": [],
   "source": [
    "X = base_model.drop('TARGET', axis = 1).iloc[:,1:]\n",
    "Y = base_model['TARGET']\n",
    "X_train, X_test, y_train, y_test = train_test_split(X, Y, test_size=0.33, random_state=42)"
   ]
  },
  {
   "cell_type": "markdown",
   "metadata": {},
   "source": [
    "## Final Data Preprocessing"
   ]
  },
  {
   "cell_type": "code",
   "execution_count": 6,
   "metadata": {},
   "outputs": [],
   "source": [
    "# Change Categorical Variable\n",
    "ordinal_encoder = OrdinalEncoder()\n",
    "cat_encoded=ordinal_encoder.fit_transform(df_combined.select_dtypes('object'))\n",
    "df_cat_encoded=pd.DataFrame(cat_encoded,columns=df_combined.select_dtypes('object').columns)\n",
    "\n",
    "\n",
    "# Normalize Numeric Data\n",
    "numerics = ['int16', 'int32', 'int64', 'float16', 'float32', 'float64']\n",
    "df_num = df_combined.select_dtypes(include=numerics)\n",
    "df_col = df_num.columns[2:]\n",
    "transformer = Normalizer().fit(df_num.iloc[:,2:])\n",
    "df_index = df_num.iloc[:,0:2]\n",
    "df_num = pd.DataFrame(transformer.transform(df_num.iloc[:,2:]),columns=df_col)\n",
    "\n",
    "\n",
    "# Combine Numeric and Categorical Data\n",
    "df_num= pd.concat([df_index, df_num], axis=1, sort=False)\n",
    "final_model= pd.concat([df_num, df_cat_encoded], axis=1, sort=False)"
   ]
  },
  {
   "cell_type": "code",
   "execution_count": 7,
   "metadata": {},
   "outputs": [],
   "source": [
    "X1 = final_model.drop('TARGET', axis = 1).iloc[:,1:]\n",
    "Y1 = final_model['TARGET']\n",
    "X_train1, X_test1, y_train1, y_test1 = train_test_split(X1, Y1, test_size=0.33, random_state=42)"
   ]
  },
  {
   "cell_type": "markdown",
   "metadata": {},
   "source": [
    "# 2. SVM"
   ]
  },
  {
   "cell_type": "markdown",
   "metadata": {},
   "source": [
    "## 2.1 SVM Base Model"
   ]
  },
  {
   "cell_type": "code",
   "execution_count": null,
   "metadata": {},
   "outputs": [],
   "source": [
    "#svm with linear kernel\n",
    "svml = LinearSVC(random_state=0, tol=1e-5)\n",
    "svml.fit(X_resampled, y_resampled) \n",
    "\n",
    "y_svm_pred=svml.predict(X_test)\n",
    "print(accuracy_score(y_test,y_svm_pred))\n",
    "confusion_matrix(y_test,y_svm_pred)"
   ]
  },
  {
   "cell_type": "markdown",
   "metadata": {},
   "source": [
    "## 2.2 SVM Final Model"
   ]
  },
  {
   "cell_type": "code",
   "execution_count": null,
   "metadata": {},
   "outputs": [],
   "source": [
    "#svm with rbf kernel\n",
    "svm = SVC(gamma='auto',C=2)\n",
    "svm.fit(X_resampled, y_resampled)\n",
    "\n",
    "svm_pred=svm.predict(X_test)\n",
    "confusion_matrix(y_test,svm_pred)\n",
    "\n",
    "accuracy_score(y_test,svm_pred)"
   ]
  },
  {
   "cell_type": "markdown",
   "metadata": {},
   "source": [
    "# 3. KNN"
   ]
  },
  {
   "cell_type": "markdown",
   "metadata": {},
   "source": [
    "## 3.1 KNN Base Model"
   ]
  },
  {
   "cell_type": "code",
   "execution_count": null,
   "metadata": {},
   "outputs": [],
   "source": [
    "neigh = KNeighborsClassifier(n_neighbors=5)\n",
    "neigh.fit(X_train, Y_train)\n",
    "knn_pred=neigh.predict(X_test)\n",
    "display(metrics.accuracy_score(Y_test,knn_pred))\n",
    "display(metrics.roc_auc_score(Y_test,knn_pred))\n",
    "display(confusion_matrix(Y_test,knn_pred))"
   ]
  },
  {
   "cell_type": "markdown",
   "metadata": {},
   "source": [
    "## 3.2 KNN Final Model"
   ]
  },
  {
   "cell_type": "code",
   "execution_count": null,
   "metadata": {},
   "outputs": [],
   "source": [
    "neigh1 = KNeighborsClassifier(n_neighbors=5)\n",
    "neigh1.fit(X_train1, Y_train1)\n",
    "knn_pred1=neigh1.predict(X_test1)\n",
    "display(metrics.accuracy_score(y_test1, knn_pred1))\n",
    "display(metrics.roc_auc_score(y_test1, knn_pred1))\n",
    "display(confusion_matrix(y_test1, knn_pred1))"
   ]
  },
  {
   "cell_type": "markdown",
   "metadata": {},
   "source": [
    "# 4. XGBoost"
   ]
  },
  {
   "cell_type": "markdown",
   "metadata": {},
   "source": [
    "## 4.1 XGBoost Base Model"
   ]
  },
  {
   "cell_type": "code",
   "execution_count": null,
   "metadata": {},
   "outputs": [],
   "source": [
    "X_resampled, Y_resampled = SMOTE().fit_resample(X_train, y_train)\n",
    "X_resampled = pd.DataFrame(X_resampled,columns = X.columns)\n",
    "Y_resampled = pd.DataFrame(Y_resampled,columns = ['TARGET'])"
   ]
  },
  {
   "cell_type": "code",
   "execution_count": 10,
   "metadata": {},
   "outputs": [
    {
     "data": {
      "text/plain": [
       "XGBClassifier(base_score=0.5, booster='gbtree', colsample_bylevel=1,\n",
       "       colsample_bytree=1, eval_metric='auc', gamma=0, learning_rate=0.1,\n",
       "       max_delta_step=0, max_depth=3, min_child_weight=1, missing=None,\n",
       "       n_estimators=200, n_jobs=1, nrounds=100, nthread=4,\n",
       "       objective='binary:logistic', random_state=42, reg_alpha=0,\n",
       "       reg_lambda=1, scale_pos_weight=1, seed=None, silent=True,\n",
       "       subsample=1)"
      ]
     },
     "execution_count": 10,
     "metadata": {},
     "output_type": "execute_result"
    }
   ],
   "source": [
    "xgb = XGBClassifier(objective = 'binary:logistic', booster = \"gbtree\", eval_metric = 'auc'\n",
    "                    ,nrounds = 100, n_estimators=200, nthread = 4,\n",
    "                   random_state = 42)\n",
    "xgb.fit(X_resampled,Y_resampled)"
   ]
  },
  {
   "cell_type": "code",
   "execution_count": 11,
   "metadata": {},
   "outputs": [],
   "source": [
    "y_pred = xgb.predict(X_test)\n",
    "y_pred[y_pred<=0.5]=0\n",
    "y_pred[y_pred>0.5]=1"
   ]
  },
  {
   "cell_type": "code",
   "execution_count": 12,
   "metadata": {},
   "outputs": [
    {
     "data": {
      "text/plain": [
       "0.544301268267688"
      ]
     },
     "metadata": {},
     "output_type": "display_data"
    },
    {
     "data": {
      "text/plain": [
       "0.544301268267688"
      ]
     },
     "metadata": {},
     "output_type": "display_data"
    },
    {
     "data": {
      "text/plain": [
       "array([[89695,  3667],\n",
       "       [ 7079,  1038]])"
      ]
     },
     "execution_count": 12,
     "metadata": {},
     "output_type": "execute_result"
    }
   ],
   "source": [
    "display(metrics.roc_auc_score(y_test, y_pred))\n",
    "display(metrics.roc_auc_score(y_test, y_pred))\n",
    "confusion_matrix(y_test, y_pred)"
   ]
  },
  {
   "cell_type": "markdown",
   "metadata": {},
   "source": [
    "## 4.2 XGBoost Final Model"
   ]
  },
  {
   "cell_type": "code",
   "execution_count": 17,
   "metadata": {},
   "outputs": [],
   "source": [
    "X_resampled1, Y_resampled1 = SMOTE().fit_resample(X_train1, y_train1)\n",
    "X_resampled1 = pd.DataFrame(X_resampled1,columns = X1.columns)\n",
    "Y_resampled1 = pd.DataFrame(Y_resampled1,columns = ['TARGET'])"
   ]
  },
  {
   "cell_type": "code",
   "execution_count": 18,
   "metadata": {},
   "outputs": [
    {
     "data": {
      "text/plain": [
       "XGBClassifier(base_score=0.5, booster='gbtree', colsample_bylevel=1,\n",
       "       colsample_bytree=1, eval_metric='auc', gamma=0, learning_rate=0.1,\n",
       "       max_delta_step=0, max_depth=3, min_child_weight=1, missing=None,\n",
       "       n_estimators=200, n_jobs=1, nrounds=100, nthread=4,\n",
       "       objective='binary:logistic', random_state=42, reg_alpha=0,\n",
       "       reg_lambda=1, scale_pos_weight=1, seed=None, silent=True,\n",
       "       subsample=1)"
      ]
     },
     "execution_count": 18,
     "metadata": {},
     "output_type": "execute_result"
    }
   ],
   "source": [
    "xgb1 = XGBClassifier(objective = 'binary:logistic', booster = \"gbtree\", eval_metric = 'auc'\n",
    "                    ,nrounds = 100, n_estimators=200, nthread = 4,\n",
    "                   random_state = 42)\n",
    "xgb1.fit(X_resampled1,Y_resampled1)"
   ]
  },
  {
   "cell_type": "code",
   "execution_count": 19,
   "metadata": {},
   "outputs": [],
   "source": [
    "y_pred = xgb1.predict(X_test1)\n",
    "y_pred[y_pred<=0.5]=0\n",
    "y_pred[y_pred>0.5]=1"
   ]
  },
  {
   "cell_type": "code",
   "execution_count": 20,
   "metadata": {},
   "outputs": [
    {
     "data": {
      "text/plain": [
       "0.5121167273592752"
      ]
     },
     "metadata": {},
     "output_type": "display_data"
    },
    {
     "data": {
      "text/plain": [
       "0.5121167273592752"
      ]
     },
     "metadata": {},
     "output_type": "display_data"
    },
    {
     "data": {
      "text/plain": [
       "array([[92887,   475],\n",
       "       [ 7879,   238]])"
      ]
     },
     "execution_count": 20,
     "metadata": {},
     "output_type": "execute_result"
    }
   ],
   "source": [
    "display(metrics.roc_auc_score(y_test1, y_pred))\n",
    "display(metrics.roc_auc_score(y_test1, y_pred))\n",
    "confusion_matrix(y_test1, y_pred)"
   ]
  },
  {
   "cell_type": "markdown",
   "metadata": {},
   "source": [
    "# 5. LightGBM"
   ]
  },
  {
   "cell_type": "markdown",
   "metadata": {},
   "source": [
    "## 5.1 LightGBM Base Model"
   ]
  },
  {
   "cell_type": "code",
   "execution_count": 46,
   "metadata": {},
   "outputs": [],
   "source": [
    "df_mod=df_modified"
   ]
  },
  {
   "cell_type": "code",
   "execution_count": 47,
   "metadata": {},
   "outputs": [],
   "source": [
    "d_train = lgb.Dataset(df_mod.drop(['TARGET'],axis=1,inplace=False), label=df_mod['TARGET'])"
   ]
  },
  {
   "cell_type": "code",
   "execution_count": 48,
   "metadata": {},
   "outputs": [],
   "source": [
    "params = {}\n",
    "params['learning_rate'] = 0.003\n",
    "params['boosting_type'] = 'gbdt'\n",
    "params['objective'] = 'binary'\n",
    "params['metric'] = ['auc','binary_logloss','binary_error']\n",
    "params['stratified']=True \n",
    "params['sub_feature'] = 0.5\n",
    "params['num_leaves'] = 10\n",
    "params['min_data'] = 50\n",
    "params['max_depth'] = 10\n",
    "params['seed'] = 0\n",
    "params['eval_train_metric'] = True\n",
    "params['lass_weight'] = 'balanced' "
   ]
  },
  {
   "cell_type": "code",
   "execution_count": null,
   "metadata": {},
   "outputs": [],
   "source": [
    "Y = df_mod['TARGET']\n",
    "X = df_mod.copy()\n",
    "X.drop(columns=['TARGET'],inplace=True)\n",
    "\n",
    "feature = list(X.columns)\n",
    "X_train, X_test, y_train, y_test = train_test_split(X, Y, test_size=0.33, random_state=42)"
   ]
  },
  {
   "cell_type": "code",
   "execution_count": null,
   "metadata": {},
   "outputs": [],
   "source": [
    "# Up Sampling\n",
    "X_resampled, y_resampled = SMOTE().fit_resample(X_train, y_train)\n",
    "X_resampled=pd.DataFrame(X_resampled,columns=X.columns)\n",
    "y_resampled=pd.DataFrame(y_resampled,columns=['TARGET'])"
   ]
  },
  {
   "cell_type": "code",
   "execution_count": null,
   "metadata": {},
   "outputs": [],
   "source": [
    "train_data_rs = lgb.Dataset(X_resampled, label=y_resampled)\n",
    "train_data = lgb.Dataset(X_train, label=y_train)\n",
    "test_data = lgb.Dataset(X_test, label=y_test)"
   ]
  },
  {
   "cell_type": "code",
   "execution_count": 39,
   "metadata": {
    "scrolled": true
   },
   "outputs": [
    {
     "name": "stdout",
     "output_type": "stream",
     "text": [
      "[1]\tvalid_0's auc: 0.617416\tvalid_0's binary_logloss: 0.278684\tvalid_0's binary_error: 0.079987\n",
      "Training until validation scores don't improve for 100 rounds.\n",
      "[2]\tvalid_0's auc: 0.644083\tvalid_0's binary_logloss: 0.278615\tvalid_0's binary_error: 0.079987\n",
      "[3]\tvalid_0's auc: 0.647903\tvalid_0's binary_logloss: 0.278548\tvalid_0's binary_error: 0.079987\n",
      "[4]\tvalid_0's auc: 0.652195\tvalid_0's binary_logloss: 0.278477\tvalid_0's binary_error: 0.079987\n",
      "[5]\tvalid_0's auc: 0.65261\tvalid_0's binary_logloss: 0.278412\tvalid_0's binary_error: 0.079987\n",
      "[6]\tvalid_0's auc: 0.653766\tvalid_0's binary_logloss: 0.278342\tvalid_0's binary_error: 0.079987\n",
      "[7]\tvalid_0's auc: 0.66116\tvalid_0's binary_logloss: 0.278298\tvalid_0's binary_error: 0.079987\n",
      "[8]\tvalid_0's auc: 0.661352\tvalid_0's binary_logloss: 0.27823\tvalid_0's binary_error: 0.079987\n",
      "[9]\tvalid_0's auc: 0.671675\tvalid_0's binary_logloss: 0.278171\tvalid_0's binary_error: 0.079987\n",
      "[10]\tvalid_0's auc: 0.669858\tvalid_0's binary_logloss: 0.278104\tvalid_0's binary_error: 0.079987\n",
      "[11]\tvalid_0's auc: 0.670206\tvalid_0's binary_logloss: 0.278042\tvalid_0's binary_error: 0.079987\n",
      "[12]\tvalid_0's auc: 0.669557\tvalid_0's binary_logloss: 0.277984\tvalid_0's binary_error: 0.079987\n",
      "[13]\tvalid_0's auc: 0.670654\tvalid_0's binary_logloss: 0.277932\tvalid_0's binary_error: 0.079987\n",
      "[14]\tvalid_0's auc: 0.670965\tvalid_0's binary_logloss: 0.277869\tvalid_0's binary_error: 0.079987\n",
      "[15]\tvalid_0's auc: 0.672115\tvalid_0's binary_logloss: 0.277818\tvalid_0's binary_error: 0.079987\n",
      "[16]\tvalid_0's auc: 0.672397\tvalid_0's binary_logloss: 0.277776\tvalid_0's binary_error: 0.079987\n",
      "[17]\tvalid_0's auc: 0.672909\tvalid_0's binary_logloss: 0.277732\tvalid_0's binary_error: 0.079987\n",
      "[18]\tvalid_0's auc: 0.673167\tvalid_0's binary_logloss: 0.277666\tvalid_0's binary_error: 0.079987\n",
      "[19]\tvalid_0's auc: 0.672518\tvalid_0's binary_logloss: 0.277602\tvalid_0's binary_error: 0.079987\n",
      "[20]\tvalid_0's auc: 0.671641\tvalid_0's binary_logloss: 0.27754\tvalid_0's binary_error: 0.079987\n",
      "[21]\tvalid_0's auc: 0.67221\tvalid_0's binary_logloss: 0.277488\tvalid_0's binary_error: 0.079987\n",
      "[22]\tvalid_0's auc: 0.672065\tvalid_0's binary_logloss: 0.277429\tvalid_0's binary_error: 0.079987\n",
      "[23]\tvalid_0's auc: 0.672199\tvalid_0's binary_logloss: 0.277365\tvalid_0's binary_error: 0.079987\n",
      "[24]\tvalid_0's auc: 0.674117\tvalid_0's binary_logloss: 0.277321\tvalid_0's binary_error: 0.079987\n",
      "[25]\tvalid_0's auc: 0.676405\tvalid_0's binary_logloss: 0.277253\tvalid_0's binary_error: 0.079987\n",
      "[26]\tvalid_0's auc: 0.676408\tvalid_0's binary_logloss: 0.277197\tvalid_0's binary_error: 0.079987\n",
      "[27]\tvalid_0's auc: 0.676622\tvalid_0's binary_logloss: 0.277148\tvalid_0's binary_error: 0.079987\n",
      "[28]\tvalid_0's auc: 0.676424\tvalid_0's binary_logloss: 0.277104\tvalid_0's binary_error: 0.079987\n",
      "[29]\tvalid_0's auc: 0.676881\tvalid_0's binary_logloss: 0.277064\tvalid_0's binary_error: 0.079987\n",
      "[30]\tvalid_0's auc: 0.676454\tvalid_0's binary_logloss: 0.277021\tvalid_0's binary_error: 0.079987\n",
      "[31]\tvalid_0's auc: 0.677596\tvalid_0's binary_logloss: 0.276981\tvalid_0's binary_error: 0.079987\n",
      "[32]\tvalid_0's auc: 0.677619\tvalid_0's binary_logloss: 0.276932\tvalid_0's binary_error: 0.079987\n",
      "[33]\tvalid_0's auc: 0.677706\tvalid_0's binary_logloss: 0.276871\tvalid_0's binary_error: 0.079987\n",
      "[34]\tvalid_0's auc: 0.67853\tvalid_0's binary_logloss: 0.276831\tvalid_0's binary_error: 0.079987\n",
      "[35]\tvalid_0's auc: 0.678493\tvalid_0's binary_logloss: 0.276767\tvalid_0's binary_error: 0.079987\n",
      "[36]\tvalid_0's auc: 0.678845\tvalid_0's binary_logloss: 0.276724\tvalid_0's binary_error: 0.079987\n",
      "[37]\tvalid_0's auc: 0.678971\tvalid_0's binary_logloss: 0.276666\tvalid_0's binary_error: 0.079987\n",
      "[38]\tvalid_0's auc: 0.678819\tvalid_0's binary_logloss: 0.27661\tvalid_0's binary_error: 0.079987\n",
      "[39]\tvalid_0's auc: 0.678995\tvalid_0's binary_logloss: 0.276556\tvalid_0's binary_error: 0.079987\n",
      "[40]\tvalid_0's auc: 0.680179\tvalid_0's binary_logloss: 0.276515\tvalid_0's binary_error: 0.079987\n",
      "[41]\tvalid_0's auc: 0.680849\tvalid_0's binary_logloss: 0.276475\tvalid_0's binary_error: 0.079987\n",
      "[42]\tvalid_0's auc: 0.680588\tvalid_0's binary_logloss: 0.276433\tvalid_0's binary_error: 0.079987\n",
      "[43]\tvalid_0's auc: 0.680189\tvalid_0's binary_logloss: 0.276377\tvalid_0's binary_error: 0.079987\n",
      "[44]\tvalid_0's auc: 0.680152\tvalid_0's binary_logloss: 0.276316\tvalid_0's binary_error: 0.079987\n",
      "[45]\tvalid_0's auc: 0.680294\tvalid_0's binary_logloss: 0.27626\tvalid_0's binary_error: 0.079987\n",
      "[46]\tvalid_0's auc: 0.680077\tvalid_0's binary_logloss: 0.27622\tvalid_0's binary_error: 0.079987\n",
      "[47]\tvalid_0's auc: 0.67986\tvalid_0's binary_logloss: 0.27618\tvalid_0's binary_error: 0.079987\n",
      "[48]\tvalid_0's auc: 0.680169\tvalid_0's binary_logloss: 0.27613\tvalid_0's binary_error: 0.079987\n",
      "[49]\tvalid_0's auc: 0.680038\tvalid_0's binary_logloss: 0.276074\tvalid_0's binary_error: 0.079987\n",
      "[50]\tvalid_0's auc: 0.680117\tvalid_0's binary_logloss: 0.276015\tvalid_0's binary_error: 0.079987\n",
      "[51]\tvalid_0's auc: 0.680299\tvalid_0's binary_logloss: 0.275963\tvalid_0's binary_error: 0.079987\n",
      "[52]\tvalid_0's auc: 0.680102\tvalid_0's binary_logloss: 0.275908\tvalid_0's binary_error: 0.079987\n",
      "[53]\tvalid_0's auc: 0.680597\tvalid_0's binary_logloss: 0.275863\tvalid_0's binary_error: 0.079987\n",
      "[54]\tvalid_0's auc: 0.68096\tvalid_0's binary_logloss: 0.275802\tvalid_0's binary_error: 0.079987\n",
      "[55]\tvalid_0's auc: 0.680828\tvalid_0's binary_logloss: 0.275745\tvalid_0's binary_error: 0.079987\n",
      "[56]\tvalid_0's auc: 0.681713\tvalid_0's binary_logloss: 0.275696\tvalid_0's binary_error: 0.079987\n",
      "[57]\tvalid_0's auc: 0.681481\tvalid_0's binary_logloss: 0.275648\tvalid_0's binary_error: 0.079987\n",
      "[58]\tvalid_0's auc: 0.681176\tvalid_0's binary_logloss: 0.275595\tvalid_0's binary_error: 0.079987\n",
      "[59]\tvalid_0's auc: 0.682413\tvalid_0's binary_logloss: 0.275551\tvalid_0's binary_error: 0.079987\n",
      "[60]\tvalid_0's auc: 0.682781\tvalid_0's binary_logloss: 0.275511\tvalid_0's binary_error: 0.079987\n",
      "[61]\tvalid_0's auc: 0.682876\tvalid_0's binary_logloss: 0.27546\tvalid_0's binary_error: 0.079987\n",
      "[62]\tvalid_0's auc: 0.682912\tvalid_0's binary_logloss: 0.275406\tvalid_0's binary_error: 0.079987\n",
      "[63]\tvalid_0's auc: 0.68288\tvalid_0's binary_logloss: 0.275362\tvalid_0's binary_error: 0.079987\n",
      "[64]\tvalid_0's auc: 0.682744\tvalid_0's binary_logloss: 0.275315\tvalid_0's binary_error: 0.079987\n",
      "[65]\tvalid_0's auc: 0.682696\tvalid_0's binary_logloss: 0.275258\tvalid_0's binary_error: 0.079987\n",
      "[66]\tvalid_0's auc: 0.682742\tvalid_0's binary_logloss: 0.275213\tvalid_0's binary_error: 0.079987\n",
      "[67]\tvalid_0's auc: 0.682904\tvalid_0's binary_logloss: 0.275177\tvalid_0's binary_error: 0.079987\n",
      "[68]\tvalid_0's auc: 0.683606\tvalid_0's binary_logloss: 0.275139\tvalid_0's binary_error: 0.079987\n",
      "[69]\tvalid_0's auc: 0.683546\tvalid_0's binary_logloss: 0.275082\tvalid_0's binary_error: 0.079987\n",
      "[70]\tvalid_0's auc: 0.684078\tvalid_0's binary_logloss: 0.275036\tvalid_0's binary_error: 0.079987\n",
      "[71]\tvalid_0's auc: 0.683988\tvalid_0's binary_logloss: 0.274981\tvalid_0's binary_error: 0.079987\n",
      "[72]\tvalid_0's auc: 0.683912\tvalid_0's binary_logloss: 0.274936\tvalid_0's binary_error: 0.079987\n",
      "[73]\tvalid_0's auc: 0.683809\tvalid_0's binary_logloss: 0.274881\tvalid_0's binary_error: 0.079987\n",
      "[74]\tvalid_0's auc: 0.683572\tvalid_0's binary_logloss: 0.274833\tvalid_0's binary_error: 0.079987\n",
      "[75]\tvalid_0's auc: 0.683289\tvalid_0's binary_logloss: 0.274784\tvalid_0's binary_error: 0.079987\n",
      "[76]\tvalid_0's auc: 0.683364\tvalid_0's binary_logloss: 0.274737\tvalid_0's binary_error: 0.079987\n",
      "[77]\tvalid_0's auc: 0.683951\tvalid_0's binary_logloss: 0.274697\tvalid_0's binary_error: 0.079987\n",
      "[78]\tvalid_0's auc: 0.683733\tvalid_0's binary_logloss: 0.27465\tvalid_0's binary_error: 0.079987\n",
      "[79]\tvalid_0's auc: 0.683872\tvalid_0's binary_logloss: 0.274602\tvalid_0's binary_error: 0.079987\n",
      "[80]\tvalid_0's auc: 0.683647\tvalid_0's binary_logloss: 0.274554\tvalid_0's binary_error: 0.079987\n",
      "[81]\tvalid_0's auc: 0.683778\tvalid_0's binary_logloss: 0.274518\tvalid_0's binary_error: 0.079987\n",
      "[82]\tvalid_0's auc: 0.683621\tvalid_0's binary_logloss: 0.274466\tvalid_0's binary_error: 0.079987\n",
      "[83]\tvalid_0's auc: 0.683737\tvalid_0's binary_logloss: 0.274418\tvalid_0's binary_error: 0.079987\n",
      "[84]\tvalid_0's auc: 0.683806\tvalid_0's binary_logloss: 0.274384\tvalid_0's binary_error: 0.079987\n",
      "[85]\tvalid_0's auc: 0.683699\tvalid_0's binary_logloss: 0.274331\tvalid_0's binary_error: 0.079987\n"
     ]
    },
    {
     "name": "stdout",
     "output_type": "stream",
     "text": [
      "[86]\tvalid_0's auc: 0.683703\tvalid_0's binary_logloss: 0.274288\tvalid_0's binary_error: 0.079987\n",
      "[87]\tvalid_0's auc: 0.683486\tvalid_0's binary_logloss: 0.274241\tvalid_0's binary_error: 0.079987\n",
      "[88]\tvalid_0's auc: 0.68356\tvalid_0's binary_logloss: 0.274188\tvalid_0's binary_error: 0.079987\n",
      "[89]\tvalid_0's auc: 0.683447\tvalid_0's binary_logloss: 0.274155\tvalid_0's binary_error: 0.079987\n",
      "[90]\tvalid_0's auc: 0.683577\tvalid_0's binary_logloss: 0.274112\tvalid_0's binary_error: 0.079987\n",
      "[91]\tvalid_0's auc: 0.68363\tvalid_0's binary_logloss: 0.274066\tvalid_0's binary_error: 0.079987\n",
      "[92]\tvalid_0's auc: 0.684064\tvalid_0's binary_logloss: 0.274033\tvalid_0's binary_error: 0.079987\n",
      "[93]\tvalid_0's auc: 0.684288\tvalid_0's binary_logloss: 0.273989\tvalid_0's binary_error: 0.079987\n",
      "[94]\tvalid_0's auc: 0.68447\tvalid_0's binary_logloss: 0.273954\tvalid_0's binary_error: 0.079987\n",
      "[95]\tvalid_0's auc: 0.684442\tvalid_0's binary_logloss: 0.273918\tvalid_0's binary_error: 0.079987\n",
      "[96]\tvalid_0's auc: 0.684482\tvalid_0's binary_logloss: 0.273885\tvalid_0's binary_error: 0.079987\n",
      "[97]\tvalid_0's auc: 0.684519\tvalid_0's binary_logloss: 0.273836\tvalid_0's binary_error: 0.079987\n",
      "[98]\tvalid_0's auc: 0.684907\tvalid_0's binary_logloss: 0.273787\tvalid_0's binary_error: 0.079987\n",
      "[99]\tvalid_0's auc: 0.68494\tvalid_0's binary_logloss: 0.273737\tvalid_0's binary_error: 0.079987\n",
      "[100]\tvalid_0's auc: 0.684951\tvalid_0's binary_logloss: 0.273699\tvalid_0's binary_error: 0.079987\n",
      "[101]\tvalid_0's auc: 0.685769\tvalid_0's binary_logloss: 0.273642\tvalid_0's binary_error: 0.079987\n",
      "Early stopping, best iteration is:\n",
      "[1]\tvalid_0's auc: 0.617416\tvalid_0's binary_logloss: 0.278684\tvalid_0's binary_error: 0.079987\n"
     ]
    }
   ],
   "source": [
    "start_time_lgbm = time.clock()\n",
    "lgb_n= lgb.train(params,train_data,\n",
    "                       valid_sets=test_data,\n",
    "                       num_boost_round=1000,\n",
    "                       early_stopping_rounds=100)\n",
    "end_time_lgb=time.clock() - start_time_lgbm"
   ]
  },
  {
   "cell_type": "code",
   "execution_count": 42,
   "metadata": {
    "scrolled": true
   },
   "outputs": [
    {
     "data": {
      "text/plain": [
       "defaultdict(dict,\n",
       "            {'valid_0': {'auc': 0.6174160286753511,\n",
       "              'binary_logloss': 0.2786842446240509,\n",
       "              'binary_error': 0.07998699238266045}})"
      ]
     },
     "execution_count": 42,
     "metadata": {},
     "output_type": "execute_result"
    }
   ],
   "source": [
    "lgb_n.best_score"
   ]
  },
  {
   "cell_type": "code",
   "execution_count": 45,
   "metadata": {},
   "outputs": [
    {
     "data": {
      "text/plain": [
       "0.9200130076173395"
      ]
     },
     "execution_count": 45,
     "metadata": {},
     "output_type": "execute_result"
    }
   ],
   "source": [
    "# Accuracy Rate\n",
    "accuracy_score(y_pred_lgb,y_test)"
   ]
  },
  {
   "cell_type": "code",
   "execution_count": 43,
   "metadata": {},
   "outputs": [
    {
     "data": {
      "text/plain": [
       "array([[93362,  8117],\n",
       "       [    0,     0]], dtype=int64)"
      ]
     },
     "execution_count": 43,
     "metadata": {},
     "output_type": "execute_result"
    }
   ],
   "source": [
    "# Confusion Matrix\n",
    "confusion_matrix(y_pred_lgb,y_test)"
   ]
  },
  {
   "cell_type": "markdown",
   "metadata": {},
   "source": [
    "## 5.2 LightGBM: Sklearn Format with Main Data"
   ]
  },
  {
   "cell_type": "code",
   "execution_count": 36,
   "metadata": {},
   "outputs": [],
   "source": [
    "start_time_lgbm_rs = time.clock()\n",
    "sk_lgb=lgb.LGBMClassifier(n_estimators=1000,boosting_type='gbdt',random_state=0)\n",
    "#sk_lgb.fit(X_resampled.values, y_resampled.values)\n",
    "sk_lgb.fit(X_train.values, y_train.values)\n",
    "end_time_lgbm_rs=time.clock() - start_time_lgbm_rs\n",
    "\n",
    "Y_pred_sk = sk_lgb.predict(X_test)"
   ]
  },
  {
   "cell_type": "code",
   "execution_count": 37,
   "metadata": {
    "scrolled": true
   },
   "outputs": [
    {
     "data": {
      "text/plain": [
       "24.2588605415076"
      ]
     },
     "execution_count": 37,
     "metadata": {},
     "output_type": "execute_result"
    }
   ],
   "source": [
    "end_time_lgbm_rs"
   ]
  },
  {
   "cell_type": "code",
   "execution_count": 39,
   "metadata": {
    "scrolled": true
   },
   "outputs": [
    {
     "data": {
      "text/plain": [
       "0.9191556873835967"
      ]
     },
     "execution_count": 39,
     "metadata": {},
     "output_type": "execute_result"
    }
   ],
   "source": [
    "# Accuracy Rate\n",
    "accuracy_score(Y_pred_sk,y_test)"
   ]
  },
  {
   "cell_type": "code",
   "execution_count": 40,
   "metadata": {},
   "outputs": [
    {
     "data": {
      "text/plain": [
       "0.7304234816362317"
      ]
     },
     "execution_count": 40,
     "metadata": {},
     "output_type": "execute_result"
    }
   ],
   "source": [
    "# AUC Score\n",
    "y_pred_proba_lgbmsk =sk_lgb.predict_proba(X_test)[::,1]\n",
    "fpr, tpr, _ = metrics.roc_curve(y_test,  y_pred_proba_lgbmsk)\n",
    "auc_rf_lgbmsk = metrics.roc_auc_score(y_test, y_pred_proba_lgbmsk)\n",
    "auc_rf_lgbmsk"
   ]
  },
  {
   "cell_type": "code",
   "execution_count": 38,
   "metadata": {
    "scrolled": false
   },
   "outputs": [
    {
     "data": {
      "text/plain": [
       "array([[93067,  7909],\n",
       "       [  295,   208]], dtype=int64)"
      ]
     },
     "execution_count": 38,
     "metadata": {},
     "output_type": "execute_result"
    }
   ],
   "source": [
    "# Confusion Matrix\n",
    "confusion_matrix(Y_pred_sk,y_test)"
   ]
  },
  {
   "cell_type": "code",
   "execution_count": 41,
   "metadata": {},
   "outputs": [
    {
     "data": {
      "image/png": "[encoded data removed]",
      "text/plain": [
       "<Figure size 432x288 with 1 Axes>"
      ]
     },
     "metadata": {
      "needs_background": "light"
     },
     "output_type": "display_data"
    }
   ],
   "source": [
    "# ROC Curve\n",
    "plt.plot(fpr,tpr,label=\"auc=\"+str(auc_rf_lgbmsk))\n",
    "plt.plot([0, 1], [0, 1], 'k--')\n",
    "plt.title('LightGBM given  dataset app train')\n",
    "plt.legend(loc=4)\n",
    "plt.show()"
   ]
  },
  {
   "cell_type": "code",
   "execution_count": 42,
   "metadata": {},
   "outputs": [
    {
     "data": {
      "text/plain": [
       "Text(0.5, 1.0, 'Precision-Recall curve:LightGBM given  dataset app train: AP=0.20')"
      ]
     },
     "execution_count": 42,
     "metadata": {},
     "output_type": "execute_result"
    },
    {
     "data": {
      "image/png": "[encoded data removed]",
      "text/plain": [
       "<Figure size 432x288 with 1 Axes>"
      ]
     },
     "metadata": {
      "needs_background": "light"
     },
     "output_type": "display_data"
    }
   ],
   "source": [
    "# Precision-Recall Curve\n",
    "precision, recall, _ = precision_recall_curve(y_test, y_pred_proba_lgbmsk )\n",
    "average_precision = average_precision_score(y_test,y_pred_proba_lgbmsk )\n",
    "# In matplotlib < 1.5, plt.fill_between does not have a 'step' argument\n",
    "step_kwargs = ({'step': 'post'}\n",
    "               if 'step' in signature(plt.fill_between).parameters\n",
    "               else {})\n",
    "plt.step(recall, precision, color='b', alpha=0.2,\n",
    "         where='post')\n",
    "plt.fill_between(recall, precision, alpha=0.2, color='b', **step_kwargs)\n",
    "\n",
    "plt.xlabel('Recall')\n",
    "plt.ylabel('Precision')\n",
    "plt.ylim([0.0, 1.05])\n",
    "plt.xlim([0.0, 1.0])\n",
    "plt.title('Precision-Recall curve:LightGBM given  dataset app train: AP={0:0.2f}'.format(\n",
    "          average_precision))"
   ]
  },
  {
   "cell_type": "markdown",
   "metadata": {},
   "source": [
    "## 5.3 LightGBM: Up Sampling"
   ]
  },
  {
   "cell_type": "code",
   "execution_count": 43,
   "metadata": {},
   "outputs": [],
   "source": [
    "start_time_lgbm_rs = time.clock()\n",
    "lgbm= lgb.LGBMClassifier(n_estimators=1000,boosting_type='gbdt',random_state=0)\n",
    "lgbm.fit(X_resampled.values, y_resampled.values)\n",
    "end_time_lgbm_rs=time.clock() - start_time_lgbm_rs"
   ]
  },
  {
   "cell_type": "code",
   "execution_count": 44,
   "metadata": {},
   "outputs": [
    {
     "data": {
      "text/plain": [
       "103.91513920000034"
      ]
     },
     "execution_count": 44,
     "metadata": {},
     "output_type": "execute_result"
    }
   ],
   "source": [
    "end_time_lgbm_rs"
   ]
  },
  {
   "cell_type": "code",
   "execution_count": 52,
   "metadata": {},
   "outputs": [],
   "source": [
    "y_pred_lgbm = lgbm.predict(X_test)"
   ]
  },
  {
   "cell_type": "code",
   "execution_count": 53,
   "metadata": {},
   "outputs": [
    {
     "data": {
      "text/plain": [
       "0.9190078735501926"
      ]
     },
     "execution_count": 53,
     "metadata": {},
     "output_type": "execute_result"
    }
   ],
   "source": [
    "# Accuracy Rate\n",
    "accuracy_score(y_pred_lgbm,y_test)"
   ]
  },
  {
   "cell_type": "code",
   "execution_count": 55,
   "metadata": {},
   "outputs": [
    {
     "data": {
      "text/plain": [
       "0.7522899487732005"
      ]
     },
     "execution_count": 55,
     "metadata": {},
     "output_type": "execute_result"
    }
   ],
   "source": [
    "# AUC Score\n",
    "y_pred_proba_lgbm =lgbm.predict_proba(X_test)[::,1]\n",
    "fpr, tpr, _ = metrics.roc_curve(y_test,  y_pred_proba_lgbm)\n",
    "auc_rf_lgbm = metrics.roc_auc_score(y_test, y_pred_proba_lgbm)\n",
    "auc_rf_lgbm"
   ]
  },
  {
   "cell_type": "code",
   "execution_count": 54,
   "metadata": {},
   "outputs": [
    {
     "data": {
      "text/plain": [
       "array([[92831,  7688],\n",
       "       [  531,   429]], dtype=int64)"
      ]
     },
     "execution_count": 54,
     "metadata": {},
     "output_type": "execute_result"
    }
   ],
   "source": [
    "# Confusion Matrix\n",
    "confusion_matrix(y_pred_lgbm,y_test)"
   ]
  },
  {
   "cell_type": "code",
   "execution_count": 56,
   "metadata": {
    "scrolled": true
   },
   "outputs": [
    {
     "data": {
      "image/png": "[encoded data removed]",
      "text/plain": [
       "<Figure size 432x288 with 1 Axes>"
      ]
     },
     "metadata": {
      "needs_background": "light"
     },
     "output_type": "display_data"
    }
   ],
   "source": [
    "# ROC Curve\n",
    "plt.plot(fpr,tpr,label=\"auc=\"+str(auc_rf_lgbm))\n",
    "plt.plot([0, 1], [0, 1], 'k--')\n",
    "plt.title('LightGBM with up sampling')\n",
    "plt.legend(loc=4)\n",
    "plt.show()"
   ]
  },
  {
   "cell_type": "code",
   "execution_count": 57,
   "metadata": {},
   "outputs": [
    {
     "data": {
      "text/plain": [
       "Text(0.5, 1.0, 'Precision-Recall curve:LightGBM with up sampling: AP=0.23')"
      ]
     },
     "execution_count": 57,
     "metadata": {},
     "output_type": "execute_result"
    },
    {
     "data": {
      "image/png": "[encoded data removed]",
      "text/plain": [
       "<Figure size 432x288 with 1 Axes>"
      ]
     },
     "metadata": {
      "needs_background": "light"
     },
     "output_type": "display_data"
    }
   ],
   "source": [
    "# Precision-Recall Curve\n",
    "precision, recall, _ = precision_recall_curve(y_test, y_pred_proba_lgbm )\n",
    "average_precision = average_precision_score(y_test,y_pred_proba_lgbm )\n",
    "# In matplotlib < 1.5, plt.fill_between does not have a 'step' argument\n",
    "step_kwargs = ({'step': 'post'}\n",
    "               if 'step' in signature(plt.fill_between).parameters\n",
    "               else {})\n",
    "plt.step(recall, precision, color='b', alpha=0.2,\n",
    "         where='post')\n",
    "plt.fill_between(recall, precision, alpha=0.2, color='b', **step_kwargs)\n",
    "\n",
    "plt.xlabel('Recall')\n",
    "plt.ylabel('Precision')\n",
    "plt.ylim([0.0, 1.05])\n",
    "plt.xlim([0.0, 1.0])\n",
    "plt.title('Precision-Recall curve:LightGBM with up sampling: AP={0:0.2f}'.format(\n",
    "          average_precision))"
   ]
  },
  {
   "cell_type": "markdown",
   "metadata": {},
   "source": [
    "## 5.4 LightGBM: Combined Data"
   ]
  },
  {
   "cell_type": "code",
   "execution_count": 71,
   "metadata": {},
   "outputs": [],
   "source": [
    "start_time_lgbm_rs = time.clock()\n",
    "sk_lgb=lgb.LGBMClassifier(n_estimators=1000,boosting_type='gbdt',random_state=0)\n",
    "#sk_lgb.fit(X_resampled.values, y_resampled.values)\n",
    "sk_lgb.fit(X_train.values, y_train.values)\n",
    "end_time_lgbm_rs=time.clock() - start_time_lgbm_rs\n",
    "\n",
    "Y_pred_sk = sk_lgb.predict(X_test)"
   ]
  },
  {
   "cell_type": "code",
   "execution_count": 72,
   "metadata": {
    "scrolled": false
   },
   "outputs": [
    {
     "data": {
      "text/plain": [
       "55.44553860000087"
      ]
     },
     "execution_count": 72,
     "metadata": {},
     "output_type": "execute_result"
    }
   ],
   "source": [
    "end_time_lgbm_rs"
   ]
  },
  {
   "cell_type": "code",
   "execution_count": 27,
   "metadata": {},
   "outputs": [
    {
     "data": {
      "text/plain": [
       "0.7549517018537376"
      ]
     },
     "execution_count": 27,
     "metadata": {},
     "output_type": "execute_result"
    }
   ],
   "source": [
    "y_pred_proba_lgbmsk =sk_lgb.predict_proba(X_test)[::,1]\n",
    "fpr, tpr, _ = metrics.roc_curve(y_test,  y_pred_proba_lgbmsk)\n",
    "auc_rf_lgbmsk = metrics.roc_auc_score(y_test, y_pred_proba_lgbmsk)\n",
    "auc_rf_lgbmsk"
   ]
  },
  {
   "cell_type": "code",
   "execution_count": 26,
   "metadata": {},
   "outputs": [
    {
     "data": {
      "text/plain": [
       "0.9194513150504046"
      ]
     },
     "execution_count": 26,
     "metadata": {},
     "output_type": "execute_result"
    }
   ],
   "source": [
    "# Accuracy Rate\n",
    "accuracy_score(Y_pred_sk,y_test)"
   ]
  },
  {
   "cell_type": "code",
   "execution_count": 25,
   "metadata": {},
   "outputs": [
    {
     "data": {
      "text/plain": [
       "array([[92913,  7725],\n",
       "       [  449,   392]], dtype=int64)"
      ]
     },
     "execution_count": 25,
     "metadata": {},
     "output_type": "execute_result"
    }
   ],
   "source": [
    "# Confusion Matrix\n",
    "confusion_matrix(Y_pred_sk,y_test)"
   ]
  },
  {
   "cell_type": "code",
   "execution_count": 28,
   "metadata": {
    "scrolled": true
   },
   "outputs": [
    {
     "data": {
      "image/png": "[encoded data removed]",
      "text/plain": [
       "<Figure size 432x288 with 1 Axes>"
      ]
     },
     "metadata": {
      "needs_background": "light"
     },
     "output_type": "display_data"
    }
   ],
   "source": [
    "# ROC Curve\n",
    "plt.plot(fpr,tpr,label=\"auc=\"+str(auc_rf_lgbmsk))\n",
    "plt.plot([0, 1], [0, 1], 'k--')\n",
    "plt.title('LightGBM given  dataset data_full')\n",
    "plt.legend(loc=4)\n",
    "plt.show()"
   ]
  },
  {
   "cell_type": "code",
   "execution_count": 29,
   "metadata": {},
   "outputs": [
    {
     "data": {
      "text/plain": [
       "Text(0.5, 1.0, 'Precision-Recall curve:LightGBM given  dataset data_full: AP=0.24')"
      ]
     },
     "execution_count": 29,
     "metadata": {},
     "output_type": "execute_result"
    },
    {
     "data": {
      "image/png": "[encoded data removed]",
      "text/plain": [
       "<Figure size 432x288 with 1 Axes>"
      ]
     },
     "metadata": {
      "needs_background": "light"
     },
     "output_type": "display_data"
    }
   ],
   "source": [
    "# Precision-Recall Curve\n",
    "precision, recall, _ = precision_recall_curve(y_test, y_pred_proba_lgbmsk )\n",
    "average_precision = average_precision_score(y_test,y_pred_proba_lgbmsk )\n",
    "# In matplotlib < 1.5, plt.fill_between does not have a 'step' argument\n",
    "step_kwargs = ({'step': 'post'}\n",
    "               if 'step' in signature(plt.fill_between).parameters\n",
    "               else {})\n",
    "plt.step(recall, precision, color='b', alpha=0.2,\n",
    "         where='post')\n",
    "plt.fill_between(recall, precision, alpha=0.2, color='b', **step_kwargs)\n",
    "\n",
    "plt.xlabel('Recall')\n",
    "plt.ylabel('Precision')\n",
    "plt.ylim([0.0, 1.05])\n",
    "plt.xlim([0.0, 1.0])\n",
    "plt.title('Precision-Recall curve:LightGBM given  dataset data_full: AP={0:0.2f}'.format(\n",
    "          average_precision))"
   ]
  },
  {
   "cell_type": "markdown",
   "metadata": {},
   "source": [
    "# 6. Voting Classifier"
   ]
  },
  {
   "cell_type": "markdown",
   "metadata": {},
   "source": [
    "## 6.1 Voting Classifier: KNN"
   ]
  },
  {
   "cell_type": "code",
   "execution_count": 28,
   "metadata": {},
   "outputs": [
    {
     "data": {
      "text/plain": [
       "232.164941"
      ]
     },
     "execution_count": 28,
     "metadata": {},
     "output_type": "execute_result"
    }
   ],
   "source": [
    "start_time_knn_bag = time.clock()\n",
    "bagging = BaggingClassifier(KNeighborsClassifier(n_neighbors=5),n_estimators=10,n_jobs=-1,random_state=0) # due to the memory issue, we can only use 30 estimators\n",
    "bagging.fit(X_train, y_train) \n",
    "end_time_knn_bag=time.clock() - start_time_knn_bag\n",
    "end_time_knn_bag"
   ]
  },
  {
   "cell_type": "code",
   "execution_count": 29,
   "metadata": {},
   "outputs": [
    {
     "name": "stdout",
     "output_type": "stream",
     "text": [
      "121.17794120000053\n"
     ]
    },
    {
     "data": {
      "text/plain": [
       "0.9159727628376314"
      ]
     },
     "execution_count": 29,
     "metadata": {},
     "output_type": "execute_result"
    }
   ],
   "source": [
    "start_time_knn_bag_pred = time.clock()\n",
    "y_pred_bag = bagging.predict(X_test)\n",
    "end_time_knn_bag_pred=time.clock() - start_time_knn_bag_pred\n",
    "print(end_time_knn_bag_pred)\n",
    "accuracy_score(y_test,y_pred_bag)"
   ]
  },
  {
   "cell_type": "code",
   "execution_count": 30,
   "metadata": {},
   "outputs": [
    {
     "data": {
      "text/plain": [
       "0.5065119378041115"
      ]
     },
     "execution_count": 30,
     "metadata": {},
     "output_type": "execute_result"
    }
   ],
   "source": [
    "# AUC Score\n",
    "y_pred_proba_knn_bag =bagging.predict_proba(X_test)[::,1]\n",
    "fpr, tpr, _ = metrics.roc_curve(y_test,  y_pred_proba_knn_bag)\n",
    "auc_knn_bag = metrics.roc_auc_score(y_test, y_pred_proba_knn_bag)\n",
    "auc_knn_bag"
   ]
  },
  {
   "cell_type": "code",
   "execution_count": 31,
   "metadata": {},
   "outputs": [
    {
     "data": {
      "text/plain": [
       "array([[92914,   448],\n",
       "       [ 8079,    38]], dtype=int64)"
      ]
     },
     "execution_count": 31,
     "metadata": {},
     "output_type": "execute_result"
    }
   ],
   "source": [
    "# Confusion Matrix\n",
    "confusion_matrix(y_test,y_pred_bag)"
   ]
  },
  {
   "cell_type": "code",
   "execution_count": 32,
   "metadata": {},
   "outputs": [
    {
     "data": {
      "image/png": "[encoded data removed]",
      "text/plain": [
       "<Figure size 432x288 with 1 Axes>"
      ]
     },
     "metadata": {
      "needs_background": "light"
     },
     "output_type": "display_data"
    }
   ],
   "source": [
    "# ROC Curve\n",
    "plt.plot(fpr,tpr,label=\"auc=\"+str(auc_knn_bag))\n",
    "plt.plot([0, 1], [0, 1], 'k--')\n",
    "plt.title('Voting classifier with 10 KNN given  dataset data_full')\n",
    "plt.legend(loc=4)\n",
    "plt.show()"
   ]
  },
  {
   "cell_type": "code",
   "execution_count": 78,
   "metadata": {},
   "outputs": [
    {
     "data": {
      "text/plain": [
       "Text(0.5, 1.0, 'Precision-Recall curve:Voting classifier with 10 KNN given  dataset data_full: AP=0.08')"
      ]
     },
     "execution_count": 78,
     "metadata": {},
     "output_type": "execute_result"
    },
    {
     "data": {
      "image/png": "[encoded data removed]",
      "text/plain": [
       "<Figure size 432x288 with 1 Axes>"
      ]
     },
     "metadata": {
      "needs_background": "light"
     },
     "output_type": "display_data"
    }
   ],
   "source": [
    "# Precision-Recall Curve\n",
    "precision, recall, _ = precision_recall_curve(y_test, y_pred_proba_knn_bag)\n",
    "average_precision = average_precision_score(y_test,y_pred_proba_knn_bag)\n",
    "# In matplotlib < 1.5, plt.fill_between does not have a 'step' argument\n",
    "step_kwargs = ({'step': 'post'}\n",
    "               if 'step' in signature(plt.fill_between).parameters\n",
    "               else {})\n",
    "plt.step(recall, precision, color='b', alpha=0.2,\n",
    "         where='post')\n",
    "plt.fill_between(recall, precision, alpha=0.2, color='b', **step_kwargs)\n",
    "\n",
    "plt.xlabel('Recall')\n",
    "plt.ylabel('Precision')\n",
    "plt.ylim([0.0, 1.05])\n",
    "plt.xlim([0.0, 1.0])\n",
    "plt.title('Precision-Recall curve:Voting classifier with 10 KNN given  dataset data_full: AP={0:0.2f}'.format(\n",
    "          average_precision))"
   ]
  },
  {
   "cell_type": "markdown",
   "metadata": {},
   "source": [
    "## 6.2 Voting Classifier: LightGBM"
   ]
  },
  {
   "cell_type": "code",
   "execution_count": 64,
   "metadata": {},
   "outputs": [
    {
     "data": {
      "text/plain": [
       "10754.660219200001"
      ]
     },
     "execution_count": 64,
     "metadata": {},
     "output_type": "execute_result"
    }
   ],
   "source": [
    "start_time_bag = time.clock()\n",
    "bag = BaggingClassifier(lgbm,n_estimators=10,n_jobs=-1,random_state=0) # due to the memory issue, we can only use 30 estimators\n",
    "bag.fit(X_resampled, y_resampled) \n",
    "end_time_bag=time.clock() - start_time_knn_bag\n",
    "end_time_bag"
   ]
  },
  {
   "cell_type": "code",
   "execution_count": 65,
   "metadata": {},
   "outputs": [
    {
     "name": "stdout",
     "output_type": "stream",
     "text": [
      "48.865148099997896\n"
     ]
    },
    {
     "data": {
      "text/plain": [
       "0.9197370884616521"
      ]
     },
     "execution_count": 65,
     "metadata": {},
     "output_type": "execute_result"
    }
   ],
   "source": [
    "start_time_bag = time.clock()\n",
    "y_pred_bag = bag.predict(X_test)\n",
    "end_time_bag=time.clock() - start_time_bag\n",
    "print(end_time_bag)\n",
    "accuracy_score(y_test,y_pred_bag)"
   ]
  },
  {
   "cell_type": "code",
   "execution_count": null,
   "metadata": {},
   "outputs": [],
   "source": [
    "# AUC Score\n",
    "y_pred_proba_bag=eclf1.predict_proba(X_test)[::,1]\n",
    "fpr, tpr, _ = metrics.roc_curve(y_test,  y_pred_proba_bag)\n",
    "auc_bag = metrics.roc_auc_score(y_test, y_pred_proba_bag)\n",
    "auc_bag"
   ]
  },
  {
   "cell_type": "code",
   "execution_count": 68,
   "metadata": {
    "scrolled": true
   },
   "outputs": [
    {
     "data": {
      "text/plain": [
       "array([[93075,  7858],\n",
       "       [  287,   259]], dtype=int64)"
      ]
     },
     "execution_count": 68,
     "metadata": {},
     "output_type": "execute_result"
    }
   ],
   "source": [
    "# Confusion Matrix\n",
    "confusion_matrix(y_pred_bag,y_test)"
   ]
  },
  {
   "cell_type": "code",
   "execution_count": 82,
   "metadata": {
    "scrolled": true
   },
   "outputs": [
    {
     "data": {
      "image/png": "[encoded data removed]",
      "text/plain": [
       "<Figure size 432x288 with 1 Axes>"
      ]
     },
     "metadata": {
      "needs_background": "light"
     },
     "output_type": "display_data"
    }
   ],
   "source": [
    "# ROC Curve\n",
    "plt.plot(fpr,tpr,label=\"auc=\"+str(auc_bag))\n",
    "plt.plot([0, 1], [0, 1], 'k--')\n",
    "plt.title('Voting classifier with 10 Lightgbm given  dataset data_full')\n",
    "plt.legend(loc=4)\n",
    "plt.show()"
   ]
  },
  {
   "cell_type": "code",
   "execution_count": 83,
   "metadata": {},
   "outputs": [
    {
     "data": {
      "text/plain": [
       "Text(0.5, 1.0, 'Precision-Recall curve:Voting classifier with 10 Lightgbm  given  dataset data_full: AP=0.22')"
      ]
     },
     "execution_count": 83,
     "metadata": {},
     "output_type": "execute_result"
    },
    {
     "data": {
      "image/png": "[encoded data removed]",
      "text/plain": [
       "<Figure size 432x288 with 1 Axes>"
      ]
     },
     "metadata": {
      "needs_background": "light"
     },
     "output_type": "display_data"
    }
   ],
   "source": [
    "# Precision-Recall Curve\n",
    "precision, recall, _ = precision_recall_curve(y_test, y_pred_proba_bag)\n",
    "average_precision = average_precision_score(y_test,y_pred_proba_bag)\n",
    "# In matplotlib < 1.5, plt.fill_between does not have a 'step' argument\n",
    "step_kwargs = ({'step': 'post'}\n",
    "               if 'step' in signature(plt.fill_between).parameters\n",
    "               else {})\n",
    "plt.step(recall, precision, color='b', alpha=0.2,\n",
    "         where='post')\n",
    "plt.fill_between(recall, precision, alpha=0.2, color='b', **step_kwargs)\n",
    "\n",
    "plt.xlabel('Recall')\n",
    "plt.ylabel('Precision')\n",
    "plt.ylim([0.0, 1.05])\n",
    "plt.xlim([0.0, 1.0])\n",
    "plt.title('Precision-Recall curve:Voting classifier with 10 Lightgbm  given  dataset data_full: AP={0:0.2f}'.format(\n",
    "          average_precision))"
   ]
  },
  {
   "cell_type": "markdown",
   "metadata": {},
   "source": [
    "## 6.3 Voting Classifier: Random Forest & LightGBM"
   ]
  },
  {
   "cell_type": "code",
   "execution_count": 73,
   "metadata": {},
   "outputs": [
    {
     "data": {
      "text/plain": [
       "VotingClassifier(estimators=[('rf', RandomForestClassifier(bootstrap=True, class_weight=None, criterion='gini',\n",
       "            max_depth=None, max_features='auto', max_leaf_nodes=None,\n",
       "            min_impurity_decrease=0.0, min_impurity_split=None,\n",
       "            min_samples_leaf=10, min_samples_split=20,\n",
       "            min_...0, reg_lambda=0.0, silent=True,\n",
       "        subsample=1.0, subsample_for_bin=200000, subsample_freq=0))],\n",
       "         flatten_transform=None, n_jobs=None, voting='soft', weights=None)"
      ]
     },
     "execution_count": 73,
     "metadata": {},
     "output_type": "execute_result"
    }
   ],
   "source": [
    "# RF with resampling\n",
    "eclf1 = VotingClassifier(estimators=[ ('rf', rf), ('lgbm', lgbm),('sk_lgb',sk_lgb)], voting='soft')\n",
    "eclf1.fit(X_resampled, y_resampled)"
   ]
  },
  {
   "cell_type": "code",
   "execution_count": 69,
   "metadata": {},
   "outputs": [
    {
     "data": {
      "text/plain": [
       "array([[92914,  8079],\n",
       "       [  448,    38]], dtype=int64)"
      ]
     },
     "execution_count": 69,
     "metadata": {},
     "output_type": "execute_result"
    }
   ],
   "source": [
    "# Confusion Matrix\n",
    "confusion_matrix(y_pred_eclf,y_test)"
   ]
  },
  {
   "cell_type": "code",
   "execution_count": 74,
   "metadata": {},
   "outputs": [
    {
     "name": "stdout",
     "output_type": "stream",
     "text": [
      "5.698382599999604\n"
     ]
    },
    {
     "data": {
      "text/plain": [
       "0.9194020437726032"
      ]
     },
     "execution_count": 74,
     "metadata": {},
     "output_type": "execute_result"
    }
   ],
   "source": [
    "# Accuracy Rate\n",
    "start_time_eclf = time.clock()\n",
    "y_pred_eclf = eclf1.predict(X_test)\n",
    "end_time_eclf=time.clock() - start_time_eclf\n",
    "print(end_time_eclf)\n",
    "accuracy_score(y_test,y_pred_eclf)"
   ]
  },
  {
   "cell_type": "code",
   "execution_count": 75,
   "metadata": {
    "scrolled": true
   },
   "outputs": [
    {
     "data": {
      "text/plain": [
       "0.7428410808309867"
      ]
     },
     "execution_count": 75,
     "metadata": {},
     "output_type": "execute_result"
    }
   ],
   "source": [
    "# AUC Score\n",
    "y_pred_proba_eclf =eclf1.predict_proba(X_test)[::,1]\n",
    "fpr, tpr, _ = metrics.roc_curve(y_test,  y_pred_proba_eclf)\n",
    "auc_knn_eclf = metrics.roc_auc_score(y_test, y_pred_proba_eclf)\n",
    "auc_knn_eclf"
   ]
  },
  {
   "cell_type": "code",
   "execution_count": 76,
   "metadata": {},
   "outputs": [
    {
     "data": {
      "image/png": "[encoded data removed]",
      "text/plain": [
       "<Figure size 432x288 with 1 Axes>"
      ]
     },
     "metadata": {
      "needs_background": "light"
     },
     "output_type": "display_data"
    }
   ],
   "source": [
    "# ROC Curve\n",
    "plt.plot(fpr,tpr,label=\"auc=\"+str(auc_knn_eclf))\n",
    "plt.plot([0, 1], [0, 1], 'k--')\n",
    "plt.title('Voting classifier with Lgbm and RF given  dataset data_full')\n",
    "plt.legend(loc=4)\n",
    "plt.show()"
   ]
  },
  {
   "cell_type": "code",
   "execution_count": 77,
   "metadata": {},
   "outputs": [
    {
     "data": {
      "text/plain": [
       "Text(0.5, 1.0, 'Precision-Recall curve:Voting classifier with Lgbm and RF given  dataset data_full: AP=0.22')"
      ]
     },
     "execution_count": 77,
     "metadata": {},
     "output_type": "execute_result"
    },
    {
     "data": {
      "image/png": "[encoded data removed]",
      "text/plain": [
       "<Figure size 432x288 with 1 Axes>"
      ]
     },
     "metadata": {
      "needs_background": "light"
     },
     "output_type": "display_data"
    }
   ],
   "source": [
    "# Precision-Recall Curve\n",
    "precision, recall, _ = precision_recall_curve(y_test, y_pred_proba_eclf)\n",
    "average_precision = average_precision_score(y_test,y_pred_proba_eclf)\n",
    "# In matplotlib < 1.5, plt.fill_between does not have a 'step' argument\n",
    "step_kwargs = ({'step': 'post'}\n",
    "               if 'step' in signature(plt.fill_between).parameters\n",
    "               else {})\n",
    "plt.step(recall, precision, color='b', alpha=0.2,\n",
    "         where='post')\n",
    "plt.fill_between(recall, precision, alpha=0.2, color='b', **step_kwargs)\n",
    "\n",
    "plt.xlabel('Recall')\n",
    "plt.ylabel('Precision')\n",
    "plt.ylim([0.0, 1.05])\n",
    "plt.xlim([0.0, 1.0])\n",
    "plt.title('Precision-Recall curve:Voting classifier with Lgbm and RF given  dataset data_full: AP={0:0.2f}'.format(\n",
    "          average_precision))"
   ]
  }
 ],
 "metadata": {
  "kernelspec": {
   "display_name": "Python 3",
   "language": "python",
   "name": "python3"
  },
  "language_info": {
   "codemirror_mode": {
    "name": "ipython",
    "version": 3
   },
   "file_extension": ".py",
   "mimetype": "text/x-python",
   "name": "python",
   "nbconvert_exporter": "python",
   "pygments_lexer": "ipython3",
   "version": "3.6.5"
  }
 },
 "nbformat": 4,
 "nbformat_minor": 2
}
